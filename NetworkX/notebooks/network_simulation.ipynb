{
 "cells": [
  {
   "attachments": {},
   "cell_type": "markdown",
   "metadata": {},
   "source": [
    "# Import"
   ]
  },
  {
   "cell_type": "code",
   "execution_count": 1,
   "metadata": {},
   "outputs": [],
   "source": [
    "import numpy as np\n",
    "import networkx as nx\n",
    "import pandas as pd\n",
    "import itertools\n",
    "import plotly.express as px\n",
    "import plotly.graph_objects as go"
   ]
  },
  {
   "attachments": {},
   "cell_type": "markdown",
   "metadata": {},
   "source": [
    "# Setup"
   ]
  },
  {
   "cell_type": "code",
   "execution_count": 2,
   "metadata": {},
   "outputs": [],
   "source": []
  },
  {
   "cell_type": "code",
   "execution_count": 4,
   "metadata": {},
   "outputs": [],
   "source": [
    "def graph_to_plotly(G):\n",
    "    for node in G.nodes:\n",
    "        T = len(G.nodes[node]['pos'][0])\n",
    "    \n",
    "    edges_pos ={'x': [], 'y': []}\n",
    "    for t in range(T):\n",
    "        edges_pos['x'].append([])\n",
    "        edges_pos['y'].append([])\n",
    "        for edge in G.edges:\n",
    "            edges_pos['x'][t].append(G.nodes[edge[0]]['pos'][0][t])\n",
    "            edges_pos['x'][t].append(G.nodes[edge[1]]['pos'][0][t])\n",
    "            edges_pos['x'][t].append(None)\n",
    "            \n",
    "            edges_pos['y'][t].append(G.nodes[edge[0]]['pos'][1][t])\n",
    "            edges_pos['y'][t].append(G.nodes[edge[1]]['pos'][1][t])\n",
    "            edges_pos['y'][t].append(None)\n",
    "    \n",
    "    node_pos = {'x': [], 'y': []}\n",
    "    for t in range(T):\n",
    "        node_pos['x'].append([])\n",
    "        node_pos['y'].append([])\n",
    "        for node in G.nodes:\n",
    "            node_pos['x'][t].append(G.nodes[node]['pos'][0][t])\n",
    "            node_pos['y'][t].append(G.nodes[node]['pos'][1][t])\n",
    "    \n",
    "    return node_pos, edges_pos"
   ]
  },
  {
   "cell_type": "code",
   "execution_count": 5,
   "metadata": {},
   "outputs": [],
   "source": [
    "def animate_network(node_pos, edge_pos):\n",
    "    T = len(node_pos['x'])\n",
    "    fig = go.Figure(\n",
    "        data=[go.Scatter(x=node_pos['x'][0], y=node_pos['y'][0],\n",
    "                        name=\"frame\",\n",
    "                        mode=\"markers\",\n",
    "                        line=dict(width=2, color=\"blue\")),\n",
    "            go.Scatter(x=edge_pos['x'][0], y=edge_pos['y'][0],\n",
    "                        name=\"curve\",\n",
    "                        mode=\"lines\",\n",
    "                        line=dict(width=2, color=\"blue\"))\n",
    "            ],\n",
    "        layout=go.Layout(width=600, height=600,\n",
    "                        xaxis=dict(range=[-5, 5], autorange=False, zeroline=False),\n",
    "                        yaxis=dict(range=[-5, 5], autorange=False, zeroline=False),\n",
    "                        title=\"Moving Frenet Frame Along a Planar Curve\",\n",
    "                        hovermode=\"closest\",\n",
    "                        updatemenus=[dict(type=\"buttons\",\n",
    "                                        buttons=[dict(label=\"Play\",\n",
    "                                                        method=\"animate\",\n",
    "                                                        args=[None])])]\n",
    "                        ),\n",
    "        frames=[go.Frame(\n",
    "            data=[go.Scatter(\n",
    "                x= edge_pos['x'][k],\n",
    "                y= edge_pos['y'][k],\n",
    "                mode=\"lines\",\n",
    "                line=dict(color=\"red\", width=2))\n",
    "            ,\n",
    "            go.Scatter(\n",
    "                x= node_pos['x'][k],\n",
    "                y= node_pos['y'][k],\n",
    "                mode=\"markers\",\n",
    "                line=dict(color=\"blue\", width=2))\n",
    "            ]) for k in range(T)]\n",
    "    )\n",
    "\n",
    "    fig.show()"
   ]
  },
  {
   "cell_type": "code",
   "execution_count": 80,
   "metadata": {},
   "outputs": [],
   "source": [
    "def log_force(p1, p2):\n",
    "    eps = 0.00001\n",
    "    r = np.linalg.norm(p1-p2)\n",
    "    return -np.log(r+eps)/r*(p1-p2)\n",
    "\n",
    "def log_square_force(p1, p2):\n",
    "    eps = 0.00001\n",
    "    r = np.linalg.norm(p1-p2)\n",
    "    return -(np.log(r+eps+np.exp(r)-1)-1)/r*(p1-p2)\n",
    "\n",
    "def gravity_force(p1, p2):\n",
    "    eps = 0.00001\n",
    "    r = np.linalg.norm(p1-p2)\n",
    "    return -1/(r+eps)**3*(p1-p2)\n",
    "\n",
    "def zero_force(p1, p2):\n",
    "    return 0.0*(p1-p2)\n",
    "\n",
    "def spring_force(p1, p2):\n",
    "    eps = 0.00001\n",
    "    r = np.linalg.norm(p1-p2)\n",
    "    return (1-r)*(p1-p2)\n",
    "\n"
   ]
  },
  {
   "cell_type": "code",
   "execution_count": 81,
   "metadata": {},
   "outputs": [],
   "source": [
    "def get_index_maps(G):\n",
    "    node_to_index = {}\n",
    "    index_to_node = {}\n",
    "    current_i = 0\n",
    "    for node in G.nodes:\n",
    "        node_to_index[str(node)] = current_i\n",
    "        index_to_node[current_i] = str(node)\n",
    "        current_i += 1\n",
    "    return node_to_index, index_to_node"
   ]
  },
  {
   "cell_type": "code",
   "execution_count": 82,
   "metadata": {},
   "outputs": [],
   "source": [
    "def get_connection_matrix(G, node_to_index, num_nodes):\n",
    "    connected = np.zeros((num_nodes, num_nodes), dtype=bool)\n",
    "    for edge in G.edges:\n",
    "        connected[node_to_index[edge[0]], node_to_index[edge[1]]] = True\n",
    "        connected[node_to_index[edge[1]], node_to_index[edge[0]]] = True\n",
    "    return connected"
   ]
  },
  {
   "cell_type": "code",
   "execution_count": 123,
   "metadata": {},
   "outputs": [],
   "source": [
    "def simulate(G, num_frames=100, force_scale = 0.1, general_force=spring_force, connected_force=spring_force):\n",
    "    num_nodes = G.number_of_nodes()\n",
    "    node_to_index, index_to_node = get_index_maps(G)\n",
    "    connected = get_connection_matrix(G, node_to_index, num_nodes)\n",
    "    # init\n",
    "    pos = np.zeros((2,G.number_of_nodes(), num_frames), dtype=float)\n",
    "    vel = np.zeros((2,G.number_of_nodes()), dtype=float)\n",
    "    acc = np.zeros((2,), dtype=float)\n",
    "    pos[:, :, 0] = np.random.normal(0, np.sqrt(num_nodes), (2, num_nodes))\n",
    "    (D, N, T) = pos.shape\n",
    "\n",
    "    for t in range(T-1): \n",
    "        for n in range(N):\n",
    "            acc[:] = 0\n",
    "            for n2 in range(N):\n",
    "                if n2 == n: continue\n",
    "                acc[:] += force_scale*general_force(pos[:, n, t], pos[:, n2, t])\n",
    "                if connected[n, n2]:\n",
    "                    acc[:] += force_scale*connected_force(pos[:, n, t], pos[:, n2, t])\n",
    "            \n",
    "\n",
    "            vel[:, n] = (vel[:, n] + acc[:])\n",
    "            pos[:, n, t+1] = pos[:, n, t] + vel[:, n]\n",
    "            \n",
    "    for node in G.nodes:\n",
    "        G.nodes[node]['pos'] = pos[:, node_to_index[node], :]\n",
    "                "
   ]
  },
  {
   "attachments": {},
   "cell_type": "markdown",
   "metadata": {},
   "source": [
    "# Ploting"
   ]
  },
  {
   "cell_type": "code",
   "execution_count": 124,
   "metadata": {},
   "outputs": [],
   "source": [
    "G = nx.Graph()\n",
    "N = 10\n",
    "i = [i for i in range(N)]\n",
    "s = [np.sin(i/6) for i in range(N)]\n",
    "c = [np.cos(i/6) for i in range(N)]\n",
    "t = [(i-N/2)/2 for i in range(N)]\n",
    "\n",
    "G.add_node('A')\n",
    "G.add_node('B')\n",
    "G.add_node('C')\n",
    "G.add_edge('A', 'B')\n",
    "G.add_edge('B', 'A')\n",
    "G.add_edge('A', 'C')\n",
    "G.add_edge('C', 'A')\n"
   ]
  },
  {
   "cell_type": "code",
   "execution_count": 125,
   "metadata": {},
   "outputs": [],
   "source": [
    "simulate(G, force_scale=0.01, general_force=log_force, connected_force=log_square_force)"
   ]
  },
  {
   "cell_type": "code",
   "execution_count": 126,
   "metadata": {},
   "outputs": [
    {
     "data": {
      "application/vnd.plotly.v1+json": {
       "config": {
        "plotlyServerURL": "https://plot.ly"
       },
       "data": [
        {
         "line": {
          "color": "blue",
          "width": 2
         },
         "mode": "markers",
         "name": "frame",
         "type": "scatter",
         "x": [
          1.366159861988835,
          2.877986637398959,
          -0.18640168347283814
         ],
         "y": [
          1.9532932136822432,
          1.1449997887841508,
          -1.823343136557916
         ]
        },
        {
         "line": {
          "color": "blue",
          "width": 2
         },
         "mode": "lines",
         "name": "curve",
         "type": "scatter",
         "x": [
          1.366159861988835,
          2.877986637398959,
          null,
          1.366159861988835,
          -0.18640168347283814,
          null
         ],
         "y": [
          1.9532932136822432,
          1.1449997887841508,
          null,
          1.9532932136822432,
          -1.823343136557916,
          null
         ]
        }
       ],
       "frames": [
        {
         "data": [
          {
           "line": {
            "color": "red",
            "width": 2
           },
           "mode": "lines",
           "type": "scatter",
           "x": [
            1.366159861988835,
            2.877986637398959,
            null,
            1.366159861988835,
            -0.18640168347283814,
            null
           ],
           "y": [
            1.9532932136822432,
            1.1449997887841508,
            null,
            1.9532932136822432,
            -1.823343136557916,
            null
           ]
          },
          {
           "line": {
            "color": "blue",
            "width": 2
           },
           "mode": "markers",
           "type": "scatter",
           "x": [
            1.366159861988835,
            2.877986637398959,
            -0.18640168347283814
           ],
           "y": [
            1.9532932136822432,
            1.1449997887841508,
            -1.823343136557916
           ]
          }
         ]
        },
        {
         "data": [
          {
           "line": {
            "color": "red",
            "width": 2
           },
           "mode": "lines",
           "type": "scatter",
           "x": [
            1.3610148212770412,
            2.855445915232154,
            null,
            1.3610148212770412,
            -0.15871592059423925,
            null
           ],
           "y": [
            1.9048147576445182,
            1.141386097187491,
            null,
            1.9048147576445182,
            -1.7712509889235313,
            null
           ]
          },
          {
           "line": {
            "color": "blue",
            "width": 2
           },
           "mode": "markers",
           "type": "scatter",
           "x": [
            1.3610148212770412,
            2.855445915232154,
            -0.15871592059423925
           ],
           "y": [
            1.9048147576445182,
            1.141386097187491,
            -1.7712509889235313
           ]
          }
         ]
        },
        {
         "data": [
          {
           "line": {
            "color": "red",
            "width": 2
           },
           "mode": "lines",
           "type": "scatter",
           "x": [
            1.350721497748385,
            2.8108889105388877,
            null,
            1.350721497748385,
            -0.10386559237231661,
            null
           ],
           "y": [
            1.8095730939615342,
            1.1337967123443249,
            null,
            1.8095730939615342,
            -1.6684199403973812,
            null
           ]
          },
          {
           "line": {
            "color": "blue",
            "width": 2
           },
           "mode": "markers",
           "type": "scatter",
           "x": [
            1.350721497748385,
            2.8108889105388877,
            -0.10386559237231661
           ],
           "y": [
            1.8095730939615342,
            1.1337967123443249,
            -1.6684199403973812
           ]
          }
         ]
        },
        {
         "data": [
          {
           "line": {
            "color": "red",
            "width": 2
           },
           "mode": "lines",
           "type": "scatter",
           "x": [
            1.3352676290556311,
            2.745374596897656,
            null,
            1.3352676290556311,
            -0.022897410038331234,
            null
           ],
           "y": [
            1.6709249584919597,
            1.1215631055734172,
            null,
            1.6709249584919597,
            -1.517538198156899,
            null
           ]
          },
          {
           "line": {
            "color": "blue",
            "width": 2
           },
           "mode": "markers",
           "type": "scatter",
           "x": [
            1.3352676290556311,
            2.745374596897656,
            -0.022897410038331234
           ],
           "y": [
            1.6709249584919597,
            1.1215631055734172,
            -1.517538198156899
           ]
          }
         ]
        },
        {
         "data": [
          {
           "line": {
            "color": "red",
            "width": 2
           },
           "mode": "lines",
           "type": "scatter",
           "x": [
            1.3146308879912216,
            2.6605091488688233,
            null,
            1.3146308879912216,
            0.08260477905491087,
            null
           ],
           "y": [
            1.4937181649406481,
            1.103829323893948,
            null,
            1.4937181649406481,
            -1.322597622926118,
            null
           ]
          },
          {
           "line": {
            "color": "blue",
            "width": 2
           },
           "mode": "markers",
           "type": "scatter",
           "x": [
            1.3146308879912216,
            2.6605091488688233,
            0.08260477905491087
           ],
           "y": [
            1.4937181649406481,
            1.103829323893948,
            -1.322597622926118
           ]
          }
         ]
        },
        {
         "data": [
          {
           "line": {
            "color": "red",
            "width": 2
           },
           "mode": "lines",
           "type": "scatter",
           "x": [
            1.2888130710710868,
            2.558439057824035,
            null,
            1.2888130710710868,
            0.2104926870198341,
            null
           ],
           "y": [
            1.2840652556325036,
            1.0797481797597022,
            null,
            1.2840652556325036,
            -1.0888635694837276,
            null
           ]
          },
          {
           "line": {
            "color": "blue",
            "width": 2
           },
           "mode": "markers",
           "type": "scatter",
           "x": [
            1.2888130710710868,
            2.558439057824035,
            0.2104926870198341
           ],
           "y": [
            1.2840652556325036,
            1.0797481797597022,
            -1.0888635694837276
           ]
          }
         ]
        },
        {
         "data": [
          {
           "line": {
            "color": "red",
            "width": 2
           },
           "mode": "lines",
           "type": "scatter",
           "x": [
            1.2579798595865777,
            2.4417755898186595,
            null,
            1.2579798595865777,
            0.35798936650971863,
            null
           ],
           "y": [
            1.0490707230584932,
            1.0487579535705218,
            null,
            1.0490707230584932,
            -0.8228788107205369,
            null
           ]
          },
          {
           "line": {
            "color": "blue",
            "width": 2
           },
           "mode": "markers",
           "type": "scatter",
           "x": [
            1.2579798595865777,
            2.4417755898186595,
            0.35798936650971863
           ],
           "y": [
            1.0490707230584932,
            1.0487579535705218,
            -0.8228788107205369
           ]
          }
         ]
        },
        {
         "data": [
          {
           "line": {
            "color": "red",
            "width": 2
           },
           "mode": "lines",
           "type": "scatter",
           "x": [
            1.222836674249971,
            2.3133769451252526,
            null,
            1.222836674249971,
            0.521531196539732,
            null
           ],
           "y": [
            0.7966394401190025,
            1.0108864398729003,
            null,
            0.7966394401190025,
            -0.5325760140834246,
            null
           ]
          },
          {
           "line": {
            "color": "blue",
            "width": 2
           },
           "mode": "markers",
           "type": "scatter",
           "x": [
            1.222836674249971,
            2.3133769451252526,
            0.521531196539732
           ],
           "y": [
            0.7966394401190025,
            1.0108864398729003,
            -0.5325760140834246
           ]
          }
         ]
        },
        {
         "data": [
          {
           "line": {
            "color": "red",
            "width": 2
           },
           "mode": "lines",
           "type": "scatter",
           "x": [
            1.1854335200107904,
            2.1759739643151836,
            null,
            1.1854335200107904,
            0.6963373315889816,
            null
           ],
           "y": [
            0.5357070364672186,
            0.9669095134763239,
            null,
            0.5357070364672186,
            -0.22766668403506446,
            null
           ]
          },
          {
           "line": {
            "color": "blue",
            "width": 2
           },
           "mode": "markers",
           "type": "scatter",
           "x": [
            1.1854335200107904,
            2.1759739643151836,
            0.6963373315889816
           ],
           "y": [
            0.5357070364672186,
            0.9669095134763239,
            -0.22766668403506446
           ]
          }
         ]
        },
        {
         "data": [
          {
           "line": {
            "color": "red",
            "width": 2
           },
           "mode": "lines",
           "type": "scatter",
           "x": [
            1.1509620689593938,
            2.031878295039461,
            null,
            1.1509620689593938,
            0.8749044519161009,
            null
           ],
           "y": [
            0.2774464089551954,
            0.9181586469524203,
            null,
            0.2774464089551954,
            0.07934481000086241,
            null
           ]
          },
          {
           "line": {
            "color": "blue",
            "width": 2
           },
           "mode": "markers",
           "type": "scatter",
           "x": [
            1.1509620689593938,
            2.031878295039461,
            0.8749044519161009
           ],
           "y": [
            0.2774464089551954,
            0.9181586469524203,
            0.07934481000086241
           ]
          }
         ]
        },
        {
         "data": [
          {
           "line": {
            "color": "red",
            "width": 2
           },
           "mode": "lines",
           "type": "scatter",
           "x": [
            1.1374357816883824,
            1.8832391421501375,
            null,
            1.1374357816883824,
            1.0370698920764359,
            null
           ],
           "y": [
            0.0342322917060435,
            0.8661098923401553,
            null,
            0.0342322917060435,
            0.37460768186227933,
            null
           ]
          },
          {
           "line": {
            "color": "blue",
            "width": 2
           },
           "mode": "markers",
           "type": "scatter",
           "x": [
            1.1374357816883824,
            1.8832391421501375,
            1.0370698920764359
           ],
           "y": [
            0.0342322917060435,
            0.8661098923401553,
            0.37460768186227933
           ]
          }
         ]
        },
        {
         "data": [
          {
           "line": {
            "color": "red",
            "width": 2
           },
           "mode": "lines",
           "type": "scatter",
           "x": [
            1.1321415890002853,
            1.7330131990570175,
            null,
            1.1321415890002853,
            1.192590027857653,
            null
           ],
           "y": [
            -0.22890415203354222,
            0.8121910729900106,
            null,
            -0.22890415203354222,
            0.6916629449520099,
            null
           ]
          },
          {
           "line": {
            "color": "blue",
            "width": 2
           },
           "mode": "markers",
           "type": "scatter",
           "x": [
            1.1321415890002853,
            1.7330131990570175,
            1.192590027857653
           ],
           "y": [
            -0.22890415203354222,
            0.8121910729900106,
            0.6916629449520099
           ]
          }
         ]
        },
        {
         "data": [
          {
           "line": {
            "color": "red",
            "width": 2
           },
           "mode": "lines",
           "type": "scatter",
           "x": [
            1.1289480282929785,
            1.586331963770813,
            null,
            1.1289480282929785,
            1.342464823851164,
            null
           ],
           "y": [
            -0.49007515557040815,
            0.7557043994655527,
            null,
            -0.49007515557040815,
            1.0093206220133337,
            null
           ]
          },
          {
           "line": {
            "color": "blue",
            "width": 2
           },
           "mode": "markers",
           "type": "scatter",
           "x": [
            1.1289480282929785,
            1.586331963770813,
            1.342464823851164
           ],
           "y": [
            -0.49007515557040815,
            0.7557043994655527,
            1.0093206220133337
           ]
          }
         ]
        },
        {
         "data": [
          {
           "line": {
            "color": "red",
            "width": 2
           },
           "mode": "lines",
           "type": "scatter",
           "x": [
            1.1296056113304984,
            1.4445012214129545,
            null,
            1.1296056113304984,
            1.4836379831715027,
            null
           ],
           "y": [
            -0.7344733545722039,
            0.6851802591133823,
            null,
            -0.7344733545722039,
            1.3242429613673,
            null
           ]
          },
          {
           "line": {
            "color": "blue",
            "width": 2
           },
           "mode": "markers",
           "type": "scatter",
           "x": [
            1.1296056113304984,
            1.4445012214129545,
            1.4836379831715027
           ],
           "y": [
            -0.7344733545722039,
            0.6851802591133823,
            1.3242429613673
           ]
          }
         ]
        },
        {
         "data": [
          {
           "line": {
            "color": "red",
            "width": 2
           },
           "mode": "lines",
           "type": "scatter",
           "x": [
            1.1355842306465673,
            1.30038528203108,
            null,
            1.1355842306465673,
            1.6217753032373081,
            null
           ],
           "y": [
            -0.9505594337650582,
            0.6011320844513002,
            null,
            -0.9505594337650582,
            1.6243772152222364,
            null
           ]
          },
          {
           "line": {
            "color": "blue",
            "width": 2
           },
           "mode": "markers",
           "type": "scatter",
           "x": [
            1.1355842306465673,
            1.30038528203108,
            1.6217753032373081
           ],
           "y": [
            -0.9505594337650582,
            0.6011320844513002,
            1.6243772152222364
           ]
          }
         ]
        },
        {
         "data": [
          {
           "line": {
            "color": "red",
            "width": 2
           },
           "mode": "lines",
           "type": "scatter",
           "x": [
            1.147742922014063,
            1.155299842808688,
            null,
            1.147742922014063,
            1.7547020510922045,
            null
           ],
           "y": [
            -1.1290567613468994,
            0.5066478127909069,
            null,
            -1.1290567613468994,
            1.897358814464471,
            null
           ]
          },
          {
           "line": {
            "color": "blue",
            "width": 2
           },
           "mode": "markers",
           "type": "scatter",
           "x": [
            1.147742922014063,
            1.155299842808688,
            1.7547020510922045
           ],
           "y": [
            -1.1290567613468994,
            0.5066478127909069,
            1.897358814464471
           ]
          }
         ]
        },
        {
         "data": [
          {
           "line": {
            "color": "red",
            "width": 2
           },
           "mode": "lines",
           "type": "scatter",
           "x": [
            1.1664575607371392,
            1.011799561399459,
            null,
            1.1664575607371392,
            1.8794876937783571,
            null
           ],
           "y": [
            -1.262705988457822,
            0.4035291945601611,
            null,
            -1.262705988457822,
            2.1341266598061397,
            null
           ]
          },
          {
           "line": {
            "color": "blue",
            "width": 2
           },
           "mode": "markers",
           "type": "scatter",
           "x": [
            1.1664575607371392,
            1.011799561399459,
            1.8794876937783571
           ],
           "y": [
            -1.262705988457822,
            0.4035291945601611,
            2.1341266598061397
           ]
          }
         ]
        },
        {
         "data": [
          {
           "line": {
            "color": "red",
            "width": 2
           },
           "mode": "lines",
           "type": "scatter",
           "x": [
            1.1917484746804687,
            0.8724682400743009,
            null,
            1.1917484746804687,
            1.9935281011601858,
            null
           ],
           "y": [
            -1.3462542722204487,
            0.29329951425014095,
            null,
            -1.3462542722204487,
            2.3279046238787866,
            null
           ]
          },
          {
           "line": {
            "color": "blue",
            "width": 2
           },
           "mode": "markers",
           "type": "scatter",
           "x": [
            1.1917484746804687,
            0.8724682400743009,
            1.9935281011601858
           ],
           "y": [
            -1.3462542722204487,
            0.29329951425014095,
            2.3279046238787866
           ]
          }
         ]
        },
        {
         "data": [
          {
           "line": {
            "color": "red",
            "width": 2
           },
           "mode": "lines",
           "type": "scatter",
           "x": [
            1.2233928664884903,
            0.7396936014141097,
            null,
            1.2233928664884903,
            2.0946583480123553,
            null
           ],
           "y": [
            -1.376499582022939,
            0.1776702192611424,
            null,
            -1.376499582022939,
            2.4737792286702756,
            null
           ]
          },
          {
           "line": {
            "color": "blue",
            "width": 2
           },
           "mode": "markers",
           "type": "scatter",
           "x": [
            1.2233928664884903,
            0.7396936014141097,
            2.0946583480123553
           ],
           "y": [
            -1.376499582022939,
            0.1776702192611424,
            2.4737792286702756
           ]
          }
         ]
        },
        {
         "data": [
          {
           "line": {
            "color": "red",
            "width": 2
           },
           "mode": "lines",
           "type": "scatter",
           "x": [
            1.2610370422133865,
            0.6155611523776178,
            null,
            1.2610370422133865,
            2.181146621323951,
            null
           ],
           "y": [
            -1.3523082369447148,
            0.05873122341197359,
            null,
            -1.3523082369447148,
            2.56852687944122,
            null
           ]
          },
          {
           "line": {
            "color": "blue",
            "width": 2
           },
           "mode": "markers",
           "type": "scatter",
           "x": [
            1.2610370422133865,
            0.6155611523776178,
            2.181146621323951
           ],
           "y": [
            -1.3523082369447148,
            0.05873122341197359,
            2.56852687944122
           ]
          }
         ]
        },
        {
         "data": [
          {
           "line": {
            "color": "red",
            "width": 2
           },
           "mode": "lines",
           "type": "scatter",
           "x": [
            1.3043181304227927,
            0.5017510905488239,
            null,
            1.3043181304227927,
            2.2516755949433387,
            null
           ],
           "y": [
            -1.2745525871322203,
            -0.06102314976326621,
            null,
            -1.2745525871322203,
            2.610525602803966,
            null
           ]
          },
          {
           "line": {
            "color": "blue",
            "width": 2
           },
           "mode": "markers",
           "type": "scatter",
           "x": [
            1.3043181304227927,
            0.5017510905488239,
            2.2516755949433387
           ],
           "y": [
            -1.2745525871322203,
            -0.06102314976326621,
            2.610525602803966
           ]
          }
         ]
        },
        {
         "data": [
          {
           "line": {
            "color": "red",
            "width": 2
           },
           "mode": "lines",
           "type": "scatter",
           "x": [
            1.3529796679501922,
            0.3994379595989559,
            null,
            1.3529796679501922,
            2.305327188365807,
            null
           ],
           "y": [
            -1.1459121569911614,
            -0.17882772386887957,
            null,
            -1.1459121569911614,
            2.5996897467685205,
            null
           ]
          },
          {
           "line": {
            "color": "blue",
            "width": 2
           },
           "mode": "markers",
           "type": "scatter",
           "x": [
            1.3529796679501922,
            0.3994379595989559,
            2.305327188365807
           ],
           "y": [
            -1.1459121569911614,
            -0.17882772386887957,
            2.5996897467685205
           ]
          }
         ]
        },
        {
         "data": [
          {
           "line": {
            "color": "red",
            "width": 2
           },
           "mode": "lines",
           "type": "scatter",
           "x": [
            1.4068934764431302,
            0.30927806898641197,
            null,
            1.4068934764431302,
            2.341573270485413,
            null
           ],
           "y": [
            -0.9704826930786741,
            -0.29197227560762284,
            null,
            -0.9704826930786741,
            2.5374048345947764,
            null
           ]
          },
          {
           "line": {
            "color": "blue",
            "width": 2
           },
           "mode": "markers",
           "type": "scatter",
           "x": [
            1.4068934764431302,
            0.30927806898641197,
            2.341573270485413
           ],
           "y": [
            -0.9704826930786741,
            -0.29197227560762284,
            2.5374048345947764
           ]
          }
         ]
        },
        {
         "data": [
          {
           "line": {
            "color": "red",
            "width": 2
           },
           "mode": "lines",
           "type": "scatter",
           "x": [
            1.465779733306509,
            0.23169204658242087,
            null,
            1.465779733306509,
            2.3602730360260256,
            null
           ],
           "y": [
            -0.7532556537519622,
            -0.3982518525500247,
            null,
            -0.7532556537519622,
            2.4264573722104665,
            null
           ]
          },
          {
           "line": {
            "color": "blue",
            "width": 2
           },
           "mode": "markers",
           "type": "scatter",
           "x": [
            1.465779733306509,
            0.23169204658242087,
            2.3602730360260256
           ],
           "y": [
            -0.7532556537519622,
            -0.3982518525500247,
            2.4264573722104665
           ]
          }
         ]
        },
        {
         "data": [
          {
           "line": {
            "color": "red",
            "width": 2
           },
           "mode": "lines",
           "type": "scatter",
           "x": [
            1.5284968766765765,
            0.16757043312707787,
            null,
            1.5284968766765765,
            2.361677506111301,
            null
           ],
           "y": [
            -0.4998867989596998,
            -0.49612886078767104,
            null,
            -0.4998867989596998,
            2.2709655256558503,
            null
           ]
          },
          {
           "line": {
            "color": "blue",
            "width": 2
           },
           "mode": "markers",
           "type": "scatter",
           "x": [
            1.5284968766765765,
            0.16757043312707787,
            2.361677506111301
           ],
           "y": [
            -0.4998867989596998,
            -0.49612886078767104,
            2.2709655256558503
           ]
          }
         ]
        },
        {
         "data": [
          {
           "line": {
            "color": "red",
            "width": 2
           },
           "mode": "lines",
           "type": "scatter",
           "x": [
            1.5924365700303058,
            0.11886413845716913,
            null,
            1.5924365700303058,
            2.3464441074274807,
            null
           ],
           "y": [
            -0.21723551758963217,
            -0.5841405360159816,
            null,
            -0.21723551758963217,
            2.0763259195140935,
            null
           ]
          },
          {
           "line": {
            "color": "blue",
            "width": 2
           },
           "mode": "markers",
           "type": "scatter",
           "x": [
            1.5924365700303058,
            0.11886413845716913,
            2.3464441074274807
           ],
           "y": [
            -0.21723551758963217,
            -0.5841405360159816,
            2.0763259195140935
           ]
          }
         ]
        },
        {
         "data": [
          {
           "line": {
            "color": "red",
            "width": 2
           },
           "mode": "lines",
           "type": "scatter",
           "x": [
            1.6537880910922769,
            0.08827468217087737,
            null,
            1.6537880910922769,
            2.3156820426518014,
            null
           ],
           "y": [
            0.08583408982216478,
            -0.660090899292902,
            null,
            0.08583408982216478,
            1.8492066753792171,
            null
           ]
          },
          {
           "line": {
            "color": "blue",
            "width": 2
           },
           "mode": "markers",
           "type": "scatter",
           "x": [
            1.6537880910922769,
            0.08827468217087737,
            2.3156820426518014
           ],
           "y": [
            0.08583408982216478,
            -0.660090899292902,
            1.8492066753792171
           ]
          }
         ]
        },
        {
         "data": [
          {
           "line": {
            "color": "red",
            "width": 2
           },
           "mode": "lines",
           "type": "scatter",
           "x": [
            1.7082146861499932,
            0.0784190321820076,
            null,
            1.7082146861499932,
            2.271111097582955,
            null
           ],
           "y": [
            0.3982328663415069,
            -0.7209379881645943,
            null,
            0.3982328663415069,
            1.5976549877315673,
            null
           ]
          },
          {
           "line": {
            "color": "blue",
            "width": 2
           },
           "mode": "markers",
           "type": "scatter",
           "x": [
            1.7082146861499932,
            0.0784190321820076,
            2.271111097582955
           ],
           "y": [
            0.3982328663415069,
            -0.7209379881645943,
            1.5976549877315673
           ]
          }
         ]
        },
        {
         "data": [
          {
           "line": {
            "color": "red",
            "width": 2
           },
           "mode": "lines",
           "type": "scatter",
           "x": [
            1.7508497265254386,
            0.09125600238635878,
            null,
            1.7508497265254386,
            2.2156390870031584,
            null
           ],
           "y": [
            0.7067626487603074,
            -0.7632463402069533,
            null,
            0.7067626487603074,
            1.331433557355126,
            null
           ]
          },
          {
           "line": {
            "color": "blue",
            "width": 2
           },
           "mode": "markers",
           "type": "scatter",
           "x": [
            1.7508497265254386,
            0.09125600238635878,
            2.2156390870031584
           ],
           "y": [
            0.7067626487603074,
            -0.7632463402069533,
            1.331433557355126
           ]
          }
         ]
        },
        {
         "data": [
          {
           "line": {
            "color": "red",
            "width": 2
           },
           "mode": "lines",
           "type": "scatter",
           "x": [
            1.7740277992624371,
            0.12787838924934053,
            null,
            1.7740277992624371,
            2.155838627403178,
            null
           ],
           "y": [
            0.9964750157950226,
            -0.7837061060526527,
            null,
            0.9964750157950226,
            1.06218095616611,
            null
           ]
          },
          {
           "line": {
            "color": "blue",
            "width": 2
           },
           "mode": "markers",
           "type": "scatter",
           "x": [
            1.7740277992624371,
            0.12787838924934053,
            2.155838627403178
           ],
           "y": [
            0.9964750157950226,
            -0.7837061060526527,
            1.06218095616611
           ]
          }
         ]
        },
        {
         "data": [
          {
           "line": {
            "color": "red",
            "width": 2
           },
           "mode": "lines",
           "type": "scatter",
           "x": [
            1.7600349780178748,
            0.18845261592028545,
            null,
            1.7600349780178748,
            2.1092572219767955,
            null
           ],
           "y": [
            1.2647942632454037,
            -0.77954104620412,
            null,
            1.2647942632454037,
            0.7896966488671963,
            null
           ]
          },
          {
           "line": {
            "color": "blue",
            "width": 2
           },
           "mode": "markers",
           "type": "scatter",
           "x": [
            1.7600349780178748,
            0.18845261592028545,
            2.1092572219767955
           ],
           "y": [
            1.2647942632454037,
            -0.77954104620412,
            0.7896966488671963
           ]
          }
         ]
        },
        {
         "data": [
          {
           "line": {
            "color": "red",
            "width": 2
           },
           "mode": "lines",
           "type": "scatter",
           "x": [
            1.7228701918836786,
            0.2721454590832775,
            null,
            1.7228701918836786,
            2.0627291649479993,
            null
           ],
           "y": [
            1.5218343678902375,
            -0.7487067056303631,
            null,
            1.5218343678902375,
            0.5018222036486057,
            null
           ]
          },
          {
           "line": {
            "color": "blue",
            "width": 2
           },
           "mode": "markers",
           "type": "scatter",
           "x": [
            1.7228701918836786,
            0.2721454590832775,
            2.0627291649479993
           ],
           "y": [
            1.5218343678902375,
            -0.7487067056303631,
            0.5018222036486057
           ]
          }
         ]
        },
        {
         "data": [
          {
           "line": {
            "color": "red",
            "width": 2
           },
           "mode": "lines",
           "type": "scatter",
           "x": [
            1.6712084837679355,
            0.37728635387011106,
            null,
            1.6712084837679355,
            2.009249978276909,
            null
           ],
           "y": [
            1.7536891136442223,
            -0.6898547329218191,
            null,
            1.7536891136442223,
            0.21111548518607692,
            null
           ]
          },
          {
           "line": {
            "color": "blue",
            "width": 2
           },
           "mode": "markers",
           "type": "scatter",
           "x": [
            1.6712084837679355,
            0.37728635387011106,
            2.009249978276909
           ],
           "y": [
            1.7536891136442223,
            -0.6898547329218191,
            0.21111548518607692
           ]
          }
         ]
        },
        {
         "data": [
          {
           "line": {
            "color": "red",
            "width": 2
           },
           "mode": "lines",
           "type": "scatter",
           "x": [
            1.608493894498508,
            0.5013918117762455,
            null,
            1.608493894498508,
            1.9478591096402018,
            null
           ],
           "y": [
            1.9488038917475765,
            -0.6024751494058798,
            null,
            1.9488038917475765,
            -0.07137887643321655,
            null
           ]
          },
          {
           "line": {
            "color": "blue",
            "width": 2
           },
           "mode": "markers",
           "type": "scatter",
           "x": [
            1.608493894498508,
            0.5013918117762455,
            1.9478591096402018
           ],
           "y": [
            1.9488038917475765,
            -0.6024751494058798,
            -0.07137887643321655
           ]
          }
         ]
        },
        {
         "data": [
          {
           "line": {
            "color": "red",
            "width": 2
           },
           "mode": "lines",
           "type": "scatter",
           "x": [
            1.5373355508286684,
            0.6411347811127565,
            null,
            1.5373355508286684,
            1.8792744839735305,
            null
           ],
           "y": [
            2.0985733072001036,
            -0.4869223814774346,
            null,
            2.0985733072001036,
            -0.33670105981418896,
            null
           ]
          },
          {
           "line": {
            "color": "blue",
            "width": 2
           },
           "mode": "markers",
           "type": "scatter",
           "x": [
            1.5373355508286684,
            0.6411347811127565,
            1.8792744839735305
           ],
           "y": [
            2.0985733072001036,
            -0.4869223814774346,
            -0.33670105981418896
           ]
          }
         ]
        },
        {
         "data": [
          {
           "line": {
            "color": "red",
            "width": 2
           },
           "mode": "lines",
           "type": "scatter",
           "x": [
            1.4602877722810603,
            0.7924039357412015,
            null,
            1.4602877722810603,
            1.8050531078926935,
            null
           ],
           "y": [
            2.1968923278047208,
            -0.34417820564186347,
            null,
            2.1968923278047208,
            -0.5777642562543772,
            null
           ]
          },
          {
           "line": {
            "color": "blue",
            "width": 2
           },
           "mode": "markers",
           "type": "scatter",
           "x": [
            1.4602877722810603,
            0.7924039357412015,
            1.8050531078926935
           ],
           "y": [
            2.1968923278047208,
            -0.34417820564186347,
            -0.5777642562543772
           ]
          }
         ]
        },
        {
         "data": [
          {
           "line": {
            "color": "red",
            "width": 2
           },
           "mode": "lines",
           "type": "scatter",
           "x": [
            1.3799756754892545,
            0.9509232684862903,
            null,
            1.3799756754892545,
            1.7268458719394104,
            null
           ],
           "y": [
            2.2399953303797147,
            -0.17536341092921967,
            null,
            2.2399953303797147,
            -0.7896820535420148,
            null
           ]
          },
          {
           "line": {
            "color": "blue",
            "width": 2
           },
           "mode": "markers",
           "type": "scatter",
           "x": [
            1.3799756754892545,
            0.9509232684862903,
            1.7268458719394104
           ],
           "y": [
            2.2399953303797147,
            -0.17536341092921967,
            -0.7896820535420148
           ]
          }
         ]
        },
        {
         "data": [
          {
           "line": {
            "color": "red",
            "width": 2
           },
           "mode": "lines",
           "type": "scatter",
           "x": [
            1.2990514230631554,
            1.1136783138438302,
            null,
            1.2990514230631554,
            1.6450150790079696,
            null
           ],
           "y": [
            2.226435548664011,
            0.017818747090361575,
            null,
            2.226435548664011,
            -0.9693044298458925,
            null
           ]
          },
          {
           "line": {
            "color": "blue",
            "width": 2
           },
           "mode": "markers",
           "type": "scatter",
           "x": [
            1.2990514230631554,
            1.1136783138438302,
            1.6450150790079696
           ],
           "y": [
            2.226435548664011,
            0.017818747090361575,
            -0.9693044298458925
           ]
          }
         ]
        },
        {
         "data": [
          {
           "line": {
            "color": "red",
            "width": 2
           },
           "mode": "lines",
           "type": "scatter",
           "x": [
            1.2200718367062784,
            1.2787620877990404,
            null,
            1.2200718367062784,
            1.5589108914096363,
            null
           ],
           "y": [
            2.157111391754343,
            0.2312875834398957,
            null,
            2.157111391754343,
            -1.1134491092857588,
            null
           ]
          },
          {
           "line": {
            "color": "blue",
            "width": 2
           },
           "mode": "markers",
           "type": "scatter",
           "x": [
            1.2200718367062784,
            1.2787620877990404,
            1.5589108914096363
           ],
           "y": [
            2.157111391754343,
            0.2312875834398957,
            -1.1134491092857588
           ]
          }
         ]
        },
        {
         "data": [
          {
           "line": {
            "color": "red",
            "width": 2
           },
           "mode": "lines",
           "type": "scatter",
           "x": [
            1.1452818271028562,
            1.4439726772506718,
            null,
            1.1452818271028562,
            1.4684903115614272,
            null
           ],
           "y": [
            2.035290159584431,
            0.4587320699019521,
            null,
            2.035290159584431,
            -1.2190723635779028,
            null
           ]
          },
          {
           "line": {
            "color": "blue",
            "width": 2
           },
           "mode": "markers",
           "type": "scatter",
           "x": [
            1.1452818271028562,
            1.4439726772506718,
            1.4684903115614272
           ],
           "y": [
            2.035290159584431,
            0.4587320699019521,
            -1.2190723635779028
           ]
          }
         ]
        },
        {
         "data": [
          {
           "line": {
            "color": "red",
            "width": 2
           },
           "mode": "lines",
           "type": "scatter",
           "x": [
            1.0762075762739165,
            1.6070397324591421,
            null,
            1.0762075762739165,
            1.3744975071818966,
            null
           ],
           "y": [
            1.8665487127280895,
            0.6927143644828228,
            null,
            1.8665487127280895,
            -1.284313211302432,
            null
           ]
          },
          {
           "line": {
            "color": "blue",
            "width": 2
           },
           "mode": "markers",
           "type": "scatter",
           "x": [
            1.0762075762739165,
            1.6070397324591421,
            1.3744975071818966
           ],
           "y": [
            1.8665487127280895,
            0.6927143644828228,
            -1.284313211302432
           ]
          }
         ]
        },
        {
         "data": [
          {
           "line": {
            "color": "red",
            "width": 2
           },
           "mode": "lines",
           "type": "scatter",
           "x": [
            1.012888868511273,
            1.7667557120263457,
            null,
            1.012888868511273,
            1.2781002353773367,
            null
           ],
           "y": [
            1.6582815032539824,
            0.9254909234102184,
            null,
            1.6582815032539824,
            -1.3088225607557205,
            null
           ]
          },
          {
           "line": {
            "color": "blue",
            "width": 2
           },
           "mode": "markers",
           "type": "scatter",
           "x": [
            1.012888868511273,
            1.7667557120263457,
            1.2781002353773367
           ],
           "y": [
            1.6582815032539824,
            0.9254909234102184,
            -1.3088225607557205
           ]
          }
         ]
        },
        {
         "data": [
          {
           "line": {
            "color": "red",
            "width": 2
           },
           "mode": "lines",
           "type": "scatter",
           "x": [
            0.9532437543266009,
            1.9238495254769963,
            null,
            0.9532437543266009,
            1.180651536111358,
            null
           ],
           "y": [
            1.4176455358134854,
            1.1510162196575364,
            null,
            1.4176455358134854,
            -1.2937118895625415,
            null
           ]
          },
          {
           "line": {
            "color": "blue",
            "width": 2
           },
           "mode": "markers",
           "type": "scatter",
           "x": [
            0.9532437543266009,
            1.9238495254769963,
            1.180651536111358
           ],
           "y": [
            1.4176455358134854,
            1.1510162196575364,
            -1.2937118895625415
           ]
          }
         ]
        },
        {
         "data": [
          {
           "line": {
            "color": "red",
            "width": 2
           },
           "mode": "lines",
           "type": "scatter",
           "x": [
            0.8961127660402103,
            2.0780651380784487,
            null,
            0.8961127660402103,
            1.0835669117962963,
            null
           ],
           "y": [
            1.1487761546246555,
            1.3676068542331135,
            null,
            1.1487761546246555,
            -1.2414331429492884,
            null
           ]
          },
          {
           "line": {
            "color": "blue",
            "width": 2
           },
           "mode": "markers",
           "type": "scatter",
           "x": [
            0.8961127660402103,
            2.0780651380784487,
            1.0835669117962963
           ],
           "y": [
            1.1487761546246555,
            1.3676068542331135,
            -1.2414331429492884
           ]
          }
         ]
        },
        {
         "data": [
          {
           "line": {
            "color": "red",
            "width": 2
           },
           "mode": "lines",
           "type": "scatter",
           "x": [
            0.845227598259774,
            2.224247578843732,
            null,
            0.845227598259774,
            0.9882696388114489,
            null
           ],
           "y": [
            0.8568737243942615,
            1.5737925543007405,
            null,
            0.8568737243942615,
            -1.1557164127865214,
            null
           ]
          },
          {
           "line": {
            "color": "blue",
            "width": 2
           },
           "mode": "markers",
           "type": "scatter",
           "x": [
            0.845227598259774,
            2.224247578843732,
            0.9882696388114489
           ],
           "y": [
            0.8568737243942615,
            1.5737925543007405,
            -1.1557164127865214
           ]
          }
         ]
        },
        {
         "data": [
          {
           "line": {
            "color": "red",
            "width": 2
           },
           "mode": "lines",
           "type": "scatter",
           "x": [
            0.8054647202640491,
            2.3560901061332427,
            null,
            0.8054647202640491,
            0.896189989517663,
            null
           ],
           "y": [
            0.5516541534460213,
            1.7648799082944013,
            null,
            0.5516541534460213,
            -1.0415841958319418,
            null
           ]
          },
          {
           "line": {
            "color": "blue",
            "width": 2
           },
           "mode": "markers",
           "type": "scatter",
           "x": [
            0.8054647202640491,
            2.3560901061332427,
            0.896189989517663
           ],
           "y": [
            0.5516541534460213,
            1.7648799082944013,
            -1.0415841958319418
           ]
          }
         ]
        },
        {
         "data": [
          {
           "line": {
            "color": "red",
            "width": 2
           },
           "mode": "lines",
           "type": "scatter",
           "x": [
            0.7803362732776139,
            2.4686526749557656,
            null,
            0.7803362732776139,
            0.8087558676815755,
            null
           ],
           "y": [
            0.24560754096235737,
            1.934823755360801,
            null,
            0.24560754096235737,
            -0.9054814304146774,
            null
           ]
          },
          {
           "line": {
            "color": "blue",
            "width": 2
           },
           "mode": "markers",
           "type": "scatter",
           "x": [
            0.7803362732776139,
            2.4686526749557656,
            0.8087558676815755
           ],
           "y": [
            0.24560754096235737,
            1.934823755360801,
            -0.9054814304146774
           ]
          }
         ]
        },
        {
         "data": [
          {
           "line": {
            "color": "red",
            "width": 2
           },
           "mode": "lines",
           "type": "scatter",
           "x": [
            0.7721076667616775,
            2.55839069026287,
            null,
            0.7721076667616775,
            0.7272464588904075,
            null
           ],
           "y": [
            -0.04700532405057506,
            2.077661281192284,
            null,
            -0.04700532405057506,
            -0.755706091233228,
            null
           ]
          },
          {
           "line": {
            "color": "blue",
            "width": 2
           },
           "mode": "markers",
           "type": "scatter",
           "x": [
            0.7721076667616775,
            2.55839069026287,
            0.7272464588904075
           ],
           "y": [
            -0.04700532405057506,
            2.077661281192284,
            -0.755706091233228
           ]
          }
         ]
        },
        {
         "data": [
          {
           "line": {
            "color": "red",
            "width": 2
           },
           "mode": "lines",
           "type": "scatter",
           "x": [
            0.7830483845932408,
            2.622855680529309,
            null,
            0.7830483845932408,
            0.6518407507924057,
            null
           ],
           "y": [
            -0.3095645953047459,
            2.188076079648731,
            null,
            -0.3095645953047459,
            -0.6035616184355037,
            null
           ]
          },
          {
           "line": {
            "color": "blue",
            "width": 2
           },
           "mode": "markers",
           "type": "scatter",
           "x": [
            0.7830483845932408,
            2.622855680529309,
            0.6518407507924057
           ],
           "y": [
            -0.3095645953047459,
            2.188076079648731,
            -0.6035616184355037
           ]
          }
         ]
        },
        {
         "data": [
          {
           "line": {
            "color": "red",
            "width": 2
           },
           "mode": "lines",
           "type": "scatter",
           "x": [
            0.8238437232324405,
            2.6605159666753395,
            null,
            0.8238437232324405,
            0.5733851260071754,
            null
           ],
           "y": [
            -0.5226415598502707,
            2.261685317605281,
            null,
            -0.5226415598502707,
            -0.464093891846529,
            null
           ]
          },
          {
           "line": {
            "color": "blue",
            "width": 2
           },
           "mode": "markers",
           "type": "scatter",
           "x": [
            0.8238437232324405,
            2.6605159666753395,
            0.5733851260071754
           ],
           "y": [
            -0.5226415598502707,
            2.261685317605281,
            -0.464093891846529
           ]
          }
         ]
        },
        {
         "data": [
          {
           "line": {
            "color": "red",
            "width": 2
           },
           "mode": "lines",
           "type": "scatter",
           "x": [
            0.9133434896240169,
            2.6707441913447094,
            null,
            0.9133434896240169,
            0.47365713494622913,
            null
           ],
           "y": [
            -0.7122260264985941,
            2.295283086250324,
            null,
            -0.7122260264985941,
            -0.3081071938432483,
            null
           ]
          },
          {
           "line": {
            "color": "blue",
            "width": 2
           },
           "mode": "markers",
           "type": "scatter",
           "x": [
            0.9133434896240169,
            2.6707441913447094,
            0.47365713494622913
           ],
           "y": [
            -0.7122260264985941,
            2.295283086250324,
            -0.3081071938432483
           ]
          }
         ]
        },
        {
         "data": [
          {
           "line": {
            "color": "red",
            "width": 2
           },
           "mode": "lines",
           "type": "scatter",
           "x": [
            1.0306455384426583,
            2.653871239319955,
            null,
            1.0306455384426583,
            0.3732280381523424,
            null
           ],
           "y": [
            -0.8768699701690004,
            2.286662967686051,
            null,
            -0.8768699701690004,
            -0.1348431316085687,
            null
           ]
          },
          {
           "line": {
            "color": "blue",
            "width": 2
           },
           "mode": "markers",
           "type": "scatter",
           "x": [
            1.0306455384426583,
            2.653871239319955,
            0.3732280381523424
           ],
           "y": [
            -0.8768699701690004,
            2.286662967686051,
            -0.1348431316085687
           ]
          }
         ]
        },
        {
         "data": [
          {
           "line": {
            "color": "red",
            "width": 2
           },
           "mode": "lines",
           "type": "scatter",
           "x": [
            1.1658634327953277,
            2.61097802385956,
            null,
            1.1658634327953277,
            0.2809033592600683,
            null
           ],
           "y": [
            -1.0070159293938183,
            2.234642003480949,
            null,
            -1.0070159293938183,
            0.04732379182135152,
            null
           ]
          },
          {
           "line": {
            "color": "blue",
            "width": 2
           },
           "mode": "markers",
           "type": "scatter",
           "x": [
            1.1658634327953277,
            2.61097802385956,
            0.2809033592600683
           ],
           "y": [
            -1.0070159293938183,
            2.234642003480949,
            0.04732379182135152
           ]
          }
         ]
        },
        {
         "data": [
          {
           "line": {
            "color": "red",
            "width": 2
           },
           "mode": "lines",
           "type": "scatter",
           "x": [
            1.3118475958144997,
            2.5437886844036526,
            null,
            1.3118475958144997,
            0.20210853569680343,
            null
           ],
           "y": [
            -1.0956361605810336,
            2.1391703842095398,
            null,
            -1.0956361605810336,
            0.23141564227997607,
            null
           ]
          },
          {
           "line": {
            "color": "blue",
            "width": 2
           },
           "mode": "markers",
           "type": "scatter",
           "x": [
            1.3118475958144997,
            2.5437886844036526,
            0.20210853569680343
           ],
           "y": [
            -1.0956361605810336,
            2.1391703842095398,
            0.23141564227997607
           ]
          }
         ]
        },
        {
         "data": [
          {
           "line": {
            "color": "red",
            "width": 2
           },
           "mode": "lines",
           "type": "scatter",
           "x": [
            1.462297199263743,
            2.4545849434010085,
            null,
            1.462297199263743,
            0.140862673250204,
            null
           ],
           "y": [
            -1.1382169792250008,
            2.001414730470991,
            null,
            -1.1382169792250008,
            0.4117521146624924,
            null
           ]
          },
          {
           "line": {
            "color": "blue",
            "width": 2
           },
           "mode": "markers",
           "type": "scatter",
           "x": [
            1.462297199263743,
            2.4545849434010085,
            0.140862673250204
           ],
           "y": [
            -1.1382169792250008,
            2.001414730470991,
            0.4117521146624924
           ]
          }
         ]
        },
        {
         "data": [
          {
           "line": {
            "color": "red",
            "width": 2
           },
           "mode": "lines",
           "type": "scatter",
           "x": [
            1.6113288950287856,
            2.3461268036309444,
            null,
            1.6113288950287856,
            0.10028911725522545,
            null
           ],
           "y": [
            -1.1325252742185483,
            1.8238101867334704,
            null,
            -1.1325252742185483,
            0.5836649533935606,
            null
           ]
          },
          {
           "line": {
            "color": "blue",
            "width": 2
           },
           "mode": "markers",
           "type": "scatter",
           "x": [
            1.6113288950287856,
            2.3461268036309444,
            0.10028911725522545
           ],
           "y": [
            -1.1325252742185483,
            1.8238101867334704,
            0.5836649533935606
           ]
          }
         ]
        },
        {
         "data": [
          {
           "line": {
            "color": "red",
            "width": 2
           },
           "mode": "lines",
           "type": "scatter",
           "x": [
            1.753427699529955,
            2.221574336054826,
            null,
            1.753427699529955,
            0.08274278033017432,
            null
           ],
           "y": [
            -1.0784775726816553,
            1.6100814927869331,
            null,
            -1.0784775726816553,
            0.7433459458032051,
            null
           ]
          },
          {
           "line": {
            "color": "blue",
            "width": 2
           },
           "mode": "markers",
           "type": "scatter",
           "x": [
            1.753427699529955,
            2.221574336054826,
            0.08274278033017432
           ],
           "y": [
            -1.0784775726816553,
            1.6100814927869331,
            0.7433459458032051
           ]
          }
         ]
        },
        {
         "data": [
          {
           "line": {
            "color": "red",
            "width": 2
           },
           "mode": "lines",
           "type": "scatter",
           "x": [
            1.8835418736293505,
            2.084399505029289,
            null,
            1.8835418736293505,
            0.08980343725631604,
            null
           ],
           "y": [
            -0.9780705624789959,
            1.3652338604478242,
            null,
            -0.9780705624789959,
            0.8877865679396547,
            null
           ]
          },
          {
           "line": {
            "color": "blue",
            "width": 2
           },
           "mode": "markers",
           "type": "scatter",
           "x": [
            1.8835418736293505,
            2.084399505029289,
            0.08980343725631604
           ],
           "y": [
            -0.9780705624789959,
            1.3652338604478242,
            0.8877865679396547
           ]
          }
         ]
        },
        {
         "data": [
          {
           "line": {
            "color": "red",
            "width": 2
           },
           "mode": "lines",
           "type": "scatter",
           "x": [
            1.9972652747694597,
            1.9382506529850492,
            null,
            1.9972652747694597,
            0.12222888816044672,
            null
           ],
           "y": [
            -0.835348797978426,
            1.0955173418964008,
            null,
            -0.835348797978426,
            1.0147813219905084,
            null
           ]
          },
          {
           "line": {
            "color": "blue",
            "width": 2
           },
           "mode": "markers",
           "type": "scatter",
           "x": [
            1.9972652747694597,
            1.9382506529850492,
            0.12222888816044672
           ],
           "y": [
            -0.835348797978426,
            1.0955173418964008,
            1.0147813219905084
           ]
          }
         ]
        },
        {
         "data": [
          {
           "line": {
            "color": "red",
            "width": 2
           },
           "mode": "lines",
           "type": "scatter",
           "x": [
            2.0911480758299197,
            1.7866557770131533,
            null,
            2.0911480758299197,
            0.17994096307188243,
            null
           ],
           "y": [
            -0.656407040168294,
            0.8083749287429736,
            null,
            -0.656407040168294,
            1.122981977333804,
            null
           ]
          },
          {
           "line": {
            "color": "blue",
            "width": 2
           },
           "mode": "markers",
           "type": "scatter",
           "x": [
            2.0911480758299197,
            1.7866557770131533,
            0.17994096307188243
           ],
           "y": [
            -0.656407040168294,
            0.8083749287429736,
            1.122981977333804
           ]
          }
         ]
        },
        {
         "data": [
          {
           "line": {
            "color": "red",
            "width": 2
           },
           "mode": "lines",
           "type": "scatter",
           "x": [
            2.163350001928368,
            1.6322667568603715,
            null,
            2.163350001928368,
            0.26212805712621573,
            null
           ],
           "y": [
            -0.4493496870317176,
            0.5123467087294103,
            null,
            -0.4493496870317176,
            1.211952844210791,
            null
           ]
          },
          {
           "line": {
            "color": "blue",
            "width": 2
           },
           "mode": "markers",
           "type": "scatter",
           "x": [
            2.163350001928368,
            1.6322667568603715,
            0.26212805712621573
           ],
           "y": [
            -0.4493496870317176,
            0.5123467087294103,
            1.211952844210791
           ]
          }
         ]
        },
        {
         "data": [
          {
           "line": {
            "color": "red",
            "width": 2
           },
           "mode": "lines",
           "type": "scatter",
           "x": [
            2.215140661597482,
            1.4751288883771188,
            null,
            2.215140661597482,
            0.3674752659403543,
            null
           ],
           "y": [
            -0.22343773880115034,
            0.21630800057283378,
            null,
            -0.22343773880115034,
            1.2820796041368003,
            null
           ]
          },
          {
           "line": {
            "color": "blue",
            "width": 2
           },
           "mode": "markers",
           "type": "scatter",
           "x": [
            2.215140661597482,
            1.4751288883771188,
            0.3674752659403543
           ],
           "y": [
            -0.22343773880115034,
            0.21630800057283378,
            1.2820796041368003
           ]
          }
         ]
        },
        {
         "data": [
          {
           "line": {
            "color": "red",
            "width": 2
           },
           "mode": "lines",
           "type": "scatter",
           "x": [
            2.2515493012236387,
            1.311886644831677,
            null,
            2.2515493012236387,
            0.494308869859639,
            null
           ],
           "y": [
            0.015670950242942516,
            -0.07496332715063236,
            null,
            0.015670950242942516,
            1.3342422428161738,
            null
           ]
          },
          {
           "line": {
            "color": "blue",
            "width": 2
           },
           "mode": "markers",
           "type": "scatter",
           "x": [
            2.2515493012236387,
            1.311886644831677,
            0.494308869859639
           ],
           "y": [
            0.015670950242942516,
            -0.07496332715063236,
            1.3342422428161738
           ]
          }
         ]
        },
        {
         "data": [
          {
           "line": {
            "color": "red",
            "width": 2
           },
           "mode": "lines",
           "type": "scatter",
           "x": [
            2.272439274790929,
            1.1448454184644399,
            null,
            2.272439274790929,
            0.640460122659586,
            null
           ],
           "y": [
            0.2675671533202037,
            -0.3621429601832402,
            null,
            0.2675671533202037,
            1.3695256727715206,
            null
           ]
          },
          {
           "line": {
            "color": "blue",
            "width": 2
           },
           "mode": "markers",
           "type": "scatter",
           "x": [
            2.272439274790929,
            1.1448454184644399,
            0.640460122659586
           ],
           "y": [
            0.2675671533202037,
            -0.3621429601832402,
            1.3695256727715206
           ]
          }
         ]
        },
        {
         "data": [
          {
           "line": {
            "color": "red",
            "width": 2
           },
           "mode": "lines",
           "type": "scatter",
           "x": [
            2.2731781274729115,
            0.9816064070820301,
            null,
            2.2731781274729115,
            0.8029602813600132,
            null
           ],
           "y": [
            0.5263444045231932,
            -0.6406153690727,
            null,
            0.5263444045231932,
            1.3892208304579912,
            null
           ]
          },
          {
           "line": {
            "color": "blue",
            "width": 2
           },
           "mode": "markers",
           "type": "scatter",
           "x": [
            2.2731781274729115,
            0.9816064070820301,
            0.8029602813600132
           ],
           "y": [
            0.5263444045231932,
            -0.6406153690727,
            1.3892208304579912
           ]
          }
         ]
        },
        {
         "data": [
          {
           "line": {
            "color": "red",
            "width": 2
           },
           "mode": "lines",
           "type": "scatter",
           "x": [
            2.2516842123856775,
            0.8282581375112231,
            null,
            2.2516842123856775,
            0.9778024660180542,
            null
           ],
           "y": [
            0.7824986502403735,
            -0.902496682657705,
            null,
            0.7824986502403735,
            1.3949478983258161,
            null
           ]
          },
          {
           "line": {
            "color": "blue",
            "width": 2
           },
           "mode": "markers",
           "type": "scatter",
           "x": [
            2.2516842123856775,
            0.8282581375112231,
            0.9778024660180542
           ],
           "y": [
            0.7824986502403735,
            -0.902496682657705,
            1.3949478983258161
           ]
          }
         ]
        },
        {
         "data": [
          {
           "line": {
            "color": "red",
            "width": 2
           },
           "mode": "lines",
           "type": "scatter",
           "x": [
            2.20879046945337,
            0.6891424165293418,
            null,
            2.20879046945337,
            1.1598119299322427,
            null
           ],
           "y": [
            1.0261524274027258,
            -1.139849721048818,
            null,
            1.0261524274027258,
            1.388647159554577,
            null
           ]
          },
          {
           "line": {
            "color": "blue",
            "width": 2
           },
           "mode": "markers",
           "type": "scatter",
           "x": [
            2.20879046945337,
            0.6891424165293418,
            1.1598119299322427
           ],
           "y": [
            1.0261524274027258,
            -1.139849721048818,
            1.388647159554577
           ]
          }
         ]
        },
        {
         "data": [
          {
           "line": {
            "color": "red",
            "width": 2
           },
           "mode": "lines",
           "type": "scatter",
           "x": [
            2.147861378952701,
            0.5674312492151549,
            null,
            2.147861378952701,
            1.3424521877470985,
            null
           ],
           "y": [
            1.248278377965379,
            -1.3455724697325109,
            null,
            1.248278377965379,
            1.372243957675617,
            null
           ]
          },
          {
           "line": {
            "color": "blue",
            "width": 2
           },
           "mode": "markers",
           "type": "scatter",
           "x": [
            2.147861378952701,
            0.5674312492151549,
            1.3424521877470985
           ],
           "y": [
            1.248278377965379,
            -1.3455724697325109,
            1.372243957675617
           ]
          }
         ]
        },
        {
         "data": [
          {
           "line": {
            "color": "red",
            "width": 2
           },
           "mode": "lines",
           "type": "scatter",
           "x": [
            2.0747628309193864,
            0.46543611349596103,
            null,
            2.0747628309193864,
            1.5175458714996068,
            null
           ],
           "y": [
            1.4419986878296438,
            -1.5136216600100045,
            null,
            1.4419986878296438,
            1.3465728380888458,
            null
           ]
          },
          {
           "line": {
            "color": "blue",
            "width": 2
           },
           "mode": "markers",
           "type": "scatter",
           "x": [
            2.0747628309193864,
            0.46543611349596103,
            1.5175458714996068
           ],
           "y": [
            1.4419986878296438,
            -1.5136216600100045,
            1.3465728380888458
           ]
          }
         ]
        },
        {
         "data": [
          {
           "line": {
            "color": "red",
            "width": 2
           },
           "mode": "lines",
           "type": "scatter",
           "x": [
            1.9968757266079376,
            0.38477809248926886,
            null,
            1.9968757266079376,
            1.6760909968177478,
            null
           ],
           "y": [
            1.605772690584995,
            -1.6390910152237133,
            null,
            1.605772690584995,
            1.3082681905472036,
            null
           ]
          },
          {
           "line": {
            "color": "blue",
            "width": 2
           },
           "mode": "markers",
           "type": "scatter",
           "x": [
            1.9968757266079376,
            0.38477809248926886,
            1.6760909968177478
           ],
           "y": [
            1.605772690584995,
            -1.6390910152237133,
            1.3082681905472036
           ]
          }
         ]
        },
        {
         "data": [
          {
           "line": {
            "color": "red",
            "width": 2
           },
           "mode": "lines",
           "type": "scatter",
           "x": [
            1.9147817363978419,
            0.326510856544163,
            null,
            1.9147817363978419,
            1.8164522229729492,
            null
           ],
           "y": [
            1.746432823220716,
            -1.718227156248658,
            null,
            1.746432823220716,
            1.2467441989364274,
            null
           ]
          },
          {
           "line": {
            "color": "blue",
            "width": 2
           },
           "mode": "markers",
           "type": "scatter",
           "x": [
            1.9147817363978419,
            0.326510856544163,
            1.8164522229729492
           ],
           "y": [
            1.746432823220716,
            -1.718227156248658,
            1.2467441989364274
           ]
          }
         ]
        },
        {
         "data": [
          {
           "line": {
            "color": "red",
            "width": 2
           },
           "mode": "lines",
           "type": "scatter",
           "x": [
            1.8180700994181984,
            0.29117183570789923,
            null,
            1.8180700994181984,
            1.9485028807888565,
            null
           ],
           "y": [
            1.8636893200300946,
            -1.7483784805894769,
            null,
            1.8636893200300946,
            1.1596390264678678,
            null
           ]
          },
          {
           "line": {
            "color": "blue",
            "width": 2
           },
           "mode": "markers",
           "type": "scatter",
           "x": [
            1.8180700994181984,
            0.29117183570789923,
            1.9485028807888565
           ],
           "y": [
            1.8636893200300946,
            -1.7483784805894769,
            1.1596390264678678
           ]
          }
         ]
        },
        {
         "data": [
          {
           "line": {
            "color": "red",
            "width": 2
           },
           "mode": "lines",
           "type": "scatter",
           "x": [
            1.7030455819897776,
            0.2787297649856471,
            null,
            1.7030455819897776,
            2.075969468939529,
            null
           ],
           "y": [
            1.9484766460018408,
            -1.7280190966711872,
            null,
            1.9484766460018408,
            1.0544923165778322,
            null
           ]
          },
          {
           "line": {
            "color": "blue",
            "width": 2
           },
           "mode": "markers",
           "type": "scatter",
           "x": [
            1.7030455819897776,
            0.2787297649856471,
            2.075969468939529
           ],
           "y": [
            1.9484766460018408,
            -1.7280190966711872,
            1.0544923165778322
           ]
          }
         ]
        },
        {
         "data": [
          {
           "line": {
            "color": "red",
            "width": 2
           },
           "mode": "lines",
           "type": "scatter",
           "x": [
            1.5719446045960324,
            0.2885731027207731,
            null,
            1.5719446045960324,
            2.1972271085981485,
            null
           ],
           "y": [
            1.993207457914069,
            -1.6568487177681912,
            null,
            1.993207457914069,
            0.9385911257626081,
            null
           ]
          },
          {
           "line": {
            "color": "blue",
            "width": 2
           },
           "mode": "markers",
           "type": "scatter",
           "x": [
            1.5719446045960324,
            0.2885731027207731,
            2.1972271085981485
           ],
           "y": [
            1.993207457914069,
            -1.6568487177681912,
            0.9385911257626081
           ]
          }
         ]
        },
        {
         "data": [
          {
           "line": {
            "color": "red",
            "width": 2
           },
           "mode": "lines",
           "type": "scatter",
           "x": [
            1.4291657841900636,
            0.31954508669847254,
            null,
            1.4291657841900636,
            2.309033945026418,
            null
           ],
           "y": [
            1.9933085535027146,
            -1.5358736310733025,
            null,
            1.9933085535027146,
            0.8175149434790738,
            null
           ]
          },
          {
           "line": {
            "color": "blue",
            "width": 2
           },
           "mode": "markers",
           "type": "scatter",
           "x": [
            1.4291657841900636,
            0.31954508669847254,
            2.309033945026418
           ],
           "y": [
            1.9933085535027146,
            -1.5358736310733025,
            0.8175149434790738
           ]
          }
         ]
        },
        {
         "data": [
          {
           "line": {
            "color": "red",
            "width": 2
           },
           "mode": "lines",
           "type": "scatter",
           "x": [
            1.2798960387377047,
            0.36999750951075455,
            null,
            1.2798960387377047,
            2.4078512676664947,
            null
           ],
           "y": [
            1.9469124764511483,
            -1.3674549953717494,
            null,
            1.9469124764511483,
            0.6954923848290872,
            null
           ]
          },
          {
           "line": {
            "color": "blue",
            "width": 2
           },
           "mode": "markers",
           "type": "scatter",
           "x": [
            1.2798960387377047,
            0.36999750951075455,
            2.4078512676664947
           ],
           "y": [
            1.9469124764511483,
            -1.3674549953717494,
            0.6954923848290872
           ]
          }
         ]
        },
        {
         "data": [
          {
           "line": {
            "color": "red",
            "width": 2
           },
           "mode": "lines",
           "type": "scatter",
           "x": [
            1.1295837256295076,
            0.4378516259901992,
            null,
            1.1295837256295076,
            2.490309464295247,
            null
           ],
           "y": [
            1.8545338210445275,
            -1.155328729614867,
            null,
            1.8545338210445275,
            0.5757447744788258,
            null
           ]
          },
          {
           "line": {
            "color": "blue",
            "width": 2
           },
           "mode": "markers",
           "type": "scatter",
           "x": [
            1.1295837256295076,
            0.4378516259901992,
            2.490309464295247
           ],
           "y": [
            1.8545338210445275,
            -1.155328729614867,
            0.5757447744788258
           ]
          }
         ]
        },
        {
         "data": [
          {
           "line": {
            "color": "red",
            "width": 2
           },
           "mode": "lines",
           "type": "scatter",
           "x": [
            0.9836521763697855,
            0.5206626075629875,
            null,
            0.9836521763697855,
            2.5534300319821805,
            null
           ],
           "y": [
            1.7188487169809483,
            -0.9046060269901177,
            null,
            1.7188487169809483,
            0.46070717591765564,
            null
           ]
          },
          {
           "line": {
            "color": "blue",
            "width": 2
           },
           "mode": "markers",
           "type": "scatter",
           "x": [
            0.9836521763697855,
            0.5206626075629875,
            2.5534300319821805
           ],
           "y": [
            1.7188487169809483,
            -0.9046060269901177,
            0.46070717591765564
           ]
          }
         ]
        },
        {
         "data": [
          {
           "line": {
            "color": "red",
            "width": 2
           },
           "mode": "lines",
           "type": "scatter",
           "x": [
            0.8472746439951171,
            0.6156934976778865,
            null,
            0.8472746439951171,
            2.59477667424195,
            null
           ],
           "y": [
            1.5445547170606517,
            -0.6217738533529957,
            null,
            1.5445547170606517,
            0.3521690022008304,
            null
           ]
          },
          {
           "line": {
            "color": "blue",
            "width": 2
           },
           "mode": "markers",
           "type": "scatter",
           "x": [
            0.8472746439951171,
            0.6156934976778865,
            2.59477667424195
           ],
           "y": [
            1.5445547170606517,
            -0.6217738533529957,
            0.3521690022008304
           ]
          }
         ]
        },
        {
         "data": [
          {
           "line": {
            "color": "red",
            "width": 2
           },
           "mode": "lines",
           "type": "scatter",
           "x": [
            0.7251300936361141,
            0.7200359122374425,
            null,
            0.7251300936361141,
            2.6125788100413967,
            null
           ],
           "y": [
            1.3383302221243782,
            -0.3147404264758699,
            null,
            1.3383302221243782,
            0.2513600702599782,
            null
           ]
          },
          {
           "line": {
            "color": "blue",
            "width": 2
           },
           "mode": "markers",
           "type": "scatter",
           "x": [
            0.7251300936361141,
            0.7200359122374425,
            2.6125788100413967
           ],
           "y": [
            1.3383302221243782,
            -0.3147404264758699,
            0.2513600702599782
           ]
          }
         ]
        },
        {
         "data": [
          {
           "line": {
            "color": "red",
            "width": 2
           },
           "mode": "lines",
           "type": "scatter",
           "x": [
            0.6209861833116685,
            0.8309397779906734,
            null,
            0.6209861833116685,
            2.605818854612611,
            null
           ],
           "y": [
            1.1089813029234654,
            0.006979297486613911,
            null,
            1.1089813029234654,
            0.15898926549840747,
            null
           ]
          },
          {
           "line": {
            "color": "blue",
            "width": 2
           },
           "mode": "markers",
           "type": "scatter",
           "x": [
            0.6209861833116685,
            0.8309397779906734,
            2.605818854612611
           ],
           "y": [
            1.1089813029234654,
            0.006979297486613911,
            0.15898926549840747
           ]
          }
         ]
        },
        {
         "data": [
          {
           "line": {
            "color": "red",
            "width": 2
           },
           "mode": "lines",
           "type": "scatter",
           "x": [
            0.5364263684874253,
            0.9470805188727194,
            null,
            0.5364263684874253,
            2.5742379285548083,
            null
           ],
           "y": [
            0.8677975975395977,
            0.33190002414504005,
            null,
            0.8677975975395977,
            0.07525224422384919,
            null
           ]
          },
          {
           "line": {
            "color": "blue",
            "width": 2
           },
           "mode": "markers",
           "type": "scatter",
           "x": [
            0.5364263684874253,
            0.9470805188727194,
            2.5742379285548083
           ],
           "y": [
            0.8677975975395977,
            0.33190002414504005,
            0.07525224422384919
           ]
          }
         ]
        },
        {
         "data": [
          {
           "line": {
            "color": "red",
            "width": 2
           },
           "mode": "lines",
           "type": "scatter",
           "x": [
            0.4659170100472276,
            1.0736162489595775,
            null,
            0.4659170100472276,
            2.518211556908148,
            null
           ],
           "y": [
            0.6261553821726897,
            0.6489117938700807,
            null,
            0.6261553821726897,
            -0.00011731013428326054,
            null
           ]
          },
          {
           "line": {
            "color": "blue",
            "width": 2
           },
           "mode": "markers",
           "type": "scatter",
           "x": [
            0.4659170100472276,
            1.0736162489595775,
            2.518211556908148
           ],
           "y": [
            0.6261553821726897,
            0.6489117938700807,
            -0.00011731013428326054
           ]
          }
         ]
        },
        {
         "data": [
          {
           "line": {
            "color": "red",
            "width": 2
           },
           "mode": "lines",
           "type": "scatter",
           "x": [
            0.40358766932588785,
            1.21562958323482,
            null,
            0.40358766932588785,
            2.438527563354245,
            null
           ],
           "y": [
            0.37815111376877086,
            0.9644618874204074,
            null,
            0.37815111376877086,
            -0.06766313528069089,
            null
           ]
          },
          {
           "line": {
            "color": "blue",
            "width": 2
           },
           "mode": "markers",
           "type": "scatter",
           "x": [
            0.40358766932588785,
            1.21562958323482,
            2.438527563354245
           ],
           "y": [
            0.37815111376877086,
            0.9644618874204074,
            -0.06766313528069089
           ]
          }
         ]
        },
        {
         "data": [
          {
           "line": {
            "color": "red",
            "width": 2
           },
           "mode": "lines",
           "type": "scatter",
           "x": [
            0.3602750722940238,
            1.3612053391440193,
            null,
            0.3602750722940238,
            2.33626440447691,
            null
           ],
           "y": [
            0.12600938213713503,
            1.276957506357417,
            null,
            0.12600938213713503,
            -0.12801702258606443,
            null
           ]
          },
          {
           "line": {
            "color": "blue",
            "width": 2
           },
           "mode": "markers",
           "type": "scatter",
           "x": [
            0.3602750722940238,
            1.3612053391440193,
            2.33626440447691
           ],
           "y": [
            0.12600938213713503,
            1.276957506357417,
            -0.12801702258606443
           ]
          }
         ]
        },
        {
         "data": [
          {
           "line": {
            "color": "red",
            "width": 2
           },
           "mode": "lines",
           "type": "scatter",
           "x": [
            0.3418270999198478,
            1.502912763659575,
            null,
            0.3418270999198478,
            2.2130049523355306,
            null
           ],
           "y": [
            -0.12047215452204985,
            1.5770786451817562,
            null,
            -0.12047215452204985,
            -0.18165662475121858,
            null
           ]
          },
          {
           "line": {
            "color": "blue",
            "width": 2
           },
           "mode": "markers",
           "type": "scatter",
           "x": [
            0.3418270999198478,
            1.502912763659575,
            2.2130049523355306
           ],
           "y": [
            -0.12047215452204985,
            1.5770786451817562,
            -0.18165662475121858
           ]
          }
         ]
        },
        {
         "data": [
          {
           "line": {
            "color": "red",
            "width": 2
           },
           "mode": "lines",
           "type": "scatter",
           "x": [
            0.35037374208786093,
            1.6362649146438353,
            null,
            0.35037374208786093,
            2.071106159183257,
            null
           ],
           "y": [
            -0.3517653296735103,
            1.8555447611043692,
            null,
            -0.3517653296735103,
            -0.22882956552237077,
            null
           ]
          },
          {
           "line": {
            "color": "blue",
            "width": 2
           },
           "mode": "markers",
           "type": "scatter",
           "x": [
            0.35037374208786093,
            1.6362649146438353,
            2.071106159183257
           ],
           "y": [
            -0.3517653296735103,
            1.8555447611043692,
            -0.22882956552237077
           ]
          }
         ]
        },
        {
         "data": [
          {
           "line": {
            "color": "red",
            "width": 2
           },
           "mode": "lines",
           "type": "scatter",
           "x": [
            0.3859245593512962,
            1.7580401076147465,
            null,
            0.3859245593512962,
            1.9137801489489106,
            null
           ],
           "y": [
            -0.5595445981184904,
            2.1040904204886637,
            null,
            -0.5595445981184904,
            -0.269595956461685,
            null
           ]
          },
          {
           "line": {
            "color": "blue",
            "width": 2
           },
           "mode": "markers",
           "type": "scatter",
           "x": [
            0.3859245593512962,
            1.7580401076147465,
            1.9137801489489106
           ],
           "y": [
            -0.5595445981184904,
            2.1040904204886637,
            -0.269595956461685
           ]
          }
         ]
        },
        {
         "data": [
          {
           "line": {
            "color": "red",
            "width": 2
           },
           "mode": "lines",
           "type": "scatter",
           "x": [
            0.44695903907165085,
            1.8657801337141957,
            null,
            0.44695903907165085,
            1.7450056431291066,
            null
           ],
           "y": [
            -0.7369115725623177,
            2.315641382697124,
            null,
            -0.7369115725623177,
            -0.3037799442263181,
            null
           ]
          },
          {
           "line": {
            "color": "blue",
            "width": 2
           },
           "mode": "markers",
           "type": "scatter",
           "x": [
            0.44695903907165085,
            1.8657801337141957,
            1.7450056431291066
           ],
           "y": [
            -0.7369115725623177,
            2.315641382697124,
            -0.3037799442263181
           ]
          }
         ]
        },
        {
         "data": [
          {
           "line": {
            "color": "red",
            "width": 2
           },
           "mode": "lines",
           "type": "scatter",
           "x": [
            0.5307338118385662,
            1.9576559149713784,
            null,
            0.5307338118385662,
            1.5693550891050085,
            null
           ],
           "y": [
            -0.8786598024118832,
            2.4843861948233403,
            null,
            -0.8786598024118832,
            -0.3307765265029687,
            null
           ]
          },
          {
           "line": {
            "color": "blue",
            "width": 2
           },
           "mode": "markers",
           "type": "scatter",
           "x": [
            0.5307338118385662,
            1.9576559149713784,
            1.5693550891050085
           ],
           "y": [
            -0.8786598024118832,
            2.4843861948233403,
            -0.3307765265029687
           ]
          }
         ]
        },
        {
         "data": [
          {
           "line": {
            "color": "red",
            "width": 2
           },
           "mode": "lines",
           "type": "scatter",
           "x": [
            0.6336184740713622,
            2.0324210472770905,
            null,
            0.6336184740713622,
            1.3917052945665003,
            null
           ],
           "y": [
            -0.9816368052137127,
            2.605820706977338,
            null,
            -0.9816368052137127,
            -0.3492340358551369,
            null
           ]
          },
          {
           "line": {
            "color": "blue",
            "width": 2
           },
           "mode": "markers",
           "type": "scatter",
           "x": [
            0.6336184740713622,
            2.0324210472770905,
            1.3917052945665003
           ],
           "y": [
            -0.9816368052137127,
            2.605820706977338,
            -0.3492340358551369
           ]
          }
         ]
        },
        {
         "data": [
          {
           "line": {
            "color": "red",
            "width": 2
           },
           "mode": "lines",
           "type": "scatter",
           "x": [
            0.7517367392901483,
            2.0893747450502005,
            null,
            0.7517367392901483,
            1.2166333315746038,
            null
           ],
           "y": [
            -1.0451411787743667,
            2.676774398778463,
            null,
            -1.0451411787743667,
            -0.3566833540956077,
            null
           ]
          },
          {
           "line": {
            "color": "blue",
            "width": 2
           },
           "mode": "markers",
           "type": "scatter",
           "x": [
            0.7517367392901483,
            2.0893747450502005,
            1.2166333315746038
           ],
           "y": [
            -1.0451411787743667,
            2.676774398778463,
            -0.3566833540956077
           ]
          }
         ]
        },
        {
         "data": [
          {
           "line": {
            "color": "red",
            "width": 2
           },
           "mode": "lines",
           "type": "scatter",
           "x": [
            0.8822719981141878,
            2.1283194042585913,
            null,
            0.8822719981141878,
            1.0471534135421736,
            null
           ],
           "y": [
            -1.0709540088858114,
            2.695415271169333,
            null,
            -1.0709540088858114,
            -0.3495113963750327,
            null
           ]
          },
          {
           "line": {
            "color": "blue",
            "width": 2
           },
           "mode": "markers",
           "type": "scatter",
           "x": [
            0.8822719981141878,
            2.1283194042585913,
            1.0471534135421736
           ],
           "y": [
            -1.0709540088858114,
            2.695415271169333,
            -0.3495113963750327
           ]
          }
         ]
        },
        {
         "data": [
          {
           "line": {
            "color": "red",
            "width": 2
           },
           "mode": "lines",
           "type": "scatter",
           "x": [
            1.0250818830598925,
            2.149520144514764,
            null,
            1.0250818830598925,
            0.883142788340296,
            null
           ],
           "y": [
            -1.061754932127865,
            2.661232101673851,
            null,
            -1.061754932127865,
            -0.32452730363749693,
            null
           ]
          },
          {
           "line": {
            "color": "blue",
            "width": 2
           },
           "mode": "markers",
           "type": "scatter",
           "x": [
            1.0250818830598925,
            2.149520144514764,
            0.883142788340296
           ],
           "y": [
            -1.061754932127865,
            2.661232101673851,
            -0.32452730363749693
           ]
          }
         ]
        },
        {
         "data": [
          {
           "line": {
            "color": "red",
            "width": 2
           },
           "mode": "lines",
           "type": "scatter",
           "x": [
            1.1815875429276397,
            2.153680698986196,
            null,
            1.1815875429276397,
            0.7224765740011164,
            null
           ],
           "y": [
            -1.0178383833982827,
            2.5750087050987838,
            null,
            -1.0178383833982827,
            -0.2822204557920113,
            null
           ]
          },
          {
           "line": {
            "color": "blue",
            "width": 2
           },
           "mode": "markers",
           "type": "scatter",
           "x": [
            1.1815875429276397,
            2.153680698986196,
            0.7224765740011164
           ],
           "y": [
            -1.0178383833982827,
            2.5750087050987838,
            -0.2822204557920113
           ]
          }
         ]
        },
        {
         "data": [
          {
           "line": {
            "color": "red",
            "width": 2
           },
           "mode": "lines",
           "type": "scatter",
           "x": [
            1.3505638098513852,
            2.1419298031126632,
            null,
            1.3505638098513852,
            0.5652512029509036,
            null
           ],
           "y": [
            -0.937168075145401,
            2.4388201673294754,
            null,
            -0.937168075145401,
            -0.22670222627558426,
            null
           ]
          },
          {
           "line": {
            "color": "blue",
            "width": 2
           },
           "mode": "markers",
           "type": "scatter",
           "x": [
            1.3505638098513852,
            2.1419298031126632,
            0.5652512029509036
           ],
           "y": [
            -0.937168075145401,
            2.4388201673294754,
            -0.22670222627558426
           ]
          }
         ]
        },
        {
         "data": [
          {
           "line": {
            "color": "red",
            "width": 2
           },
           "mode": "lines",
           "type": "scatter",
           "x": [
            1.5271656643285532,
            2.115785370002284,
            null,
            1.5271656643285532,
            0.4147937815841148,
            null
           ],
           "y": [
            -0.8187294273419193,
            2.256050183889803,
            null,
            -0.8187294273419193,
            -0.16237089063939358,
            null
           ]
          },
          {
           "line": {
            "color": "blue",
            "width": 2
           },
           "mode": "markers",
           "type": "scatter",
           "x": [
            1.5271656643285532,
            2.115785370002284,
            0.4147937815841148
           ],
           "y": [
            -0.8187294273419193,
            2.256050183889803,
            -0.16237089063939358
           ]
          }
         ]
        },
        {
         "data": [
          {
           "line": {
            "color": "red",
            "width": 2
           },
           "mode": "lines",
           "type": "scatter",
           "x": [
            1.7047077397092527,
            2.0770851395147094,
            null,
            1.7047077397092527,
            0.27595193669098966,
            null
           ],
           "y": [
            -0.664107825230636,
            2.0314039040048244,
            null,
            -0.664107825230636,
            -0.0923462128656979,
            null
           ]
          },
          {
           "line": {
            "color": "blue",
            "width": 2
           },
           "mode": "markers",
           "type": "scatter",
           "x": [
            1.7047077397092527,
            2.0770851395147094,
            0.27595193669098966
           ],
           "y": [
            -0.664107825230636,
            2.0314039040048244,
            -0.0923462128656979
           ]
          }
         ]
        },
        {
         "data": [
          {
           "line": {
            "color": "red",
            "width": 2
           },
           "mode": "lines",
           "type": "scatter",
           "x": [
            1.8761000849137421,
            2.0278887642751955,
            null,
            1.8761000849137421,
            0.153755966726014,
            null
           ],
           "y": [
            -0.47744747751388095,
            1.7709187685557448,
            null,
            -0.47744747751388095,
            -0.018521425133373112,
            null
           ]
          },
          {
           "line": {
            "color": "blue",
            "width": 2
           },
           "mode": "markers",
           "type": "scatter",
           "x": [
            1.8761000849137421,
            2.0278887642751955,
            0.153755966726014
           ],
           "y": [
            -0.47744747751388095,
            1.7709187685557448,
            -0.018521425133373112
           ]
          }
         ]
        },
        {
         "data": [
          {
           "line": {
            "color": "red",
            "width": 2
           },
           "mode": "lines",
           "type": "scatter",
           "x": [
            2.03462683478734,
            1.970331077626916,
            null,
            2.03462683478734,
            0.05278690350069558,
            null
           ],
           "y": [
            -0.26511927746587516,
            1.4820116427391934,
            null,
            -0.26511927746587516,
            0.05805750063517286,
            null
           ]
          },
          {
           "line": {
            "color": "blue",
            "width": 2
           },
           "mode": "markers",
           "type": "scatter",
           "x": [
            2.03462683478734,
            1.970331077626916,
            0.05278690350069558
           ],
           "y": [
            -0.26511927746587516,
            1.4820116427391934,
            0.05805750063517286
           ]
          }
         ]
        }
       ],
       "layout": {
        "height": 600,
        "hovermode": "closest",
        "template": {
         "data": {
          "bar": [
           {
            "error_x": {
             "color": "#2a3f5f"
            },
            "error_y": {
             "color": "#2a3f5f"
            },
            "marker": {
             "line": {
              "color": "#E5ECF6",
              "width": 0.5
             },
             "pattern": {
              "fillmode": "overlay",
              "size": 10,
              "solidity": 0.2
             }
            },
            "type": "bar"
           }
          ],
          "barpolar": [
           {
            "marker": {
             "line": {
              "color": "#E5ECF6",
              "width": 0.5
             },
             "pattern": {
              "fillmode": "overlay",
              "size": 10,
              "solidity": 0.2
             }
            },
            "type": "barpolar"
           }
          ],
          "carpet": [
           {
            "aaxis": {
             "endlinecolor": "#2a3f5f",
             "gridcolor": "white",
             "linecolor": "white",
             "minorgridcolor": "white",
             "startlinecolor": "#2a3f5f"
            },
            "baxis": {
             "endlinecolor": "#2a3f5f",
             "gridcolor": "white",
             "linecolor": "white",
             "minorgridcolor": "white",
             "startlinecolor": "#2a3f5f"
            },
            "type": "carpet"
           }
          ],
          "choropleth": [
           {
            "colorbar": {
             "outlinewidth": 0,
             "ticks": ""
            },
            "type": "choropleth"
           }
          ],
          "contour": [
           {
            "colorbar": {
             "outlinewidth": 0,
             "ticks": ""
            },
            "colorscale": [
             [
              0,
              "#0d0887"
             ],
             [
              0.1111111111111111,
              "#46039f"
             ],
             [
              0.2222222222222222,
              "#7201a8"
             ],
             [
              0.3333333333333333,
              "#9c179e"
             ],
             [
              0.4444444444444444,
              "#bd3786"
             ],
             [
              0.5555555555555556,
              "#d8576b"
             ],
             [
              0.6666666666666666,
              "#ed7953"
             ],
             [
              0.7777777777777778,
              "#fb9f3a"
             ],
             [
              0.8888888888888888,
              "#fdca26"
             ],
             [
              1,
              "#f0f921"
             ]
            ],
            "type": "contour"
           }
          ],
          "contourcarpet": [
           {
            "colorbar": {
             "outlinewidth": 0,
             "ticks": ""
            },
            "type": "contourcarpet"
           }
          ],
          "heatmap": [
           {
            "colorbar": {
             "outlinewidth": 0,
             "ticks": ""
            },
            "colorscale": [
             [
              0,
              "#0d0887"
             ],
             [
              0.1111111111111111,
              "#46039f"
             ],
             [
              0.2222222222222222,
              "#7201a8"
             ],
             [
              0.3333333333333333,
              "#9c179e"
             ],
             [
              0.4444444444444444,
              "#bd3786"
             ],
             [
              0.5555555555555556,
              "#d8576b"
             ],
             [
              0.6666666666666666,
              "#ed7953"
             ],
             [
              0.7777777777777778,
              "#fb9f3a"
             ],
             [
              0.8888888888888888,
              "#fdca26"
             ],
             [
              1,
              "#f0f921"
             ]
            ],
            "type": "heatmap"
           }
          ],
          "heatmapgl": [
           {
            "colorbar": {
             "outlinewidth": 0,
             "ticks": ""
            },
            "colorscale": [
             [
              0,
              "#0d0887"
             ],
             [
              0.1111111111111111,
              "#46039f"
             ],
             [
              0.2222222222222222,
              "#7201a8"
             ],
             [
              0.3333333333333333,
              "#9c179e"
             ],
             [
              0.4444444444444444,
              "#bd3786"
             ],
             [
              0.5555555555555556,
              "#d8576b"
             ],
             [
              0.6666666666666666,
              "#ed7953"
             ],
             [
              0.7777777777777778,
              "#fb9f3a"
             ],
             [
              0.8888888888888888,
              "#fdca26"
             ],
             [
              1,
              "#f0f921"
             ]
            ],
            "type": "heatmapgl"
           }
          ],
          "histogram": [
           {
            "marker": {
             "pattern": {
              "fillmode": "overlay",
              "size": 10,
              "solidity": 0.2
             }
            },
            "type": "histogram"
           }
          ],
          "histogram2d": [
           {
            "colorbar": {
             "outlinewidth": 0,
             "ticks": ""
            },
            "colorscale": [
             [
              0,
              "#0d0887"
             ],
             [
              0.1111111111111111,
              "#46039f"
             ],
             [
              0.2222222222222222,
              "#7201a8"
             ],
             [
              0.3333333333333333,
              "#9c179e"
             ],
             [
              0.4444444444444444,
              "#bd3786"
             ],
             [
              0.5555555555555556,
              "#d8576b"
             ],
             [
              0.6666666666666666,
              "#ed7953"
             ],
             [
              0.7777777777777778,
              "#fb9f3a"
             ],
             [
              0.8888888888888888,
              "#fdca26"
             ],
             [
              1,
              "#f0f921"
             ]
            ],
            "type": "histogram2d"
           }
          ],
          "histogram2dcontour": [
           {
            "colorbar": {
             "outlinewidth": 0,
             "ticks": ""
            },
            "colorscale": [
             [
              0,
              "#0d0887"
             ],
             [
              0.1111111111111111,
              "#46039f"
             ],
             [
              0.2222222222222222,
              "#7201a8"
             ],
             [
              0.3333333333333333,
              "#9c179e"
             ],
             [
              0.4444444444444444,
              "#bd3786"
             ],
             [
              0.5555555555555556,
              "#d8576b"
             ],
             [
              0.6666666666666666,
              "#ed7953"
             ],
             [
              0.7777777777777778,
              "#fb9f3a"
             ],
             [
              0.8888888888888888,
              "#fdca26"
             ],
             [
              1,
              "#f0f921"
             ]
            ],
            "type": "histogram2dcontour"
           }
          ],
          "mesh3d": [
           {
            "colorbar": {
             "outlinewidth": 0,
             "ticks": ""
            },
            "type": "mesh3d"
           }
          ],
          "parcoords": [
           {
            "line": {
             "colorbar": {
              "outlinewidth": 0,
              "ticks": ""
             }
            },
            "type": "parcoords"
           }
          ],
          "pie": [
           {
            "automargin": true,
            "type": "pie"
           }
          ],
          "scatter": [
           {
            "fillpattern": {
             "fillmode": "overlay",
             "size": 10,
             "solidity": 0.2
            },
            "type": "scatter"
           }
          ],
          "scatter3d": [
           {
            "line": {
             "colorbar": {
              "outlinewidth": 0,
              "ticks": ""
             }
            },
            "marker": {
             "colorbar": {
              "outlinewidth": 0,
              "ticks": ""
             }
            },
            "type": "scatter3d"
           }
          ],
          "scattercarpet": [
           {
            "marker": {
             "colorbar": {
              "outlinewidth": 0,
              "ticks": ""
             }
            },
            "type": "scattercarpet"
           }
          ],
          "scattergeo": [
           {
            "marker": {
             "colorbar": {
              "outlinewidth": 0,
              "ticks": ""
             }
            },
            "type": "scattergeo"
           }
          ],
          "scattergl": [
           {
            "marker": {
             "colorbar": {
              "outlinewidth": 0,
              "ticks": ""
             }
            },
            "type": "scattergl"
           }
          ],
          "scattermapbox": [
           {
            "marker": {
             "colorbar": {
              "outlinewidth": 0,
              "ticks": ""
             }
            },
            "type": "scattermapbox"
           }
          ],
          "scatterpolar": [
           {
            "marker": {
             "colorbar": {
              "outlinewidth": 0,
              "ticks": ""
             }
            },
            "type": "scatterpolar"
           }
          ],
          "scatterpolargl": [
           {
            "marker": {
             "colorbar": {
              "outlinewidth": 0,
              "ticks": ""
             }
            },
            "type": "scatterpolargl"
           }
          ],
          "scatterternary": [
           {
            "marker": {
             "colorbar": {
              "outlinewidth": 0,
              "ticks": ""
             }
            },
            "type": "scatterternary"
           }
          ],
          "surface": [
           {
            "colorbar": {
             "outlinewidth": 0,
             "ticks": ""
            },
            "colorscale": [
             [
              0,
              "#0d0887"
             ],
             [
              0.1111111111111111,
              "#46039f"
             ],
             [
              0.2222222222222222,
              "#7201a8"
             ],
             [
              0.3333333333333333,
              "#9c179e"
             ],
             [
              0.4444444444444444,
              "#bd3786"
             ],
             [
              0.5555555555555556,
              "#d8576b"
             ],
             [
              0.6666666666666666,
              "#ed7953"
             ],
             [
              0.7777777777777778,
              "#fb9f3a"
             ],
             [
              0.8888888888888888,
              "#fdca26"
             ],
             [
              1,
              "#f0f921"
             ]
            ],
            "type": "surface"
           }
          ],
          "table": [
           {
            "cells": {
             "fill": {
              "color": "#EBF0F8"
             },
             "line": {
              "color": "white"
             }
            },
            "header": {
             "fill": {
              "color": "#C8D4E3"
             },
             "line": {
              "color": "white"
             }
            },
            "type": "table"
           }
          ]
         },
         "layout": {
          "annotationdefaults": {
           "arrowcolor": "#2a3f5f",
           "arrowhead": 0,
           "arrowwidth": 1
          },
          "autotypenumbers": "strict",
          "coloraxis": {
           "colorbar": {
            "outlinewidth": 0,
            "ticks": ""
           }
          },
          "colorscale": {
           "diverging": [
            [
             0,
             "#8e0152"
            ],
            [
             0.1,
             "#c51b7d"
            ],
            [
             0.2,
             "#de77ae"
            ],
            [
             0.3,
             "#f1b6da"
            ],
            [
             0.4,
             "#fde0ef"
            ],
            [
             0.5,
             "#f7f7f7"
            ],
            [
             0.6,
             "#e6f5d0"
            ],
            [
             0.7,
             "#b8e186"
            ],
            [
             0.8,
             "#7fbc41"
            ],
            [
             0.9,
             "#4d9221"
            ],
            [
             1,
             "#276419"
            ]
           ],
           "sequential": [
            [
             0,
             "#0d0887"
            ],
            [
             0.1111111111111111,
             "#46039f"
            ],
            [
             0.2222222222222222,
             "#7201a8"
            ],
            [
             0.3333333333333333,
             "#9c179e"
            ],
            [
             0.4444444444444444,
             "#bd3786"
            ],
            [
             0.5555555555555556,
             "#d8576b"
            ],
            [
             0.6666666666666666,
             "#ed7953"
            ],
            [
             0.7777777777777778,
             "#fb9f3a"
            ],
            [
             0.8888888888888888,
             "#fdca26"
            ],
            [
             1,
             "#f0f921"
            ]
           ],
           "sequentialminus": [
            [
             0,
             "#0d0887"
            ],
            [
             0.1111111111111111,
             "#46039f"
            ],
            [
             0.2222222222222222,
             "#7201a8"
            ],
            [
             0.3333333333333333,
             "#9c179e"
            ],
            [
             0.4444444444444444,
             "#bd3786"
            ],
            [
             0.5555555555555556,
             "#d8576b"
            ],
            [
             0.6666666666666666,
             "#ed7953"
            ],
            [
             0.7777777777777778,
             "#fb9f3a"
            ],
            [
             0.8888888888888888,
             "#fdca26"
            ],
            [
             1,
             "#f0f921"
            ]
           ]
          },
          "colorway": [
           "#636efa",
           "#EF553B",
           "#00cc96",
           "#ab63fa",
           "#FFA15A",
           "#19d3f3",
           "#FF6692",
           "#B6E880",
           "#FF97FF",
           "#FECB52"
          ],
          "font": {
           "color": "#2a3f5f"
          },
          "geo": {
           "bgcolor": "white",
           "lakecolor": "white",
           "landcolor": "#E5ECF6",
           "showlakes": true,
           "showland": true,
           "subunitcolor": "white"
          },
          "hoverlabel": {
           "align": "left"
          },
          "hovermode": "closest",
          "mapbox": {
           "style": "light"
          },
          "paper_bgcolor": "white",
          "plot_bgcolor": "#E5ECF6",
          "polar": {
           "angularaxis": {
            "gridcolor": "white",
            "linecolor": "white",
            "ticks": ""
           },
           "bgcolor": "#E5ECF6",
           "radialaxis": {
            "gridcolor": "white",
            "linecolor": "white",
            "ticks": ""
           }
          },
          "scene": {
           "xaxis": {
            "backgroundcolor": "#E5ECF6",
            "gridcolor": "white",
            "gridwidth": 2,
            "linecolor": "white",
            "showbackground": true,
            "ticks": "",
            "zerolinecolor": "white"
           },
           "yaxis": {
            "backgroundcolor": "#E5ECF6",
            "gridcolor": "white",
            "gridwidth": 2,
            "linecolor": "white",
            "showbackground": true,
            "ticks": "",
            "zerolinecolor": "white"
           },
           "zaxis": {
            "backgroundcolor": "#E5ECF6",
            "gridcolor": "white",
            "gridwidth": 2,
            "linecolor": "white",
            "showbackground": true,
            "ticks": "",
            "zerolinecolor": "white"
           }
          },
          "shapedefaults": {
           "line": {
            "color": "#2a3f5f"
           }
          },
          "ternary": {
           "aaxis": {
            "gridcolor": "white",
            "linecolor": "white",
            "ticks": ""
           },
           "baxis": {
            "gridcolor": "white",
            "linecolor": "white",
            "ticks": ""
           },
           "bgcolor": "#E5ECF6",
           "caxis": {
            "gridcolor": "white",
            "linecolor": "white",
            "ticks": ""
           }
          },
          "title": {
           "x": 0.05
          },
          "xaxis": {
           "automargin": true,
           "gridcolor": "white",
           "linecolor": "white",
           "ticks": "",
           "title": {
            "standoff": 15
           },
           "zerolinecolor": "white",
           "zerolinewidth": 2
          },
          "yaxis": {
           "automargin": true,
           "gridcolor": "white",
           "linecolor": "white",
           "ticks": "",
           "title": {
            "standoff": 15
           },
           "zerolinecolor": "white",
           "zerolinewidth": 2
          }
         }
        },
        "title": {
         "text": "Moving Frenet Frame Along a Planar Curve"
        },
        "updatemenus": [
         {
          "buttons": [
           {
            "args": [
             null
            ],
            "label": "Play",
            "method": "animate"
           }
          ],
          "type": "buttons"
         }
        ],
        "width": 600,
        "xaxis": {
         "autorange": false,
         "range": [
          -5,
          5
         ],
         "zeroline": false
        },
        "yaxis": {
         "autorange": false,
         "range": [
          -5,
          5
         ],
         "zeroline": false
        }
       }
      }
     },
     "metadata": {},
     "output_type": "display_data"
    }
   ],
   "source": [
    "node_pos, edge_pos = graph_to_plotly(G)\n",
    "animate_network(node_pos, edge_pos)"
   ]
  },
  {
   "cell_type": "code",
   "execution_count": null,
   "metadata": {},
   "outputs": [],
   "source": []
  }
 ],
 "metadata": {
  "kernelspec": {
   "display_name": "jenv",
   "language": "python",
   "name": "python3"
  },
  "language_info": {
   "codemirror_mode": {
    "name": "ipython",
    "version": 3
   },
   "file_extension": ".py",
   "mimetype": "text/x-python",
   "name": "python",
   "nbconvert_exporter": "python",
   "pygments_lexer": "ipython3",
   "version": "3.9.7"
  },
  "orig_nbformat": 4,
  "vscode": {
   "interpreter": {
    "hash": "a6df720517243887f81f829574e18eed6582ce87175ffd531d5fa99bc43729cc"
   }
  }
 },
 "nbformat": 4,
 "nbformat_minor": 2
}
