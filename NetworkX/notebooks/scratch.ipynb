{
 "cells": [
  {
   "cell_type": "code",
   "execution_count": 5,
   "metadata": {
    "collapsed": true
   },
   "outputs": [],
   "source": [
    "import subprocess\n",
    "import sys\n",
    "\n",
    "def install(package):\n",
    "    subprocess.check_call([sys.executable, \"-m\", \"pip\", \"install\", package])\n",
    "\n",
    "install('plotly')"
   ]
  },
  {
   "cell_type": "code",
   "execution_count": 13,
   "metadata": {
    "collapsed": false
   },
   "outputs": [],
   "source": [
    "import numpy as np\n",
    "import networkx as nx\n",
    "import pandas as pd"
   ]
  },
  {
   "cell_type": "code",
   "execution_count": 4,
   "metadata": {
    "collapsed": false
   },
   "outputs": [],
   "source": [
    "with open('./../data/input.txt', 'r') as f:\n",
    "    lines = f.readlines()"
   ]
  },
  {
   "cell_type": "code",
   "execution_count": 39,
   "metadata": {},
   "outputs": [],
   "source": [
    "G = nx.Graph()\n",
    "\n",
    "G.add_node('A', pos=np.array([2,2], dtype=float))\n",
    "G.add_node('B', pos=np.array([-2,-2], dtype=float))\n",
    "G.add_node('C', pos=np.array([2,-2], dtype=float))\n",
    "G.add_edge('A', 'B')\n",
    "G.add_edge('B', 'A')\n",
    "G.add_edge('A', 'C')\n",
    "G.add_edge('C', 'A')"
   ]
  },
  {
   "cell_type": "code",
   "execution_count": 40,
   "metadata": {},
   "outputs": [],
   "source": [
    "T = [i/6 for i in range(60)]\n",
    "Ax = [np.sin(t) for t in T]\n",
    "Ay = [np.cos(t) for t in T]\n",
    "Bx = [np.sin(t) for t in T]\n",
    "By = [np.sin(t) for t in T]\n",
    "Cx = [t-4. for t in T]\n",
    "Cy = [np.sin(t) for t in T]"
   ]
  },
  {
   "cell_type": "code",
   "execution_count": 36,
   "metadata": {},
   "outputs": [],
   "source": [
    "import plotly.express as px\n",
    "df = px.data.gapminder()"
   ]
  },
  {
   "cell_type": "code",
   "execution_count": 41,
   "metadata": {},
   "outputs": [],
   "source": [
    "dfa = pd.DataFrame({'x': Ax, 'y': Ay, 'name': 'A', 'T':T})\n",
    "dfb = pd.DataFrame({'x': Bx, 'y': By, 'name': 'B', 'T':T})\n",
    "dfc = pd.DataFrame({'x': Cx, 'y': Cy, 'name': 'C', 'T':T})\n",
    "df = pd.concat([dfa, dfb, dfc])"
   ]
  },
  {
   "cell_type": "code",
   "execution_count": 31,
   "metadata": {},
   "outputs": [
    {
     "ename": "ValueError",
     "evalue": "The first argument to the plotly.graph_objs.Scatter\nconstructor must be a dict or\nan instance of :class:`plotly.graph_objs.Scatter`",
     "output_type": "error",
     "traceback": [
      "\u001b[1;31m---------------------------------------------------------------------------\u001b[0m",
      "\u001b[1;31mValueError\u001b[0m                                Traceback (most recent call last)",
      "\u001b[1;32m~\\AppData\\Local\\Temp/ipykernel_39324/3858159488.py\u001b[0m in \u001b[0;36m<module>\u001b[1;34m\u001b[0m\n\u001b[1;32m----> 1\u001b[1;33m node_scatter = go.Scatter(df,\n\u001b[0m\u001b[0;32m      2\u001b[0m     \u001b[0mx\u001b[0m\u001b[1;33m=\u001b[0m\u001b[1;34m'x'\u001b[0m\u001b[1;33m,\u001b[0m \u001b[0my\u001b[0m\u001b[1;33m=\u001b[0m\u001b[1;34m'y'\u001b[0m\u001b[1;33m,\u001b[0m\u001b[0manimation_frame\u001b[0m\u001b[1;33m=\u001b[0m\u001b[1;34m\"T\"\u001b[0m\u001b[1;33m,\u001b[0m \u001b[0manimation_group\u001b[0m\u001b[1;33m=\u001b[0m\u001b[1;34m\"name\"\u001b[0m\u001b[1;33m,\u001b[0m\u001b[1;33m\u001b[0m\u001b[1;33m\u001b[0m\u001b[0m\n\u001b[0;32m      3\u001b[0m     mode='markers')\n",
      "\u001b[1;32mc:\\Users\\joelw\\miniconda3\\envs\\jenv\\lib\\site-packages\\plotly\\graph_objs\\_scatter.py\u001b[0m in \u001b[0;36m__init__\u001b[1;34m(self, arg, cliponaxis, connectgaps, customdata, customdatasrc, dx, dy, error_x, error_y, fill, fillcolor, fillpattern, groupnorm, hoverinfo, hoverinfosrc, hoverlabel, hoveron, hovertemplate, hovertemplatesrc, hovertext, hovertextsrc, ids, idssrc, legendgroup, legendgrouptitle, legendrank, line, marker, meta, metasrc, mode, name, opacity, orientation, selected, selectedpoints, showlegend, stackgaps, stackgroup, stream, text, textfont, textposition, textpositionsrc, textsrc, texttemplate, texttemplatesrc, uid, uirevision, unselected, visible, x, x0, xaxis, xcalendar, xhoverformat, xperiod, xperiod0, xperiodalignment, xsrc, y, y0, yaxis, ycalendar, yhoverformat, yperiod, yperiod0, yperiodalignment, ysrc, **kwargs)\u001b[0m\n\u001b[0;32m   3073\u001b[0m             \u001b[0marg\u001b[0m \u001b[1;33m=\u001b[0m \u001b[0m_copy\u001b[0m\u001b[1;33m.\u001b[0m\u001b[0mcopy\u001b[0m\u001b[1;33m(\u001b[0m\u001b[0marg\u001b[0m\u001b[1;33m)\u001b[0m\u001b[1;33m\u001b[0m\u001b[1;33m\u001b[0m\u001b[0m\n\u001b[0;32m   3074\u001b[0m         \u001b[1;32melse\u001b[0m\u001b[1;33m:\u001b[0m\u001b[1;33m\u001b[0m\u001b[1;33m\u001b[0m\u001b[0m\n\u001b[1;32m-> 3075\u001b[1;33m             raise ValueError(\n\u001b[0m\u001b[0;32m   3076\u001b[0m                 \"\"\"\\\n\u001b[0;32m   3077\u001b[0m \u001b[0mThe\u001b[0m \u001b[0mfirst\u001b[0m \u001b[0margument\u001b[0m \u001b[0mto\u001b[0m \u001b[0mthe\u001b[0m \u001b[0mplotly\u001b[0m\u001b[1;33m.\u001b[0m\u001b[0mgraph_objs\u001b[0m\u001b[1;33m.\u001b[0m\u001b[0mScatter\u001b[0m\u001b[1;33m\u001b[0m\u001b[1;33m\u001b[0m\u001b[0m\n",
      "\u001b[1;31mValueError\u001b[0m: The first argument to the plotly.graph_objs.Scatter\nconstructor must be a dict or\nan instance of :class:`plotly.graph_objs.Scatter`"
     ]
    }
   ],
   "source": [
    "node_scatter = go.Scatter(\n",
    "    x='x', y='y',animation_frame=\"T\", animation_group=\"name\",\n",
    "    mode='markers')"
   ]
  },
  {
   "cell_type": "code",
   "execution_count": 42,
   "metadata": {},
   "outputs": [
    {
     "data": {
      "application/vnd.plotly.v1+json": {
       "config": {
        "plotlyServerURL": "https://plot.ly"
       },
       "data": [
        {
         "hovertemplate": "<b>%{hovertext}</b><br><br>T=0.0<br>x=%{x}<br>y=%{y}<extra></extra>",
         "hovertext": [
          "A",
          "B",
          "C"
         ],
         "ids": [
          "A",
          "B",
          "C"
         ],
         "legendgroup": "",
         "line": {
          "color": "#636efa",
          "dash": "solid"
         },
         "marker": {
          "symbol": "circle"
         },
         "mode": "lines",
         "name": "",
         "orientation": "v",
         "showlegend": false,
         "type": "scatter",
         "x": [
          0,
          0,
          -4
         ],
         "xaxis": "x",
         "y": [
          1,
          0,
          0
         ],
         "yaxis": "y"
        }
       ],
       "frames": [
        {
         "data": [
          {
           "hovertemplate": "<b>%{hovertext}</b><br><br>T=0.0<br>x=%{x}<br>y=%{y}<extra></extra>",
           "hovertext": [
            "A",
            "B",
            "C"
           ],
           "ids": [
            "A",
            "B",
            "C"
           ],
           "legendgroup": "",
           "line": {
            "color": "#636efa",
            "dash": "solid"
           },
           "marker": {
            "symbol": "circle"
           },
           "mode": "lines",
           "name": "",
           "orientation": "v",
           "showlegend": false,
           "type": "scatter",
           "x": [
            0,
            0,
            -4
           ],
           "xaxis": "x",
           "y": [
            1,
            0,
            0
           ],
           "yaxis": "y"
          }
         ],
         "name": "0.0"
        },
        {
         "data": [
          {
           "hovertemplate": "<b>%{hovertext}</b><br><br>T=0.16666666666666666<br>x=%{x}<br>y=%{y}<extra></extra>",
           "hovertext": [
            "A",
            "B",
            "C"
           ],
           "ids": [
            "A",
            "B",
            "C"
           ],
           "legendgroup": "",
           "line": {
            "color": "#636efa",
            "dash": "solid"
           },
           "marker": {
            "symbol": "circle"
           },
           "mode": "lines",
           "name": "",
           "orientation": "v",
           "showlegend": false,
           "type": "scatter",
           "x": [
            0.16589613269341502,
            0.16589613269341502,
            -3.8333333333333335
           ],
           "xaxis": "x",
           "y": [
            0.986143231562925,
            0.16589613269341502,
            0.16589613269341502
           ],
           "yaxis": "y"
          }
         ],
         "name": "0.16666666666666666"
        },
        {
         "data": [
          {
           "hovertemplate": "<b>%{hovertext}</b><br><br>T=0.3333333333333333<br>x=%{x}<br>y=%{y}<extra></extra>",
           "hovertext": [
            "A",
            "B",
            "C"
           ],
           "ids": [
            "A",
            "B",
            "C"
           ],
           "legendgroup": "",
           "line": {
            "color": "#636efa",
            "dash": "solid"
           },
           "marker": {
            "symbol": "circle"
           },
           "mode": "lines",
           "name": "",
           "orientation": "v",
           "showlegend": false,
           "type": "scatter",
           "x": [
            0.3271946967961522,
            0.3271946967961522,
            -3.6666666666666665
           ],
           "xaxis": "x",
           "y": [
            0.9449569463147377,
            0.3271946967961522,
            0.3271946967961522
           ],
           "yaxis": "y"
          }
         ],
         "name": "0.3333333333333333"
        },
        {
         "data": [
          {
           "hovertemplate": "<b>%{hovertext}</b><br><br>T=0.5<br>x=%{x}<br>y=%{y}<extra></extra>",
           "hovertext": [
            "A",
            "B",
            "C"
           ],
           "ids": [
            "A",
            "B",
            "C"
           ],
           "legendgroup": "",
           "line": {
            "color": "#636efa",
            "dash": "solid"
           },
           "marker": {
            "symbol": "circle"
           },
           "mode": "lines",
           "name": "",
           "orientation": "v",
           "showlegend": false,
           "type": "scatter",
           "x": [
            0.479425538604203,
            0.479425538604203,
            -3.5
           ],
           "xaxis": "x",
           "y": [
            0.8775825618903728,
            0.479425538604203,
            0.479425538604203
           ],
           "yaxis": "y"
          }
         ],
         "name": "0.5"
        },
        {
         "data": [
          {
           "hovertemplate": "<b>%{hovertext}</b><br><br>T=0.6666666666666666<br>x=%{x}<br>y=%{y}<extra></extra>",
           "hovertext": [
            "A",
            "B",
            "C"
           ],
           "ids": [
            "A",
            "B",
            "C"
           ],
           "legendgroup": "",
           "line": {
            "color": "#636efa",
            "dash": "solid"
           },
           "marker": {
            "symbol": "circle"
           },
           "mode": "lines",
           "name": "",
           "orientation": "v",
           "showlegend": false,
           "type": "scatter",
           "x": [
            0.618369803069737,
            0.618369803069737,
            -3.3333333333333335
           ],
           "xaxis": "x",
           "y": [
            0.785887260776948,
            0.618369803069737,
            0.618369803069737
           ],
           "yaxis": "y"
          }
         ],
         "name": "0.6666666666666666"
        },
        {
         "data": [
          {
           "hovertemplate": "<b>%{hovertext}</b><br><br>T=0.8333333333333334<br>x=%{x}<br>y=%{y}<extra></extra>",
           "hovertext": [
            "A",
            "B",
            "C"
           ],
           "ids": [
            "A",
            "B",
            "C"
           ],
           "legendgroup": "",
           "line": {
            "color": "#636efa",
            "dash": "solid"
           },
           "marker": {
            "symbol": "circle"
           },
           "mode": "lines",
           "name": "",
           "orientation": "v",
           "showlegend": false,
           "type": "scatter",
           "x": [
            0.7401768531960371,
            0.7401768531960371,
            -3.1666666666666665
           ],
           "xaxis": "x",
           "y": [
            0.6724122440830567,
            0.7401768531960371,
            0.7401768531960371
           ],
           "yaxis": "y"
          }
         ],
         "name": "0.8333333333333334"
        },
        {
         "data": [
          {
           "hovertemplate": "<b>%{hovertext}</b><br><br>T=1.0<br>x=%{x}<br>y=%{y}<extra></extra>",
           "hovertext": [
            "A",
            "B",
            "C"
           ],
           "ids": [
            "A",
            "B",
            "C"
           ],
           "legendgroup": "",
           "line": {
            "color": "#636efa",
            "dash": "solid"
           },
           "marker": {
            "symbol": "circle"
           },
           "mode": "lines",
           "name": "",
           "orientation": "v",
           "showlegend": false,
           "type": "scatter",
           "x": [
            0.8414709848078965,
            0.8414709848078965,
            -3
           ],
           "xaxis": "x",
           "y": [
            0.5403023058681398,
            0.8414709848078965,
            0.8414709848078965
           ],
           "yaxis": "y"
          }
         ],
         "name": "1.0"
        },
        {
         "data": [
          {
           "hovertemplate": "<b>%{hovertext}</b><br><br>T=1.1666666666666667<br>x=%{x}<br>y=%{y}<extra></extra>",
           "hovertext": [
            "A",
            "B",
            "C"
           ],
           "ids": [
            "A",
            "B",
            "C"
           ],
           "legendgroup": "",
           "line": {
            "color": "#636efa",
            "dash": "solid"
           },
           "marker": {
            "symbol": "circle"
           },
           "mode": "lines",
           "name": "",
           "orientation": "v",
           "showlegend": false,
           "type": "scatter",
           "x": [
            0.9194449792537551,
            0.9194449792537551,
            -2.833333333333333
           ],
           "xaxis": "x",
           "y": [
            0.39321867977635777,
            0.9194449792537551,
            0.9194449792537551
           ],
           "yaxis": "y"
          }
         ],
         "name": "1.1666666666666667"
        },
        {
         "data": [
          {
           "hovertemplate": "<b>%{hovertext}</b><br><br>T=1.3333333333333333<br>x=%{x}<br>y=%{y}<extra></extra>",
           "hovertext": [
            "A",
            "B",
            "C"
           ],
           "ids": [
            "A",
            "B",
            "C"
           ],
           "legendgroup": "",
           "line": {
            "color": "#636efa",
            "dash": "solid"
           },
           "marker": {
            "symbol": "circle"
           },
           "mode": "lines",
           "name": "",
           "orientation": "v",
           "showlegend": false,
           "type": "scatter",
           "x": [
            0.9719379013633127,
            0.9719379013633127,
            -2.666666666666667
           ],
           "xaxis": "x",
           "y": [
            0.23523757330298942,
            0.9719379013633127,
            0.9719379013633127
           ],
           "yaxis": "y"
          }
         ],
         "name": "1.3333333333333333"
        },
        {
         "data": [
          {
           "hovertemplate": "<b>%{hovertext}</b><br><br>T=1.5<br>x=%{x}<br>y=%{y}<extra></extra>",
           "hovertext": [
            "A",
            "B",
            "C"
           ],
           "ids": [
            "A",
            "B",
            "C"
           ],
           "legendgroup": "",
           "line": {
            "color": "#636efa",
            "dash": "solid"
           },
           "marker": {
            "symbol": "circle"
           },
           "mode": "lines",
           "name": "",
           "orientation": "v",
           "showlegend": false,
           "type": "scatter",
           "x": [
            0.9974949866040544,
            0.9974949866040544,
            -2.5
           ],
           "xaxis": "x",
           "y": [
            0.0707372016677029,
            0.9974949866040544,
            0.9974949866040544
           ],
           "yaxis": "y"
          }
         ],
         "name": "1.5"
        },
        {
         "data": [
          {
           "hovertemplate": "<b>%{hovertext}</b><br><br>T=1.6666666666666667<br>x=%{x}<br>y=%{y}<extra></extra>",
           "hovertext": [
            "A",
            "B",
            "C"
           ],
           "ids": [
            "A",
            "B",
            "C"
           ],
           "legendgroup": "",
           "line": {
            "color": "#636efa",
            "dash": "solid"
           },
           "marker": {
            "symbol": "circle"
           },
           "mode": "lines",
           "name": "",
           "orientation": "v",
           "showlegend": false,
           "type": "scatter",
           "x": [
            0.9954079577517649,
            0.9954079577517649,
            -2.333333333333333
           ],
           "xaxis": "x",
           "y": [
            -0.09572354801437566,
            0.9954079577517649,
            0.9954079577517649
           ],
           "yaxis": "y"
          }
         ],
         "name": "1.6666666666666667"
        },
        {
         "data": [
          {
           "hovertemplate": "<b>%{hovertext}</b><br><br>T=1.8333333333333333<br>x=%{x}<br>y=%{y}<extra></extra>",
           "hovertext": [
            "A",
            "B",
            "C"
           ],
           "ids": [
            "A",
            "B",
            "C"
           ],
           "legendgroup": "",
           "line": {
            "color": "#636efa",
            "dash": "solid"
           },
           "marker": {
            "symbol": "circle"
           },
           "mode": "lines",
           "name": "",
           "orientation": "v",
           "showlegend": false,
           "type": "scatter",
           "x": [
            0.9657346537574998,
            0.9657346537574998,
            -2.166666666666667
           ],
           "xaxis": "x",
           "y": [
            -0.25953145961883317,
            0.9657346537574998,
            0.9657346537574998
           ],
           "yaxis": "y"
          }
         ],
         "name": "1.8333333333333333"
        },
        {
         "data": [
          {
           "hovertemplate": "<b>%{hovertext}</b><br><br>T=2.0<br>x=%{x}<br>y=%{y}<extra></extra>",
           "hovertext": [
            "A",
            "B",
            "C"
           ],
           "ids": [
            "A",
            "B",
            "C"
           ],
           "legendgroup": "",
           "line": {
            "color": "#636efa",
            "dash": "solid"
           },
           "marker": {
            "symbol": "circle"
           },
           "mode": "lines",
           "name": "",
           "orientation": "v",
           "showlegend": false,
           "type": "scatter",
           "x": [
            0.9092974268256817,
            0.9092974268256817,
            -2
           ],
           "xaxis": "x",
           "y": [
            -0.4161468365471424,
            0.9092974268256817,
            0.9092974268256817
           ],
           "yaxis": "y"
          }
         ],
         "name": "2.0"
        },
        {
         "data": [
          {
           "hovertemplate": "<b>%{hovertext}</b><br><br>T=2.1666666666666665<br>x=%{x}<br>y=%{y}<extra></extra>",
           "hovertext": [
            "A",
            "B",
            "C"
           ],
           "ids": [
            "A",
            "B",
            "C"
           ],
           "legendgroup": "",
           "line": {
            "color": "#636efa",
            "dash": "solid"
           },
           "marker": {
            "symbol": "circle"
           },
           "mode": "lines",
           "name": "",
           "orientation": "v",
           "showlegend": false,
           "type": "scatter",
           "x": [
            0.8276603521259606,
            0.8276603521259606,
            -1.8333333333333335
           ],
           "xaxis": "x",
           "y": [
            -0.5612293127757414,
            0.8276603521259606,
            0.8276603521259606
           ],
           "yaxis": "y"
          }
         ],
         "name": "2.1666666666666665"
        },
        {
         "data": [
          {
           "hovertemplate": "<b>%{hovertext}</b><br><br>T=2.3333333333333335<br>x=%{x}<br>y=%{y}<extra></extra>",
           "hovertext": [
            "A",
            "B",
            "C"
           ],
           "ids": [
            "A",
            "B",
            "C"
           ],
           "legendgroup": "",
           "line": {
            "color": "#636efa",
            "dash": "solid"
           },
           "marker": {
            "symbol": "circle"
           },
           "mode": "lines",
           "name": "",
           "orientation": "v",
           "showlegend": false,
           "type": "scatter",
           "x": [
            0.7230858817383246,
            0.7230858817383246,
            -1.6666666666666665
           ],
           "xaxis": "x",
           "y": [
            -0.6907581397498764,
            0.7230858817383246,
            0.7230858817383246
           ],
           "yaxis": "y"
          }
         ],
         "name": "2.3333333333333335"
        },
        {
         "data": [
          {
           "hovertemplate": "<b>%{hovertext}</b><br><br>T=2.5<br>x=%{x}<br>y=%{y}<extra></extra>",
           "hovertext": [
            "A",
            "B",
            "C"
           ],
           "ids": [
            "A",
            "B",
            "C"
           ],
           "legendgroup": "",
           "line": {
            "color": "#636efa",
            "dash": "solid"
           },
           "marker": {
            "symbol": "circle"
           },
           "mode": "lines",
           "name": "",
           "orientation": "v",
           "showlegend": false,
           "type": "scatter",
           "x": [
            0.5984721441039564,
            0.5984721441039564,
            -1.5
           ],
           "xaxis": "x",
           "y": [
            -0.8011436155469337,
            0.5984721441039564,
            0.5984721441039564
           ],
           "yaxis": "y"
          }
         ],
         "name": "2.5"
        },
        {
         "data": [
          {
           "hovertemplate": "<b>%{hovertext}</b><br><br>T=2.6666666666666665<br>x=%{x}<br>y=%{y}<extra></extra>",
           "hovertext": [
            "A",
            "B",
            "C"
           ],
           "ids": [
            "A",
            "B",
            "C"
           ],
           "legendgroup": "",
           "line": {
            "color": "#636efa",
            "dash": "solid"
           },
           "marker": {
            "symbol": "circle"
           },
           "mode": "lines",
           "name": "",
           "orientation": "v",
           "showlegend": false,
           "type": "scatter",
           "x": [
            0.457272626635812,
            0.457272626635812,
            -1.3333333333333335
           ],
           "xaxis": "x",
           "y": [
            -0.8893265682130413,
            0.457272626635812,
            0.457272626635812
           ],
           "yaxis": "y"
          }
         ],
         "name": "2.6666666666666665"
        },
        {
         "data": [
          {
           "hovertemplate": "<b>%{hovertext}</b><br><br>T=2.8333333333333335<br>x=%{x}<br>y=%{y}<extra></extra>",
           "hovertext": [
            "A",
            "B",
            "C"
           ],
           "ids": [
            "A",
            "B",
            "C"
           ],
           "legendgroup": "",
           "line": {
            "color": "#636efa",
            "dash": "solid"
           },
           "marker": {
            "symbol": "circle"
           },
           "mode": "lines",
           "name": "",
           "orientation": "v",
           "showlegend": false,
           "type": "scatter",
           "x": [
            0.3034004673678561,
            0.3034004673678561,
            -1.1666666666666665
           ],
           "xaxis": "x",
           "y": [
            -0.9528631362378159,
            0.3034004673678561,
            0.3034004673678561
           ],
           "yaxis": "y"
          }
         ],
         "name": "2.8333333333333335"
        },
        {
         "data": [
          {
           "hovertemplate": "<b>%{hovertext}</b><br><br>T=3.0<br>x=%{x}<br>y=%{y}<extra></extra>",
           "hovertext": [
            "A",
            "B",
            "C"
           ],
           "ids": [
            "A",
            "B",
            "C"
           ],
           "legendgroup": "",
           "line": {
            "color": "#636efa",
            "dash": "solid"
           },
           "marker": {
            "symbol": "circle"
           },
           "mode": "lines",
           "name": "",
           "orientation": "v",
           "showlegend": false,
           "type": "scatter",
           "x": [
            0.1411200080598672,
            0.1411200080598672,
            -1
           ],
           "xaxis": "x",
           "y": [
            -0.9899924966004454,
            0.1411200080598672,
            0.1411200080598672
           ],
           "yaxis": "y"
          }
         ],
         "name": "3.0"
        },
        {
         "data": [
          {
           "hovertemplate": "<b>%{hovertext}</b><br><br>T=3.1666666666666665<br>x=%{x}<br>y=%{y}<extra></extra>",
           "hovertext": [
            "A",
            "B",
            "C"
           ],
           "ids": [
            "A",
            "B",
            "C"
           ],
           "legendgroup": "",
           "line": {
            "color": "#636efa",
            "dash": "solid"
           },
           "marker": {
            "symbol": "circle"
           },
           "mode": "lines",
           "name": "",
           "orientation": "v",
           "showlegend": false,
           "type": "scatter",
           "x": [
            -0.02507138579516909,
            -0.02507138579516909,
            -0.8333333333333335
           ],
           "xaxis": "x",
           "y": [
            -0.9996856634034069,
            -0.02507138579516909,
            -0.02507138579516909
           ],
           "yaxis": "y"
          }
         ],
         "name": "3.1666666666666665"
        },
        {
         "data": [
          {
           "hovertemplate": "<b>%{hovertext}</b><br><br>T=3.3333333333333335<br>x=%{x}<br>y=%{y}<extra></extra>",
           "hovertext": [
            "A",
            "B",
            "C"
           ],
           "ids": [
            "A",
            "B",
            "C"
           ],
           "legendgroup": "",
           "line": {
            "color": "#636efa",
            "dash": "solid"
           },
           "marker": {
            "symbol": "circle"
           },
           "mode": "lines",
           "name": "",
           "orientation": "v",
           "showlegend": false,
           "type": "scatter",
           "x": [
            -0.19056796287548539,
            -0.19056796287548539,
            -0.6666666666666665
           ],
           "xaxis": "x",
           "y": [
            -0.981674004711079,
            -0.19056796287548539,
            -0.19056796287548539
           ],
           "yaxis": "y"
          }
         ],
         "name": "3.3333333333333335"
        },
        {
         "data": [
          {
           "hovertemplate": "<b>%{hovertext}</b><br><br>T=3.5<br>x=%{x}<br>y=%{y}<extra></extra>",
           "hovertext": [
            "A",
            "B",
            "C"
           ],
           "ids": [
            "A",
            "B",
            "C"
           ],
           "legendgroup": "",
           "line": {
            "color": "#636efa",
            "dash": "solid"
           },
           "marker": {
            "symbol": "circle"
           },
           "mode": "lines",
           "name": "",
           "orientation": "v",
           "showlegend": false,
           "type": "scatter",
           "x": [
            -0.35078322768961984,
            -0.35078322768961984,
            -0.5
           ],
           "xaxis": "x",
           "y": [
            -0.9364566872907963,
            -0.35078322768961984,
            -0.35078322768961984
           ],
           "yaxis": "y"
          }
         ],
         "name": "3.5"
        },
        {
         "data": [
          {
           "hovertemplate": "<b>%{hovertext}</b><br><br>T=3.6666666666666665<br>x=%{x}<br>y=%{y}<extra></extra>",
           "hovertext": [
            "A",
            "B",
            "C"
           ],
           "ids": [
            "A",
            "B",
            "C"
           ],
           "legendgroup": "",
           "line": {
            "color": "#636efa",
            "dash": "solid"
           },
           "marker": {
            "symbol": "circle"
           },
           "mode": "lines",
           "name": "",
           "orientation": "v",
           "showlegend": false,
           "type": "scatter",
           "x": [
            -0.5012770485883448,
            -0.5012770485883448,
            -0.3333333333333335
           ],
           "xaxis": "x",
           "y": [
            -0.8652868429362359,
            -0.5012770485883448,
            -0.5012770485883448
           ],
           "yaxis": "y"
          }
         ],
         "name": "3.6666666666666665"
        },
        {
         "data": [
          {
           "hovertemplate": "<b>%{hovertext}</b><br><br>T=3.8333333333333335<br>x=%{x}<br>y=%{y}<extra></extra>",
           "hovertext": [
            "A",
            "B",
            "C"
           ],
           "ids": [
            "A",
            "B",
            "C"
           ],
           "legendgroup": "",
           "line": {
            "color": "#636efa",
            "dash": "solid"
           },
           "marker": {
            "symbol": "circle"
           },
           "mode": "lines",
           "name": "",
           "orientation": "v",
           "showlegend": false,
           "type": "scatter",
           "x": [
            -0.6378787095168519,
            -0.6378787095168519,
            -0.16666666666666652
           ],
           "xaxis": "x",
           "y": [
            -0.7701368397532452,
            -0.6378787095168519,
            -0.6378787095168519
           ],
           "yaxis": "y"
          }
         ],
         "name": "3.8333333333333335"
        },
        {
         "data": [
          {
           "hovertemplate": "<b>%{hovertext}</b><br><br>T=4.0<br>x=%{x}<br>y=%{y}<extra></extra>",
           "hovertext": [
            "A",
            "B",
            "C"
           ],
           "ids": [
            "A",
            "B",
            "C"
           ],
           "legendgroup": "",
           "line": {
            "color": "#636efa",
            "dash": "solid"
           },
           "marker": {
            "symbol": "circle"
           },
           "mode": "lines",
           "name": "",
           "orientation": "v",
           "showlegend": false,
           "type": "scatter",
           "x": [
            -0.7568024953079282,
            -0.7568024953079282,
            0
           ],
           "xaxis": "x",
           "y": [
            -0.6536436208636119,
            -0.7568024953079282,
            -0.7568024953079282
           ],
           "yaxis": "y"
          }
         ],
         "name": "4.0"
        },
        {
         "data": [
          {
           "hovertemplate": "<b>%{hovertext}</b><br><br>T=4.166666666666667<br>x=%{x}<br>y=%{y}<extra></extra>",
           "hovertext": [
            "A",
            "B",
            "C"
           ],
           "ids": [
            "A",
            "B",
            "C"
           ],
           "legendgroup": "",
           "line": {
            "color": "#636efa",
            "dash": "solid"
           },
           "marker": {
            "symbol": "circle"
           },
           "mode": "lines",
           "name": "",
           "orientation": "v",
           "showlegend": false,
           "type": "scatter",
           "x": [
            -0.85475260723884,
            -0.85475260723884,
            0.16666666666666696
           ],
           "xaxis": "x",
           "y": [
            -0.5190356253846217,
            -0.85475260723884,
            -0.85475260723884
           ],
           "yaxis": "y"
          }
         ],
         "name": "4.166666666666667"
        },
        {
         "data": [
          {
           "hovertemplate": "<b>%{hovertext}</b><br><br>T=4.333333333333333<br>x=%{x}<br>y=%{y}<extra></extra>",
           "hovertext": [
            "A",
            "B",
            "C"
           ],
           "ids": [
            "A",
            "B",
            "C"
           ],
           "legendgroup": "",
           "line": {
            "color": "#636efa",
            "dash": "solid"
           },
           "marker": {
            "symbol": "circle"
           },
           "mode": "lines",
           "name": "",
           "orientation": "v",
           "showlegend": false,
           "type": "scatter",
           "x": [
            -0.9290145012707619,
            -0.9290145012707619,
            0.33333333333333304
           ],
           "xaxis": "x",
           "y": [
            -0.3700433169625381,
            -0.9290145012707619,
            -0.9290145012707619
           ],
           "yaxis": "y"
          }
         ],
         "name": "4.333333333333333"
        },
        {
         "data": [
          {
           "hovertemplate": "<b>%{hovertext}</b><br><br>T=4.5<br>x=%{x}<br>y=%{y}<extra></extra>",
           "hovertext": [
            "A",
            "B",
            "C"
           ],
           "ids": [
            "A",
            "B",
            "C"
           ],
           "legendgroup": "",
           "line": {
            "color": "#636efa",
            "dash": "solid"
           },
           "marker": {
            "symbol": "circle"
           },
           "mode": "lines",
           "name": "",
           "orientation": "v",
           "showlegend": false,
           "type": "scatter",
           "x": [
            -0.977530117665097,
            -0.977530117665097,
            0.5
           ],
           "xaxis": "x",
           "y": [
            -0.2107957994307797,
            -0.977530117665097,
            -0.977530117665097
           ],
           "yaxis": "y"
          }
         ],
         "name": "4.5"
        },
        {
         "data": [
          {
           "hovertemplate": "<b>%{hovertext}</b><br><br>T=4.666666666666667<br>x=%{x}<br>y=%{y}<extra></extra>",
           "hovertext": [
            "A",
            "B",
            "C"
           ],
           "ids": [
            "A",
            "B",
            "C"
           ],
           "legendgroup": "",
           "line": {
            "color": "#636efa",
            "dash": "solid"
           },
           "marker": {
            "symbol": "circle"
           },
           "mode": "lines",
           "name": "",
           "orientation": "v",
           "showlegend": false,
           "type": "scatter",
           "x": [
            -0.9989549170979283,
            -0.9989549170979283,
            0.666666666666667
           ],
           "xaxis": "x",
           "y": [
            -0.04570638473858045,
            -0.9989549170979283,
            -0.9989549170979283
           ],
           "yaxis": "y"
          }
         ],
         "name": "4.666666666666667"
        },
        {
         "data": [
          {
           "hovertemplate": "<b>%{hovertext}</b><br><br>T=4.833333333333333<br>x=%{x}<br>y=%{y}<extra></extra>",
           "hovertext": [
            "A",
            "B",
            "C"
           ],
           "ids": [
            "A",
            "B",
            "C"
           ],
           "legendgroup": "",
           "line": {
            "color": "#636efa",
            "dash": "solid"
           },
           "marker": {
            "symbol": "circle"
           },
           "mode": "lines",
           "name": "",
           "orientation": "v",
           "showlegend": false,
           "type": "scatter",
           "x": [
            -0.9926951426001528,
            -0.9926951426001528,
            0.833333333333333
           ],
           "xaxis": "x",
           "y": [
            0.12064971553245465,
            -0.9926951426001528,
            -0.9926951426001528
           ],
           "yaxis": "y"
          }
         ],
         "name": "4.833333333333333"
        },
        {
         "data": [
          {
           "hovertemplate": "<b>%{hovertext}</b><br><br>T=5.0<br>x=%{x}<br>y=%{y}<extra></extra>",
           "hovertext": [
            "A",
            "B",
            "C"
           ],
           "ids": [
            "A",
            "B",
            "C"
           ],
           "legendgroup": "",
           "line": {
            "color": "#636efa",
            "dash": "solid"
           },
           "marker": {
            "symbol": "circle"
           },
           "mode": "lines",
           "name": "",
           "orientation": "v",
           "showlegend": false,
           "type": "scatter",
           "x": [
            -0.9589242746631385,
            -0.9589242746631385,
            1
           ],
           "xaxis": "x",
           "y": [
            0.28366218546322625,
            -0.9589242746631385,
            -0.9589242746631385
           ],
           "yaxis": "y"
          }
         ],
         "name": "5.0"
        },
        {
         "data": [
          {
           "hovertemplate": "<b>%{hovertext}</b><br><br>T=5.166666666666667<br>x=%{x}<br>y=%{y}<extra></extra>",
           "hovertext": [
            "A",
            "B",
            "C"
           ],
           "ids": [
            "A",
            "B",
            "C"
           ],
           "legendgroup": "",
           "line": {
            "color": "#636efa",
            "dash": "solid"
           },
           "marker": {
            "symbol": "circle"
           },
           "mode": "lines",
           "name": "",
           "orientation": "v",
           "showlegend": false,
           "type": "scatter",
           "x": [
            -0.8985782234807297,
            -0.8985782234807297,
            1.166666666666667
           ],
           "xaxis": "x",
           "y": [
            0.4388133729573608,
            -0.8985782234807297,
            -0.8985782234807297
           ],
           "yaxis": "y"
          }
         ],
         "name": "5.166666666666667"
        },
        {
         "data": [
          {
           "hovertemplate": "<b>%{hovertext}</b><br><br>T=5.333333333333333<br>x=%{x}<br>y=%{y}<extra></extra>",
           "hovertext": [
            "A",
            "B",
            "C"
           ],
           "ids": [
            "A",
            "B",
            "C"
           ],
           "legendgroup": "",
           "line": {
            "color": "#636efa",
            "dash": "solid"
           },
           "marker": {
            "symbol": "circle"
           },
           "mode": "lines",
           "name": "",
           "orientation": "v",
           "showlegend": false,
           "type": "scatter",
           "x": [
            -0.81332939156758,
            -0.81332939156758,
            1.333333333333333
           ],
           "xaxis": "x",
           "y": [
            0.5818034898591706,
            -0.81332939156758,
            -0.81332939156758
           ],
           "yaxis": "y"
          }
         ],
         "name": "5.333333333333333"
        },
        {
         "data": [
          {
           "hovertemplate": "<b>%{hovertext}</b><br><br>T=5.5<br>x=%{x}<br>y=%{y}<extra></extra>",
           "hovertext": [
            "A",
            "B",
            "C"
           ],
           "ids": [
            "A",
            "B",
            "C"
           ],
           "legendgroup": "",
           "line": {
            "color": "#636efa",
            "dash": "solid"
           },
           "marker": {
            "symbol": "circle"
           },
           "mode": "lines",
           "name": "",
           "orientation": "v",
           "showlegend": false,
           "type": "scatter",
           "x": [
            -0.7055403255703919,
            -0.7055403255703919,
            1.5
           ],
           "xaxis": "x",
           "y": [
            0.70866977429126,
            -0.7055403255703919,
            -0.7055403255703919
           ],
           "yaxis": "y"
          }
         ],
         "name": "5.5"
        },
        {
         "data": [
          {
           "hovertemplate": "<b>%{hovertext}</b><br><br>T=5.666666666666667<br>x=%{x}<br>y=%{y}<extra></extra>",
           "hovertext": [
            "A",
            "B",
            "C"
           ],
           "ids": [
            "A",
            "B",
            "C"
           ],
           "legendgroup": "",
           "line": {
            "color": "#636efa",
            "dash": "solid"
           },
           "marker": {
            "symbol": "circle"
           },
           "mode": "lines",
           "name": "",
           "orientation": "v",
           "showlegend": false,
           "type": "scatter",
           "x": [
            -0.5781982417443089,
            -0.5781982417443089,
            1.666666666666667
           ],
           "xaxis": "x",
           "y": [
            0.815896312801933,
            -0.5781982417443089,
            -0.5781982417443089
           ],
           "yaxis": "y"
          }
         ],
         "name": "5.666666666666667"
        },
        {
         "data": [
          {
           "hovertemplate": "<b>%{hovertext}</b><br><br>T=5.833333333333333<br>x=%{x}<br>y=%{y}<extra></extra>",
           "hovertext": [
            "A",
            "B",
            "C"
           ],
           "ids": [
            "A",
            "B",
            "C"
           ],
           "legendgroup": "",
           "line": {
            "color": "#636efa",
            "dash": "solid"
           },
           "marker": {
            "symbol": "circle"
           },
           "mode": "lines",
           "name": "",
           "orientation": "v",
           "showlegend": false,
           "type": "scatter",
           "x": [
            -0.43483223962507717,
            -0.43483223962507717,
            1.833333333333333
           ],
           "xaxis": "x",
           "y": [
            0.9005114787622862,
            -0.43483223962507717,
            -0.43483223962507717
           ],
           "yaxis": "y"
          }
         ],
         "name": "5.833333333333333"
        },
        {
         "data": [
          {
           "hovertemplate": "<b>%{hovertext}</b><br><br>T=6.0<br>x=%{x}<br>y=%{y}<extra></extra>",
           "hovertext": [
            "A",
            "B",
            "C"
           ],
           "ids": [
            "A",
            "B",
            "C"
           ],
           "legendgroup": "",
           "line": {
            "color": "#636efa",
            "dash": "solid"
           },
           "marker": {
            "symbol": "circle"
           },
           "mode": "lines",
           "name": "",
           "orientation": "v",
           "showlegend": false,
           "type": "scatter",
           "x": [
            -0.27941549819892586,
            -0.27941549819892586,
            2
           ],
           "xaxis": "x",
           "y": [
            0.960170286650366,
            -0.27941549819892586,
            -0.27941549819892586
           ],
           "yaxis": "y"
          }
         ],
         "name": "6.0"
        },
        {
         "data": [
          {
           "hovertemplate": "<b>%{hovertext}</b><br><br>T=6.166666666666667<br>x=%{x}<br>y=%{y}<extra></extra>",
           "hovertext": [
            "A",
            "B",
            "C"
           ],
           "ids": [
            "A",
            "B",
            "C"
           ],
           "legendgroup": "",
           "line": {
            "color": "#636efa",
            "dash": "solid"
           },
           "marker": {
            "symbol": "circle"
           },
           "mode": "lines",
           "name": "",
           "orientation": "v",
           "showlegend": false,
           "type": "scatter",
           "x": [
            -0.11625516506022966,
            -0.11625516506022966,
            2.166666666666667
           ],
           "xaxis": "x",
           "y": [
            0.9932193798938977,
            -0.11625516506022966,
            -0.11625516506022966
           ],
           "yaxis": "y"
          }
         ],
         "name": "6.166666666666667"
        },
        {
         "data": [
          {
           "hovertemplate": "<b>%{hovertext}</b><br><br>T=6.333333333333333<br>x=%{x}<br>y=%{y}<extra></extra>",
           "hovertext": [
            "A",
            "B",
            "C"
           ],
           "ids": [
            "A",
            "B",
            "C"
           ],
           "legendgroup": "",
           "line": {
            "color": "#636efa",
            "dash": "solid"
           },
           "marker": {
            "symbol": "circle"
           },
           "mode": "lines",
           "name": "",
           "orientation": "v",
           "showlegend": false,
           "type": "scatter",
           "x": [
            0.050127009882172724,
            0.050127009882172724,
            2.333333333333333
           ],
           "xaxis": "x",
           "y": [
            0.9987428512286196,
            0.050127009882172724,
            0.050127009882172724
           ],
           "yaxis": "y"
          }
         ],
         "name": "6.333333333333333"
        },
        {
         "data": [
          {
           "hovertemplate": "<b>%{hovertext}</b><br><br>T=6.5<br>x=%{x}<br>y=%{y}<extra></extra>",
           "hovertext": [
            "A",
            "B",
            "C"
           ],
           "ids": [
            "A",
            "B",
            "C"
           ],
           "legendgroup": "",
           "line": {
            "color": "#636efa",
            "dash": "solid"
           },
           "marker": {
            "symbol": "circle"
           },
           "mode": "lines",
           "name": "",
           "orientation": "v",
           "showlegend": false,
           "type": "scatter",
           "x": [
            0.21511998808781552,
            0.21511998808781552,
            2.5
           ],
           "xaxis": "x",
           "y": [
            0.9765876257280235,
            0.21511998808781552,
            0.21511998808781552
           ],
           "yaxis": "y"
          }
         ],
         "name": "6.5"
        },
        {
         "data": [
          {
           "hovertemplate": "<b>%{hovertext}</b><br><br>T=6.666666666666667<br>x=%{x}<br>y=%{y}<extra></extra>",
           "hovertext": [
            "A",
            "B",
            "C"
           ],
           "ids": [
            "A",
            "B",
            "C"
           ],
           "legendgroup": "",
           "line": {
            "color": "#636efa",
            "dash": "solid"
           },
           "marker": {
            "symbol": "circle"
           },
           "mode": "lines",
           "name": "",
           "orientation": "v",
           "showlegend": false,
           "type": "scatter",
           "x": [
            0.37415123057121996,
            0.37415123057121996,
            2.666666666666667
           ],
           "xaxis": "x",
           "y": [
            0.9273677030509753,
            0.37415123057121996,
            0.37415123057121996
           ],
           "yaxis": "y"
          }
         ],
         "name": "6.666666666666667"
        },
        {
         "data": [
          {
           "hovertemplate": "<b>%{hovertext}</b><br><br>T=6.833333333333333<br>x=%{x}<br>y=%{y}<extra></extra>",
           "hovertext": [
            "A",
            "B",
            "C"
           ],
           "ids": [
            "A",
            "B",
            "C"
           ],
           "legendgroup": "",
           "line": {
            "color": "#636efa",
            "dash": "solid"
           },
           "marker": {
            "symbol": "circle"
           },
           "mode": "lines",
           "name": "",
           "orientation": "v",
           "showlegend": false,
           "type": "scatter",
           "x": [
            0.5228134191296795,
            0.5228134191296795,
            2.833333333333333
           ],
           "xaxis": "x",
           "y": [
            0.8524471413395285,
            0.5228134191296795,
            0.5228134191296795
           ],
           "yaxis": "y"
          }
         ],
         "name": "6.833333333333333"
        },
        {
         "data": [
          {
           "hovertemplate": "<b>%{hovertext}</b><br><br>T=7.0<br>x=%{x}<br>y=%{y}<extra></extra>",
           "hovertext": [
            "A",
            "B",
            "C"
           ],
           "ids": [
            "A",
            "B",
            "C"
           ],
           "legendgroup": "",
           "line": {
            "color": "#636efa",
            "dash": "solid"
           },
           "marker": {
            "symbol": "circle"
           },
           "mode": "lines",
           "name": "",
           "orientation": "v",
           "showlegend": false,
           "type": "scatter",
           "x": [
            0.6569865987187891,
            0.6569865987187891,
            3
           ],
           "xaxis": "x",
           "y": [
            0.7539022543433046,
            0.6569865987187891,
            0.6569865987187891
           ],
           "yaxis": "y"
          }
         ],
         "name": "7.0"
        },
        {
         "data": [
          {
           "hovertemplate": "<b>%{hovertext}</b><br><br>T=7.166666666666667<br>x=%{x}<br>y=%{y}<extra></extra>",
           "hovertext": [
            "A",
            "B",
            "C"
           ],
           "ids": [
            "A",
            "B",
            "C"
           ],
           "legendgroup": "",
           "line": {
            "color": "#636efa",
            "dash": "solid"
           },
           "marker": {
            "symbol": "circle"
           },
           "mode": "lines",
           "name": "",
           "orientation": "v",
           "showlegend": false,
           "type": "scatter",
           "x": [
            0.7729523559784831,
            0.7729523559784831,
            3.166666666666667
           ],
           "xaxis": "x",
           "y": [
            0.6344640694218329,
            0.7729523559784831,
            0.7729523559784831
           ],
           "yaxis": "y"
          }
         ],
         "name": "7.166666666666667"
        },
        {
         "data": [
          {
           "hovertemplate": "<b>%{hovertext}</b><br><br>T=7.333333333333333<br>x=%{x}<br>y=%{y}<extra></extra>",
           "hovertext": [
            "A",
            "B",
            "C"
           ],
           "ids": [
            "A",
            "B",
            "C"
           ],
           "legendgroup": "",
           "line": {
            "color": "#636efa",
            "dash": "solid"
           },
           "marker": {
            "symbol": "circle"
           },
           "mode": "lines",
           "name": "",
           "orientation": "v",
           "showlegend": false,
           "type": "scatter",
           "x": [
            0.8674968696188059,
            0.8674968696188059,
            3.333333333333333
           ],
           "xaxis": "x",
           "y": [
            0.49744264111711656,
            0.8674968696188059,
            0.8674968696188059
           ],
           "yaxis": "y"
          }
         ],
         "name": "7.333333333333333"
        },
        {
         "data": [
          {
           "hovertemplate": "<b>%{hovertext}</b><br><br>T=7.5<br>x=%{x}<br>y=%{y}<extra></extra>",
           "hovertext": [
            "A",
            "B",
            "C"
           ],
           "ids": [
            "A",
            "B",
            "C"
           ],
           "legendgroup": "",
           "line": {
            "color": "#636efa",
            "dash": "solid"
           },
           "marker": {
            "symbol": "circle"
           },
           "mode": "lines",
           "name": "",
           "orientation": "v",
           "showlegend": false,
           "type": "scatter",
           "x": [
            0.9379999767747389,
            0.9379999767747389,
            3.5
           ],
           "xaxis": "x",
           "y": [
            0.3466353178350258,
            0.9379999767747389,
            0.9379999767747389
           ],
           "yaxis": "y"
          }
         ],
         "name": "7.5"
        },
        {
         "data": [
          {
           "hovertemplate": "<b>%{hovertext}</b><br><br>T=7.666666666666667<br>x=%{x}<br>y=%{y}<extra></extra>",
           "hovertext": [
            "A",
            "B",
            "C"
           ],
           "ids": [
            "A",
            "B",
            "C"
           ],
           "legendgroup": "",
           "line": {
            "color": "#636efa",
            "dash": "solid"
           },
           "marker": {
            "symbol": "circle"
           },
           "mode": "lines",
           "name": "",
           "orientation": "v",
           "showlegend": false,
           "type": "scatter",
           "x": [
            0.9825077869863732,
            0.9825077869863732,
            3.666666666666667
           ],
           "xaxis": "x",
           "y": [
            0.1862215038902314,
            0.9825077869863732,
            0.9825077869863732
           ],
           "yaxis": "y"
          }
         ],
         "name": "7.666666666666667"
        },
        {
         "data": [
          {
           "hovertemplate": "<b>%{hovertext}</b><br><br>T=7.833333333333333<br>x=%{x}<br>y=%{y}<extra></extra>",
           "hovertext": [
            "A",
            "B",
            "C"
           ],
           "ids": [
            "A",
            "B",
            "C"
           ],
           "legendgroup": "",
           "line": {
            "color": "#636efa",
            "dash": "solid"
           },
           "marker": {
            "symbol": "circle"
           },
           "mode": "lines",
           "name": "",
           "orientation": "v",
           "showlegend": false,
           "type": "scatter",
           "x": [
            0.9997868314142212,
            0.9997868314142212,
            3.833333333333333
           ],
           "xaxis": "x",
           "y": [
            0.020646833430616282,
            0.9997868314142212,
            0.9997868314142212
           ],
           "yaxis": "y"
          }
         ],
         "name": "7.833333333333333"
        },
        {
         "data": [
          {
           "hovertemplate": "<b>%{hovertext}</b><br><br>T=8.0<br>x=%{x}<br>y=%{y}<extra></extra>",
           "hovertext": [
            "A",
            "B",
            "C"
           ],
           "ids": [
            "A",
            "B",
            "C"
           ],
           "legendgroup": "",
           "line": {
            "color": "#636efa",
            "dash": "solid"
           },
           "marker": {
            "symbol": "circle"
           },
           "mode": "lines",
           "name": "",
           "orientation": "v",
           "showlegend": false,
           "type": "scatter",
           "x": [
            0.9893582466233818,
            0.9893582466233818,
            4
           ],
           "xaxis": "x",
           "y": [
            -0.14550003380861354,
            0.9893582466233818,
            0.9893582466233818
           ],
           "yaxis": "y"
          }
         ],
         "name": "8.0"
        },
        {
         "data": [
          {
           "hovertemplate": "<b>%{hovertext}</b><br><br>T=8.166666666666666<br>x=%{x}<br>y=%{y}<extra></extra>",
           "hovertext": [
            "A",
            "B",
            "C"
           ],
           "ids": [
            "A",
            "B",
            "C"
           ],
           "legendgroup": "",
           "line": {
            "color": "#636efa",
            "dash": "solid"
           },
           "marker": {
            "symbol": "circle"
           },
           "mode": "lines",
           "name": "",
           "orientation": "v",
           "showlegend": false,
           "type": "scatter",
           "x": [
            0.9515110455830011,
            0.9515110455830011,
            4.166666666666666
           ],
           "xaxis": "x",
           "y": [
            -0.3076145804956974,
            0.9515110455830011,
            0.9515110455830011
           ],
           "yaxis": "y"
          }
         ],
         "name": "8.166666666666666"
        },
        {
         "data": [
          {
           "hovertemplate": "<b>%{hovertext}</b><br><br>T=8.333333333333334<br>x=%{x}<br>y=%{y}<extra></extra>",
           "hovertext": [
            "A",
            "B",
            "C"
           ],
           "ids": [
            "A",
            "B",
            "C"
           ],
           "legendgroup": "",
           "line": {
            "color": "#636efa",
            "dash": "solid"
           },
           "marker": {
            "symbol": "circle"
           },
           "mode": "lines",
           "name": "",
           "orientation": "v",
           "showlegend": false,
           "type": "scatter",
           "x": [
            0.8872941080946944,
            0.8872941080946944,
            4.333333333333334
           ],
           "xaxis": "x",
           "y": [
            -0.46120403916318925,
            0.8872941080946944,
            0.8872941080946944
           ],
           "yaxis": "y"
          }
         ],
         "name": "8.333333333333334"
        },
        {
         "data": [
          {
           "hovertemplate": "<b>%{hovertext}</b><br><br>T=8.5<br>x=%{x}<br>y=%{y}<extra></extra>",
           "hovertext": [
            "A",
            "B",
            "C"
           ],
           "ids": [
            "A",
            "B",
            "C"
           ],
           "legendgroup": "",
           "line": {
            "color": "#636efa",
            "dash": "solid"
           },
           "marker": {
            "symbol": "circle"
           },
           "mode": "lines",
           "name": "",
           "orientation": "v",
           "showlegend": false,
           "type": "scatter",
           "x": [
            0.7984871126234903,
            0.7984871126234903,
            4.5
           ],
           "xaxis": "x",
           "y": [
            -0.6020119026848236,
            0.7984871126234903,
            0.7984871126234903
           ],
           "yaxis": "y"
          }
         ],
         "name": "8.5"
        },
        {
         "data": [
          {
           "hovertemplate": "<b>%{hovertext}</b><br><br>T=8.666666666666666<br>x=%{x}<br>y=%{y}<extra></extra>",
           "hovertext": [
            "A",
            "B",
            "C"
           ],
           "ids": [
            "A",
            "B",
            "C"
           ],
           "legendgroup": "",
           "line": {
            "color": "#636efa",
            "dash": "solid"
           },
           "marker": {
            "symbol": "circle"
           },
           "mode": "lines",
           "name": "",
           "orientation": "v",
           "showlegend": false,
           "type": "scatter",
           "x": [
            0.6875512151130616,
            0.6875512151130616,
            4.666666666666666
           ],
           "xaxis": "x",
           "y": [
            -0.726135887142725,
            0.6875512151130616,
            0.6875512151130616
           ],
           "yaxis": "y"
          }
         ],
         "name": "8.666666666666666"
        },
        {
         "data": [
          {
           "hovertemplate": "<b>%{hovertext}</b><br><br>T=8.833333333333334<br>x=%{x}<br>y=%{y}<extra></extra>",
           "hovertext": [
            "A",
            "B",
            "C"
           ],
           "ids": [
            "A",
            "B",
            "C"
           ],
           "legendgroup": "",
           "line": {
            "color": "#636efa",
            "dash": "solid"
           },
           "marker": {
            "symbol": "circle"
           },
           "mode": "lines",
           "name": "",
           "orientation": "v",
           "showlegend": false,
           "type": "scatter",
           "x": [
            0.5575608416497293,
            0.5575608416497293,
            4.833333333333334
           ],
           "xaxis": "x",
           "y": [
            -0.8301360779166542,
            0.5575608416497293,
            0.5575608416497293
           ],
           "yaxis": "y"
          }
         ],
         "name": "8.833333333333334"
        },
        {
         "data": [
          {
           "hovertemplate": "<b>%{hovertext}</b><br><br>T=9.0<br>x=%{x}<br>y=%{y}<extra></extra>",
           "hovertext": [
            "A",
            "B",
            "C"
           ],
           "ids": [
            "A",
            "B",
            "C"
           ],
           "legendgroup": "",
           "line": {
            "color": "#636efa",
            "dash": "solid"
           },
           "marker": {
            "symbol": "circle"
           },
           "mode": "lines",
           "name": "",
           "orientation": "v",
           "showlegend": false,
           "type": "scatter",
           "x": [
            0.4121184852417566,
            0.4121184852417566,
            5
           ],
           "xaxis": "x",
           "y": [
            -0.9111302618846769,
            0.4121184852417566,
            0.4121184852417566
           ],
           "yaxis": "y"
          }
         ],
         "name": "9.0"
        },
        {
         "data": [
          {
           "hovertemplate": "<b>%{hovertext}</b><br><br>T=9.166666666666666<br>x=%{x}<br>y=%{y}<extra></extra>",
           "hovertext": [
            "A",
            "B",
            "C"
           ],
           "ids": [
            "A",
            "B",
            "C"
           ],
           "legendgroup": "",
           "line": {
            "color": "#636efa",
            "dash": "solid"
           },
           "marker": {
            "symbol": "circle"
           },
           "mode": "lines",
           "name": "",
           "orientation": "v",
           "showlegend": false,
           "type": "scatter",
           "x": [
            0.2552548679965177,
            0.2552548679965177,
            5.166666666666666
           ],
           "xaxis": "x",
           "y": [
            -0.9668738037428051,
            0.2552548679965177,
            0.2552548679965177
           ],
           "yaxis": "y"
          }
         ],
         "name": "9.166666666666666"
        },
        {
         "data": [
          {
           "hovertemplate": "<b>%{hovertext}</b><br><br>T=9.333333333333334<br>x=%{x}<br>y=%{y}<extra></extra>",
           "hovertext": [
            "A",
            "B",
            "C"
           ],
           "ids": [
            "A",
            "B",
            "C"
           ],
           "legendgroup": "",
           "line": {
            "color": "#636efa",
            "dash": "solid"
           },
           "marker": {
            "symbol": "circle"
           },
           "mode": "lines",
           "name": "",
           "orientation": "v",
           "showlegend": false,
           "type": "scatter",
           "x": [
            0.0913172355547493,
            0.0913172355547493,
            5.333333333333334
           ],
           "xaxis": "x",
           "y": [
            -0.9958218527882577,
            0.0913172355547493,
            0.0913172355547493
           ],
           "yaxis": "y"
          }
         ],
         "name": "9.333333333333334"
        },
        {
         "data": [
          {
           "hovertemplate": "<b>%{hovertext}</b><br><br>T=9.5<br>x=%{x}<br>y=%{y}<extra></extra>",
           "hovertext": [
            "A",
            "B",
            "C"
           ],
           "ids": [
            "A",
            "B",
            "C"
           ],
           "legendgroup": "",
           "line": {
            "color": "#636efa",
            "dash": "solid"
           },
           "marker": {
            "symbol": "circle"
           },
           "mode": "lines",
           "name": "",
           "orientation": "v",
           "showlegend": false,
           "type": "scatter",
           "x": [
            -0.0751511204618093,
            -0.0751511204618093,
            5.5
           ],
           "xaxis": "x",
           "y": [
            -0.9971721561963784,
            -0.0751511204618093,
            -0.0751511204618093
           ],
           "yaxis": "y"
          }
         ],
         "name": "9.5"
        },
        {
         "data": [
          {
           "hovertemplate": "<b>%{hovertext}</b><br><br>T=9.666666666666666<br>x=%{x}<br>y=%{y}<extra></extra>",
           "hovertext": [
            "A",
            "B",
            "C"
           ],
           "ids": [
            "A",
            "B",
            "C"
           ],
           "legendgroup": "",
           "line": {
            "color": "#636efa",
            "dash": "solid"
           },
           "marker": {
            "symbol": "circle"
           },
           "mode": "lines",
           "name": "",
           "orientation": "v",
           "showlegend": false,
           "type": "scatter",
           "x": [
            -0.2395367731303159,
            -0.2395367731303159,
            5.666666666666666
           ],
           "xaxis": "x",
           "y": [
            -0.9708872922838755,
            -0.2395367731303159,
            -0.2395367731303159
           ],
           "yaxis": "y"
          }
         ],
         "name": "9.666666666666666"
        },
        {
         "data": [
          {
           "hovertemplate": "<b>%{hovertext}</b><br><br>T=9.833333333333334<br>x=%{x}<br>y=%{y}<extra></extra>",
           "hovertext": [
            "A",
            "B",
            "C"
           ],
           "ids": [
            "A",
            "B",
            "C"
           ],
           "legendgroup": "",
           "line": {
            "color": "#636efa",
            "dash": "solid"
           },
           "marker": {
            "symbol": "circle"
           },
           "mode": "lines",
           "name": "",
           "orientation": "v",
           "showlegend": false,
           "type": "scatter",
           "x": [
            -0.3972840146039623,
            -0.3972840146039623,
            5.833333333333334
           ],
           "xaxis": "x",
           "y": [
            -0.9176957075960194,
            -0.3972840146039623,
            -0.3972840146039623
           ],
           "yaxis": "y"
          }
         ],
         "name": "9.833333333333334"
        }
       ],
       "layout": {
        "legend": {
         "tracegroupgap": 0
        },
        "margin": {
         "t": 60
        },
        "sliders": [
         {
          "active": 0,
          "currentvalue": {
           "prefix": "T="
          },
          "len": 0.9,
          "pad": {
           "b": 10,
           "t": 60
          },
          "steps": [
           {
            "args": [
             [
              "0.0"
             ],
             {
              "frame": {
               "duration": 0,
               "redraw": false
              },
              "fromcurrent": true,
              "mode": "immediate",
              "transition": {
               "duration": 0,
               "easing": "linear"
              }
             }
            ],
            "label": "0.0",
            "method": "animate"
           },
           {
            "args": [
             [
              "0.16666666666666666"
             ],
             {
              "frame": {
               "duration": 0,
               "redraw": false
              },
              "fromcurrent": true,
              "mode": "immediate",
              "transition": {
               "duration": 0,
               "easing": "linear"
              }
             }
            ],
            "label": "0.16666666666666666",
            "method": "animate"
           },
           {
            "args": [
             [
              "0.3333333333333333"
             ],
             {
              "frame": {
               "duration": 0,
               "redraw": false
              },
              "fromcurrent": true,
              "mode": "immediate",
              "transition": {
               "duration": 0,
               "easing": "linear"
              }
             }
            ],
            "label": "0.3333333333333333",
            "method": "animate"
           },
           {
            "args": [
             [
              "0.5"
             ],
             {
              "frame": {
               "duration": 0,
               "redraw": false
              },
              "fromcurrent": true,
              "mode": "immediate",
              "transition": {
               "duration": 0,
               "easing": "linear"
              }
             }
            ],
            "label": "0.5",
            "method": "animate"
           },
           {
            "args": [
             [
              "0.6666666666666666"
             ],
             {
              "frame": {
               "duration": 0,
               "redraw": false
              },
              "fromcurrent": true,
              "mode": "immediate",
              "transition": {
               "duration": 0,
               "easing": "linear"
              }
             }
            ],
            "label": "0.6666666666666666",
            "method": "animate"
           },
           {
            "args": [
             [
              "0.8333333333333334"
             ],
             {
              "frame": {
               "duration": 0,
               "redraw": false
              },
              "fromcurrent": true,
              "mode": "immediate",
              "transition": {
               "duration": 0,
               "easing": "linear"
              }
             }
            ],
            "label": "0.8333333333333334",
            "method": "animate"
           },
           {
            "args": [
             [
              "1.0"
             ],
             {
              "frame": {
               "duration": 0,
               "redraw": false
              },
              "fromcurrent": true,
              "mode": "immediate",
              "transition": {
               "duration": 0,
               "easing": "linear"
              }
             }
            ],
            "label": "1.0",
            "method": "animate"
           },
           {
            "args": [
             [
              "1.1666666666666667"
             ],
             {
              "frame": {
               "duration": 0,
               "redraw": false
              },
              "fromcurrent": true,
              "mode": "immediate",
              "transition": {
               "duration": 0,
               "easing": "linear"
              }
             }
            ],
            "label": "1.1666666666666667",
            "method": "animate"
           },
           {
            "args": [
             [
              "1.3333333333333333"
             ],
             {
              "frame": {
               "duration": 0,
               "redraw": false
              },
              "fromcurrent": true,
              "mode": "immediate",
              "transition": {
               "duration": 0,
               "easing": "linear"
              }
             }
            ],
            "label": "1.3333333333333333",
            "method": "animate"
           },
           {
            "args": [
             [
              "1.5"
             ],
             {
              "frame": {
               "duration": 0,
               "redraw": false
              },
              "fromcurrent": true,
              "mode": "immediate",
              "transition": {
               "duration": 0,
               "easing": "linear"
              }
             }
            ],
            "label": "1.5",
            "method": "animate"
           },
           {
            "args": [
             [
              "1.6666666666666667"
             ],
             {
              "frame": {
               "duration": 0,
               "redraw": false
              },
              "fromcurrent": true,
              "mode": "immediate",
              "transition": {
               "duration": 0,
               "easing": "linear"
              }
             }
            ],
            "label": "1.6666666666666667",
            "method": "animate"
           },
           {
            "args": [
             [
              "1.8333333333333333"
             ],
             {
              "frame": {
               "duration": 0,
               "redraw": false
              },
              "fromcurrent": true,
              "mode": "immediate",
              "transition": {
               "duration": 0,
               "easing": "linear"
              }
             }
            ],
            "label": "1.8333333333333333",
            "method": "animate"
           },
           {
            "args": [
             [
              "2.0"
             ],
             {
              "frame": {
               "duration": 0,
               "redraw": false
              },
              "fromcurrent": true,
              "mode": "immediate",
              "transition": {
               "duration": 0,
               "easing": "linear"
              }
             }
            ],
            "label": "2.0",
            "method": "animate"
           },
           {
            "args": [
             [
              "2.1666666666666665"
             ],
             {
              "frame": {
               "duration": 0,
               "redraw": false
              },
              "fromcurrent": true,
              "mode": "immediate",
              "transition": {
               "duration": 0,
               "easing": "linear"
              }
             }
            ],
            "label": "2.1666666666666665",
            "method": "animate"
           },
           {
            "args": [
             [
              "2.3333333333333335"
             ],
             {
              "frame": {
               "duration": 0,
               "redraw": false
              },
              "fromcurrent": true,
              "mode": "immediate",
              "transition": {
               "duration": 0,
               "easing": "linear"
              }
             }
            ],
            "label": "2.3333333333333335",
            "method": "animate"
           },
           {
            "args": [
             [
              "2.5"
             ],
             {
              "frame": {
               "duration": 0,
               "redraw": false
              },
              "fromcurrent": true,
              "mode": "immediate",
              "transition": {
               "duration": 0,
               "easing": "linear"
              }
             }
            ],
            "label": "2.5",
            "method": "animate"
           },
           {
            "args": [
             [
              "2.6666666666666665"
             ],
             {
              "frame": {
               "duration": 0,
               "redraw": false
              },
              "fromcurrent": true,
              "mode": "immediate",
              "transition": {
               "duration": 0,
               "easing": "linear"
              }
             }
            ],
            "label": "2.6666666666666665",
            "method": "animate"
           },
           {
            "args": [
             [
              "2.8333333333333335"
             ],
             {
              "frame": {
               "duration": 0,
               "redraw": false
              },
              "fromcurrent": true,
              "mode": "immediate",
              "transition": {
               "duration": 0,
               "easing": "linear"
              }
             }
            ],
            "label": "2.8333333333333335",
            "method": "animate"
           },
           {
            "args": [
             [
              "3.0"
             ],
             {
              "frame": {
               "duration": 0,
               "redraw": false
              },
              "fromcurrent": true,
              "mode": "immediate",
              "transition": {
               "duration": 0,
               "easing": "linear"
              }
             }
            ],
            "label": "3.0",
            "method": "animate"
           },
           {
            "args": [
             [
              "3.1666666666666665"
             ],
             {
              "frame": {
               "duration": 0,
               "redraw": false
              },
              "fromcurrent": true,
              "mode": "immediate",
              "transition": {
               "duration": 0,
               "easing": "linear"
              }
             }
            ],
            "label": "3.1666666666666665",
            "method": "animate"
           },
           {
            "args": [
             [
              "3.3333333333333335"
             ],
             {
              "frame": {
               "duration": 0,
               "redraw": false
              },
              "fromcurrent": true,
              "mode": "immediate",
              "transition": {
               "duration": 0,
               "easing": "linear"
              }
             }
            ],
            "label": "3.3333333333333335",
            "method": "animate"
           },
           {
            "args": [
             [
              "3.5"
             ],
             {
              "frame": {
               "duration": 0,
               "redraw": false
              },
              "fromcurrent": true,
              "mode": "immediate",
              "transition": {
               "duration": 0,
               "easing": "linear"
              }
             }
            ],
            "label": "3.5",
            "method": "animate"
           },
           {
            "args": [
             [
              "3.6666666666666665"
             ],
             {
              "frame": {
               "duration": 0,
               "redraw": false
              },
              "fromcurrent": true,
              "mode": "immediate",
              "transition": {
               "duration": 0,
               "easing": "linear"
              }
             }
            ],
            "label": "3.6666666666666665",
            "method": "animate"
           },
           {
            "args": [
             [
              "3.8333333333333335"
             ],
             {
              "frame": {
               "duration": 0,
               "redraw": false
              },
              "fromcurrent": true,
              "mode": "immediate",
              "transition": {
               "duration": 0,
               "easing": "linear"
              }
             }
            ],
            "label": "3.8333333333333335",
            "method": "animate"
           },
           {
            "args": [
             [
              "4.0"
             ],
             {
              "frame": {
               "duration": 0,
               "redraw": false
              },
              "fromcurrent": true,
              "mode": "immediate",
              "transition": {
               "duration": 0,
               "easing": "linear"
              }
             }
            ],
            "label": "4.0",
            "method": "animate"
           },
           {
            "args": [
             [
              "4.166666666666667"
             ],
             {
              "frame": {
               "duration": 0,
               "redraw": false
              },
              "fromcurrent": true,
              "mode": "immediate",
              "transition": {
               "duration": 0,
               "easing": "linear"
              }
             }
            ],
            "label": "4.166666666666667",
            "method": "animate"
           },
           {
            "args": [
             [
              "4.333333333333333"
             ],
             {
              "frame": {
               "duration": 0,
               "redraw": false
              },
              "fromcurrent": true,
              "mode": "immediate",
              "transition": {
               "duration": 0,
               "easing": "linear"
              }
             }
            ],
            "label": "4.333333333333333",
            "method": "animate"
           },
           {
            "args": [
             [
              "4.5"
             ],
             {
              "frame": {
               "duration": 0,
               "redraw": false
              },
              "fromcurrent": true,
              "mode": "immediate",
              "transition": {
               "duration": 0,
               "easing": "linear"
              }
             }
            ],
            "label": "4.5",
            "method": "animate"
           },
           {
            "args": [
             [
              "4.666666666666667"
             ],
             {
              "frame": {
               "duration": 0,
               "redraw": false
              },
              "fromcurrent": true,
              "mode": "immediate",
              "transition": {
               "duration": 0,
               "easing": "linear"
              }
             }
            ],
            "label": "4.666666666666667",
            "method": "animate"
           },
           {
            "args": [
             [
              "4.833333333333333"
             ],
             {
              "frame": {
               "duration": 0,
               "redraw": false
              },
              "fromcurrent": true,
              "mode": "immediate",
              "transition": {
               "duration": 0,
               "easing": "linear"
              }
             }
            ],
            "label": "4.833333333333333",
            "method": "animate"
           },
           {
            "args": [
             [
              "5.0"
             ],
             {
              "frame": {
               "duration": 0,
               "redraw": false
              },
              "fromcurrent": true,
              "mode": "immediate",
              "transition": {
               "duration": 0,
               "easing": "linear"
              }
             }
            ],
            "label": "5.0",
            "method": "animate"
           },
           {
            "args": [
             [
              "5.166666666666667"
             ],
             {
              "frame": {
               "duration": 0,
               "redraw": false
              },
              "fromcurrent": true,
              "mode": "immediate",
              "transition": {
               "duration": 0,
               "easing": "linear"
              }
             }
            ],
            "label": "5.166666666666667",
            "method": "animate"
           },
           {
            "args": [
             [
              "5.333333333333333"
             ],
             {
              "frame": {
               "duration": 0,
               "redraw": false
              },
              "fromcurrent": true,
              "mode": "immediate",
              "transition": {
               "duration": 0,
               "easing": "linear"
              }
             }
            ],
            "label": "5.333333333333333",
            "method": "animate"
           },
           {
            "args": [
             [
              "5.5"
             ],
             {
              "frame": {
               "duration": 0,
               "redraw": false
              },
              "fromcurrent": true,
              "mode": "immediate",
              "transition": {
               "duration": 0,
               "easing": "linear"
              }
             }
            ],
            "label": "5.5",
            "method": "animate"
           },
           {
            "args": [
             [
              "5.666666666666667"
             ],
             {
              "frame": {
               "duration": 0,
               "redraw": false
              },
              "fromcurrent": true,
              "mode": "immediate",
              "transition": {
               "duration": 0,
               "easing": "linear"
              }
             }
            ],
            "label": "5.666666666666667",
            "method": "animate"
           },
           {
            "args": [
             [
              "5.833333333333333"
             ],
             {
              "frame": {
               "duration": 0,
               "redraw": false
              },
              "fromcurrent": true,
              "mode": "immediate",
              "transition": {
               "duration": 0,
               "easing": "linear"
              }
             }
            ],
            "label": "5.833333333333333",
            "method": "animate"
           },
           {
            "args": [
             [
              "6.0"
             ],
             {
              "frame": {
               "duration": 0,
               "redraw": false
              },
              "fromcurrent": true,
              "mode": "immediate",
              "transition": {
               "duration": 0,
               "easing": "linear"
              }
             }
            ],
            "label": "6.0",
            "method": "animate"
           },
           {
            "args": [
             [
              "6.166666666666667"
             ],
             {
              "frame": {
               "duration": 0,
               "redraw": false
              },
              "fromcurrent": true,
              "mode": "immediate",
              "transition": {
               "duration": 0,
               "easing": "linear"
              }
             }
            ],
            "label": "6.166666666666667",
            "method": "animate"
           },
           {
            "args": [
             [
              "6.333333333333333"
             ],
             {
              "frame": {
               "duration": 0,
               "redraw": false
              },
              "fromcurrent": true,
              "mode": "immediate",
              "transition": {
               "duration": 0,
               "easing": "linear"
              }
             }
            ],
            "label": "6.333333333333333",
            "method": "animate"
           },
           {
            "args": [
             [
              "6.5"
             ],
             {
              "frame": {
               "duration": 0,
               "redraw": false
              },
              "fromcurrent": true,
              "mode": "immediate",
              "transition": {
               "duration": 0,
               "easing": "linear"
              }
             }
            ],
            "label": "6.5",
            "method": "animate"
           },
           {
            "args": [
             [
              "6.666666666666667"
             ],
             {
              "frame": {
               "duration": 0,
               "redraw": false
              },
              "fromcurrent": true,
              "mode": "immediate",
              "transition": {
               "duration": 0,
               "easing": "linear"
              }
             }
            ],
            "label": "6.666666666666667",
            "method": "animate"
           },
           {
            "args": [
             [
              "6.833333333333333"
             ],
             {
              "frame": {
               "duration": 0,
               "redraw": false
              },
              "fromcurrent": true,
              "mode": "immediate",
              "transition": {
               "duration": 0,
               "easing": "linear"
              }
             }
            ],
            "label": "6.833333333333333",
            "method": "animate"
           },
           {
            "args": [
             [
              "7.0"
             ],
             {
              "frame": {
               "duration": 0,
               "redraw": false
              },
              "fromcurrent": true,
              "mode": "immediate",
              "transition": {
               "duration": 0,
               "easing": "linear"
              }
             }
            ],
            "label": "7.0",
            "method": "animate"
           },
           {
            "args": [
             [
              "7.166666666666667"
             ],
             {
              "frame": {
               "duration": 0,
               "redraw": false
              },
              "fromcurrent": true,
              "mode": "immediate",
              "transition": {
               "duration": 0,
               "easing": "linear"
              }
             }
            ],
            "label": "7.166666666666667",
            "method": "animate"
           },
           {
            "args": [
             [
              "7.333333333333333"
             ],
             {
              "frame": {
               "duration": 0,
               "redraw": false
              },
              "fromcurrent": true,
              "mode": "immediate",
              "transition": {
               "duration": 0,
               "easing": "linear"
              }
             }
            ],
            "label": "7.333333333333333",
            "method": "animate"
           },
           {
            "args": [
             [
              "7.5"
             ],
             {
              "frame": {
               "duration": 0,
               "redraw": false
              },
              "fromcurrent": true,
              "mode": "immediate",
              "transition": {
               "duration": 0,
               "easing": "linear"
              }
             }
            ],
            "label": "7.5",
            "method": "animate"
           },
           {
            "args": [
             [
              "7.666666666666667"
             ],
             {
              "frame": {
               "duration": 0,
               "redraw": false
              },
              "fromcurrent": true,
              "mode": "immediate",
              "transition": {
               "duration": 0,
               "easing": "linear"
              }
             }
            ],
            "label": "7.666666666666667",
            "method": "animate"
           },
           {
            "args": [
             [
              "7.833333333333333"
             ],
             {
              "frame": {
               "duration": 0,
               "redraw": false
              },
              "fromcurrent": true,
              "mode": "immediate",
              "transition": {
               "duration": 0,
               "easing": "linear"
              }
             }
            ],
            "label": "7.833333333333333",
            "method": "animate"
           },
           {
            "args": [
             [
              "8.0"
             ],
             {
              "frame": {
               "duration": 0,
               "redraw": false
              },
              "fromcurrent": true,
              "mode": "immediate",
              "transition": {
               "duration": 0,
               "easing": "linear"
              }
             }
            ],
            "label": "8.0",
            "method": "animate"
           },
           {
            "args": [
             [
              "8.166666666666666"
             ],
             {
              "frame": {
               "duration": 0,
               "redraw": false
              },
              "fromcurrent": true,
              "mode": "immediate",
              "transition": {
               "duration": 0,
               "easing": "linear"
              }
             }
            ],
            "label": "8.166666666666666",
            "method": "animate"
           },
           {
            "args": [
             [
              "8.333333333333334"
             ],
             {
              "frame": {
               "duration": 0,
               "redraw": false
              },
              "fromcurrent": true,
              "mode": "immediate",
              "transition": {
               "duration": 0,
               "easing": "linear"
              }
             }
            ],
            "label": "8.333333333333334",
            "method": "animate"
           },
           {
            "args": [
             [
              "8.5"
             ],
             {
              "frame": {
               "duration": 0,
               "redraw": false
              },
              "fromcurrent": true,
              "mode": "immediate",
              "transition": {
               "duration": 0,
               "easing": "linear"
              }
             }
            ],
            "label": "8.5",
            "method": "animate"
           },
           {
            "args": [
             [
              "8.666666666666666"
             ],
             {
              "frame": {
               "duration": 0,
               "redraw": false
              },
              "fromcurrent": true,
              "mode": "immediate",
              "transition": {
               "duration": 0,
               "easing": "linear"
              }
             }
            ],
            "label": "8.666666666666666",
            "method": "animate"
           },
           {
            "args": [
             [
              "8.833333333333334"
             ],
             {
              "frame": {
               "duration": 0,
               "redraw": false
              },
              "fromcurrent": true,
              "mode": "immediate",
              "transition": {
               "duration": 0,
               "easing": "linear"
              }
             }
            ],
            "label": "8.833333333333334",
            "method": "animate"
           },
           {
            "args": [
             [
              "9.0"
             ],
             {
              "frame": {
               "duration": 0,
               "redraw": false
              },
              "fromcurrent": true,
              "mode": "immediate",
              "transition": {
               "duration": 0,
               "easing": "linear"
              }
             }
            ],
            "label": "9.0",
            "method": "animate"
           },
           {
            "args": [
             [
              "9.166666666666666"
             ],
             {
              "frame": {
               "duration": 0,
               "redraw": false
              },
              "fromcurrent": true,
              "mode": "immediate",
              "transition": {
               "duration": 0,
               "easing": "linear"
              }
             }
            ],
            "label": "9.166666666666666",
            "method": "animate"
           },
           {
            "args": [
             [
              "9.333333333333334"
             ],
             {
              "frame": {
               "duration": 0,
               "redraw": false
              },
              "fromcurrent": true,
              "mode": "immediate",
              "transition": {
               "duration": 0,
               "easing": "linear"
              }
             }
            ],
            "label": "9.333333333333334",
            "method": "animate"
           },
           {
            "args": [
             [
              "9.5"
             ],
             {
              "frame": {
               "duration": 0,
               "redraw": false
              },
              "fromcurrent": true,
              "mode": "immediate",
              "transition": {
               "duration": 0,
               "easing": "linear"
              }
             }
            ],
            "label": "9.5",
            "method": "animate"
           },
           {
            "args": [
             [
              "9.666666666666666"
             ],
             {
              "frame": {
               "duration": 0,
               "redraw": false
              },
              "fromcurrent": true,
              "mode": "immediate",
              "transition": {
               "duration": 0,
               "easing": "linear"
              }
             }
            ],
            "label": "9.666666666666666",
            "method": "animate"
           },
           {
            "args": [
             [
              "9.833333333333334"
             ],
             {
              "frame": {
               "duration": 0,
               "redraw": false
              },
              "fromcurrent": true,
              "mode": "immediate",
              "transition": {
               "duration": 0,
               "easing": "linear"
              }
             }
            ],
            "label": "9.833333333333334",
            "method": "animate"
           }
          ],
          "x": 0.1,
          "xanchor": "left",
          "y": 0,
          "yanchor": "top"
         }
        ],
        "template": {
         "data": {
          "bar": [
           {
            "error_x": {
             "color": "#2a3f5f"
            },
            "error_y": {
             "color": "#2a3f5f"
            },
            "marker": {
             "line": {
              "color": "#E5ECF6",
              "width": 0.5
             },
             "pattern": {
              "fillmode": "overlay",
              "size": 10,
              "solidity": 0.2
             }
            },
            "type": "bar"
           }
          ],
          "barpolar": [
           {
            "marker": {
             "line": {
              "color": "#E5ECF6",
              "width": 0.5
             },
             "pattern": {
              "fillmode": "overlay",
              "size": 10,
              "solidity": 0.2
             }
            },
            "type": "barpolar"
           }
          ],
          "carpet": [
           {
            "aaxis": {
             "endlinecolor": "#2a3f5f",
             "gridcolor": "white",
             "linecolor": "white",
             "minorgridcolor": "white",
             "startlinecolor": "#2a3f5f"
            },
            "baxis": {
             "endlinecolor": "#2a3f5f",
             "gridcolor": "white",
             "linecolor": "white",
             "minorgridcolor": "white",
             "startlinecolor": "#2a3f5f"
            },
            "type": "carpet"
           }
          ],
          "choropleth": [
           {
            "colorbar": {
             "outlinewidth": 0,
             "ticks": ""
            },
            "type": "choropleth"
           }
          ],
          "contour": [
           {
            "colorbar": {
             "outlinewidth": 0,
             "ticks": ""
            },
            "colorscale": [
             [
              0,
              "#0d0887"
             ],
             [
              0.1111111111111111,
              "#46039f"
             ],
             [
              0.2222222222222222,
              "#7201a8"
             ],
             [
              0.3333333333333333,
              "#9c179e"
             ],
             [
              0.4444444444444444,
              "#bd3786"
             ],
             [
              0.5555555555555556,
              "#d8576b"
             ],
             [
              0.6666666666666666,
              "#ed7953"
             ],
             [
              0.7777777777777778,
              "#fb9f3a"
             ],
             [
              0.8888888888888888,
              "#fdca26"
             ],
             [
              1,
              "#f0f921"
             ]
            ],
            "type": "contour"
           }
          ],
          "contourcarpet": [
           {
            "colorbar": {
             "outlinewidth": 0,
             "ticks": ""
            },
            "type": "contourcarpet"
           }
          ],
          "heatmap": [
           {
            "colorbar": {
             "outlinewidth": 0,
             "ticks": ""
            },
            "colorscale": [
             [
              0,
              "#0d0887"
             ],
             [
              0.1111111111111111,
              "#46039f"
             ],
             [
              0.2222222222222222,
              "#7201a8"
             ],
             [
              0.3333333333333333,
              "#9c179e"
             ],
             [
              0.4444444444444444,
              "#bd3786"
             ],
             [
              0.5555555555555556,
              "#d8576b"
             ],
             [
              0.6666666666666666,
              "#ed7953"
             ],
             [
              0.7777777777777778,
              "#fb9f3a"
             ],
             [
              0.8888888888888888,
              "#fdca26"
             ],
             [
              1,
              "#f0f921"
             ]
            ],
            "type": "heatmap"
           }
          ],
          "heatmapgl": [
           {
            "colorbar": {
             "outlinewidth": 0,
             "ticks": ""
            },
            "colorscale": [
             [
              0,
              "#0d0887"
             ],
             [
              0.1111111111111111,
              "#46039f"
             ],
             [
              0.2222222222222222,
              "#7201a8"
             ],
             [
              0.3333333333333333,
              "#9c179e"
             ],
             [
              0.4444444444444444,
              "#bd3786"
             ],
             [
              0.5555555555555556,
              "#d8576b"
             ],
             [
              0.6666666666666666,
              "#ed7953"
             ],
             [
              0.7777777777777778,
              "#fb9f3a"
             ],
             [
              0.8888888888888888,
              "#fdca26"
             ],
             [
              1,
              "#f0f921"
             ]
            ],
            "type": "heatmapgl"
           }
          ],
          "histogram": [
           {
            "marker": {
             "pattern": {
              "fillmode": "overlay",
              "size": 10,
              "solidity": 0.2
             }
            },
            "type": "histogram"
           }
          ],
          "histogram2d": [
           {
            "colorbar": {
             "outlinewidth": 0,
             "ticks": ""
            },
            "colorscale": [
             [
              0,
              "#0d0887"
             ],
             [
              0.1111111111111111,
              "#46039f"
             ],
             [
              0.2222222222222222,
              "#7201a8"
             ],
             [
              0.3333333333333333,
              "#9c179e"
             ],
             [
              0.4444444444444444,
              "#bd3786"
             ],
             [
              0.5555555555555556,
              "#d8576b"
             ],
             [
              0.6666666666666666,
              "#ed7953"
             ],
             [
              0.7777777777777778,
              "#fb9f3a"
             ],
             [
              0.8888888888888888,
              "#fdca26"
             ],
             [
              1,
              "#f0f921"
             ]
            ],
            "type": "histogram2d"
           }
          ],
          "histogram2dcontour": [
           {
            "colorbar": {
             "outlinewidth": 0,
             "ticks": ""
            },
            "colorscale": [
             [
              0,
              "#0d0887"
             ],
             [
              0.1111111111111111,
              "#46039f"
             ],
             [
              0.2222222222222222,
              "#7201a8"
             ],
             [
              0.3333333333333333,
              "#9c179e"
             ],
             [
              0.4444444444444444,
              "#bd3786"
             ],
             [
              0.5555555555555556,
              "#d8576b"
             ],
             [
              0.6666666666666666,
              "#ed7953"
             ],
             [
              0.7777777777777778,
              "#fb9f3a"
             ],
             [
              0.8888888888888888,
              "#fdca26"
             ],
             [
              1,
              "#f0f921"
             ]
            ],
            "type": "histogram2dcontour"
           }
          ],
          "mesh3d": [
           {
            "colorbar": {
             "outlinewidth": 0,
             "ticks": ""
            },
            "type": "mesh3d"
           }
          ],
          "parcoords": [
           {
            "line": {
             "colorbar": {
              "outlinewidth": 0,
              "ticks": ""
             }
            },
            "type": "parcoords"
           }
          ],
          "pie": [
           {
            "automargin": true,
            "type": "pie"
           }
          ],
          "scatter": [
           {
            "fillpattern": {
             "fillmode": "overlay",
             "size": 10,
             "solidity": 0.2
            },
            "type": "scatter"
           }
          ],
          "scatter3d": [
           {
            "line": {
             "colorbar": {
              "outlinewidth": 0,
              "ticks": ""
             }
            },
            "marker": {
             "colorbar": {
              "outlinewidth": 0,
              "ticks": ""
             }
            },
            "type": "scatter3d"
           }
          ],
          "scattercarpet": [
           {
            "marker": {
             "colorbar": {
              "outlinewidth": 0,
              "ticks": ""
             }
            },
            "type": "scattercarpet"
           }
          ],
          "scattergeo": [
           {
            "marker": {
             "colorbar": {
              "outlinewidth": 0,
              "ticks": ""
             }
            },
            "type": "scattergeo"
           }
          ],
          "scattergl": [
           {
            "marker": {
             "colorbar": {
              "outlinewidth": 0,
              "ticks": ""
             }
            },
            "type": "scattergl"
           }
          ],
          "scattermapbox": [
           {
            "marker": {
             "colorbar": {
              "outlinewidth": 0,
              "ticks": ""
             }
            },
            "type": "scattermapbox"
           }
          ],
          "scatterpolar": [
           {
            "marker": {
             "colorbar": {
              "outlinewidth": 0,
              "ticks": ""
             }
            },
            "type": "scatterpolar"
           }
          ],
          "scatterpolargl": [
           {
            "marker": {
             "colorbar": {
              "outlinewidth": 0,
              "ticks": ""
             }
            },
            "type": "scatterpolargl"
           }
          ],
          "scatterternary": [
           {
            "marker": {
             "colorbar": {
              "outlinewidth": 0,
              "ticks": ""
             }
            },
            "type": "scatterternary"
           }
          ],
          "surface": [
           {
            "colorbar": {
             "outlinewidth": 0,
             "ticks": ""
            },
            "colorscale": [
             [
              0,
              "#0d0887"
             ],
             [
              0.1111111111111111,
              "#46039f"
             ],
             [
              0.2222222222222222,
              "#7201a8"
             ],
             [
              0.3333333333333333,
              "#9c179e"
             ],
             [
              0.4444444444444444,
              "#bd3786"
             ],
             [
              0.5555555555555556,
              "#d8576b"
             ],
             [
              0.6666666666666666,
              "#ed7953"
             ],
             [
              0.7777777777777778,
              "#fb9f3a"
             ],
             [
              0.8888888888888888,
              "#fdca26"
             ],
             [
              1,
              "#f0f921"
             ]
            ],
            "type": "surface"
           }
          ],
          "table": [
           {
            "cells": {
             "fill": {
              "color": "#EBF0F8"
             },
             "line": {
              "color": "white"
             }
            },
            "header": {
             "fill": {
              "color": "#C8D4E3"
             },
             "line": {
              "color": "white"
             }
            },
            "type": "table"
           }
          ]
         },
         "layout": {
          "annotationdefaults": {
           "arrowcolor": "#2a3f5f",
           "arrowhead": 0,
           "arrowwidth": 1
          },
          "autotypenumbers": "strict",
          "coloraxis": {
           "colorbar": {
            "outlinewidth": 0,
            "ticks": ""
           }
          },
          "colorscale": {
           "diverging": [
            [
             0,
             "#8e0152"
            ],
            [
             0.1,
             "#c51b7d"
            ],
            [
             0.2,
             "#de77ae"
            ],
            [
             0.3,
             "#f1b6da"
            ],
            [
             0.4,
             "#fde0ef"
            ],
            [
             0.5,
             "#f7f7f7"
            ],
            [
             0.6,
             "#e6f5d0"
            ],
            [
             0.7,
             "#b8e186"
            ],
            [
             0.8,
             "#7fbc41"
            ],
            [
             0.9,
             "#4d9221"
            ],
            [
             1,
             "#276419"
            ]
           ],
           "sequential": [
            [
             0,
             "#0d0887"
            ],
            [
             0.1111111111111111,
             "#46039f"
            ],
            [
             0.2222222222222222,
             "#7201a8"
            ],
            [
             0.3333333333333333,
             "#9c179e"
            ],
            [
             0.4444444444444444,
             "#bd3786"
            ],
            [
             0.5555555555555556,
             "#d8576b"
            ],
            [
             0.6666666666666666,
             "#ed7953"
            ],
            [
             0.7777777777777778,
             "#fb9f3a"
            ],
            [
             0.8888888888888888,
             "#fdca26"
            ],
            [
             1,
             "#f0f921"
            ]
           ],
           "sequentialminus": [
            [
             0,
             "#0d0887"
            ],
            [
             0.1111111111111111,
             "#46039f"
            ],
            [
             0.2222222222222222,
             "#7201a8"
            ],
            [
             0.3333333333333333,
             "#9c179e"
            ],
            [
             0.4444444444444444,
             "#bd3786"
            ],
            [
             0.5555555555555556,
             "#d8576b"
            ],
            [
             0.6666666666666666,
             "#ed7953"
            ],
            [
             0.7777777777777778,
             "#fb9f3a"
            ],
            [
             0.8888888888888888,
             "#fdca26"
            ],
            [
             1,
             "#f0f921"
            ]
           ]
          },
          "colorway": [
           "#636efa",
           "#EF553B",
           "#00cc96",
           "#ab63fa",
           "#FFA15A",
           "#19d3f3",
           "#FF6692",
           "#B6E880",
           "#FF97FF",
           "#FECB52"
          ],
          "font": {
           "color": "#2a3f5f"
          },
          "geo": {
           "bgcolor": "white",
           "lakecolor": "white",
           "landcolor": "#E5ECF6",
           "showlakes": true,
           "showland": true,
           "subunitcolor": "white"
          },
          "hoverlabel": {
           "align": "left"
          },
          "hovermode": "closest",
          "mapbox": {
           "style": "light"
          },
          "paper_bgcolor": "white",
          "plot_bgcolor": "#E5ECF6",
          "polar": {
           "angularaxis": {
            "gridcolor": "white",
            "linecolor": "white",
            "ticks": ""
           },
           "bgcolor": "#E5ECF6",
           "radialaxis": {
            "gridcolor": "white",
            "linecolor": "white",
            "ticks": ""
           }
          },
          "scene": {
           "xaxis": {
            "backgroundcolor": "#E5ECF6",
            "gridcolor": "white",
            "gridwidth": 2,
            "linecolor": "white",
            "showbackground": true,
            "ticks": "",
            "zerolinecolor": "white"
           },
           "yaxis": {
            "backgroundcolor": "#E5ECF6",
            "gridcolor": "white",
            "gridwidth": 2,
            "linecolor": "white",
            "showbackground": true,
            "ticks": "",
            "zerolinecolor": "white"
           },
           "zaxis": {
            "backgroundcolor": "#E5ECF6",
            "gridcolor": "white",
            "gridwidth": 2,
            "linecolor": "white",
            "showbackground": true,
            "ticks": "",
            "zerolinecolor": "white"
           }
          },
          "shapedefaults": {
           "line": {
            "color": "#2a3f5f"
           }
          },
          "ternary": {
           "aaxis": {
            "gridcolor": "white",
            "linecolor": "white",
            "ticks": ""
           },
           "baxis": {
            "gridcolor": "white",
            "linecolor": "white",
            "ticks": ""
           },
           "bgcolor": "#E5ECF6",
           "caxis": {
            "gridcolor": "white",
            "linecolor": "white",
            "ticks": ""
           }
          },
          "title": {
           "x": 0.05
          },
          "xaxis": {
           "automargin": true,
           "gridcolor": "white",
           "linecolor": "white",
           "ticks": "",
           "title": {
            "standoff": 15
           },
           "zerolinecolor": "white",
           "zerolinewidth": 2
          },
          "yaxis": {
           "automargin": true,
           "gridcolor": "white",
           "linecolor": "white",
           "ticks": "",
           "title": {
            "standoff": 15
           },
           "zerolinecolor": "white",
           "zerolinewidth": 2
          }
         }
        },
        "updatemenus": [
         {
          "buttons": [
           {
            "args": [
             null,
             {
              "frame": {
               "duration": 500,
               "redraw": false
              },
              "fromcurrent": true,
              "mode": "immediate",
              "transition": {
               "duration": 500,
               "easing": "linear"
              }
             }
            ],
            "label": "&#9654;",
            "method": "animate"
           },
           {
            "args": [
             [
              null
             ],
             {
              "frame": {
               "duration": 0,
               "redraw": false
              },
              "fromcurrent": true,
              "mode": "immediate",
              "transition": {
               "duration": 0,
               "easing": "linear"
              }
             }
            ],
            "label": "&#9724;",
            "method": "animate"
           }
          ],
          "direction": "left",
          "pad": {
           "r": 10,
           "t": 70
          },
          "showactive": false,
          "type": "buttons",
          "x": 0.1,
          "xanchor": "right",
          "y": 0,
          "yanchor": "top"
         }
        ],
        "xaxis": {
         "anchor": "y",
         "domain": [
          0,
          1
         ],
         "range": [
          -2,
          2
         ],
         "title": {
          "text": "x"
         }
        },
        "yaxis": {
         "anchor": "x",
         "domain": [
          0,
          1
         ],
         "range": [
          -2,
          2
         ],
         "title": {
          "text": "y"
         }
        }
       }
      }
     },
     "metadata": {},
     "output_type": "display_data"
    }
   ],
   "source": [
    "px.line(df, x=\"x\", y=\"y\", animation_frame=\"T\", animation_group=\"name\",\n",
    "            hover_name=\"name\",\n",
    "           range_x=[-2,2], range_y=[-2,2])"
   ]
  },
  {
   "cell_type": "code",
   "execution_count": 348,
   "metadata": {
    "collapsed": false
   },
   "outputs": [],
   "source": [
    "G = nx.Graph()\n",
    "for line in lines:\n",
    "    words = line.replace(\"\\n\", \"\").replace(\";\", \"\").replace(\",\", \"\").split(\" \")\n",
    "    name = words[1]\n",
    "    flow_rate = int(words[4].split(\"=\")[1])\n",
    "    connections = words[9:]\n",
    "    G.add_node(name)\n",
    "    G.nodes[name]['fr'] = flow_rate\n",
    "    G.nodes[name]['pos'] = np.random.normal(0, 1., (2,))\n",
    "\n",
    "\n",
    "for line in lines:\n",
    "    words = line.replace(\"\\n\", \"\").replace(\";\", \"\").replace(\",\", \"\").split(\" \")\n",
    "    name = words[1]\n",
    "    flow_rate = int(words[4].split(\"=\")[1])\n",
    "    connections = words[9:]\n",
    "    for con in connections:\n",
    "        G.add_edge(name, con)\n"
   ]
  },
  {
   "cell_type": "code",
   "execution_count": 349,
   "metadata": {
    "collapsed": false
   },
   "outputs": [],
   "source": [
    "def general_force(p1, p2):\n",
    "    eps = 0.00001\n",
    "    r = np.linalg.norm(p1-p2)\n",
    "    return -np.log(r+eps)/r*(p1-p2)\n",
    "\n",
    "def connected_force(p1, p2):\n",
    "    eps = 0.001\n",
    "    r = np.linalg.norm(p1-p2)\n",
    "    return -(np.log(r+eps+np.exp(r)-1)-1)/r*(p1-p2)"
   ]
  },
  {
   "cell_type": "code",
   "execution_count": 350,
   "metadata": {
    "collapsed": false
   },
   "outputs": [
    {
     "data": {
      "text/plain": [
       "<matplotlib.collections.PathCollection at 0x178b408fe80>"
      ]
     },
     "execution_count": 350,
     "metadata": {},
     "output_type": "execute_result"
    },
    {
     "data": {
      "image/png": "[encoded data removed]",
      "text/plain": [
       "<Figure size 432x288 with 1 Axes>"
      ]
     },
     "metadata": {
      "needs_background": "light"
     },
     "output_type": "display_data"
    }
   ],
   "source": [
    "pos = np.zeros((len(G.nodes),2))\n",
    "for i, node in enumerate(G.nodes):\n",
    "    pos[i] = G.nodes[node]['pos']\n",
    "plt.scatter(pos[:, 0], pos[:, 1])"
   ]
  },
  {
   "cell_type": "code",
   "execution_count": 351,
   "metadata": {
    "collapsed": false
   },
   "outputs": [
    {
     "data": {
      "text/plain": [
       "[0.4242640687119285, 0.8573756440976971, 1.0473754748275845]"
      ]
     },
     "execution_count": 351,
     "metadata": {},
     "output_type": "execute_result"
    }
   ],
   "source": [
    "p1 = 1/(2*np.sqrt(2))*0+0.15*np.array([1, 1])\n",
    "p2 = 1/(2*np.sqrt(2))*0+0.15*np.array([-1, -1])\n",
    "[np.linalg.norm(p1-p2),\n",
    " np.linalg.norm( general_force(p1, p2)),\n",
    " np.linalg.norm( connected_force(p1, p2))]"
   ]
  },
  {
   "cell_type": "code",
   "execution_count": 352,
   "metadata": {
    "collapsed": false
   },
   "outputs": [
    {
     "data": {
      "text/plain": [
       "<matplotlib.collections.PathCollection at 0x178b411c670>"
      ]
     },
     "execution_count": 352,
     "metadata": {},
     "output_type": "execute_result"
    },
    {
     "data": {
      "image/png": "[encoded data removed]",
      "text/plain": [
       "<Figure size 432x288 with 1 Axes>"
      ]
     },
     "metadata": {
      "needs_background": "light"
     },
     "output_type": "display_data"
    }
   ],
   "source": [
    "for _ in range(100):\n",
    "    diff = {}\n",
    "    scale = 0.1\n",
    "    for node in G.nodes:\n",
    "        diff[node] = np.zeros((2,))\n",
    "        for compare_node in G.nodes:\n",
    "            if node == compare_node: continue\n",
    "            diff[node] += general_force(G.nodes[node]['pos'], G.nodes[compare_node]['pos'])\n",
    "\n",
    "    for node in G.nodes:\n",
    "        diff[node] = np.zeros((2,))\n",
    "        for compare_node in G.adj[node]:\n",
    "            diff[node] += connected_force(G.nodes[node]['pos'], G.nodes[compare_node]['pos'])\n",
    "\n",
    "    for node in G.nodes:\n",
    "        G.nodes[node]['pos'] += scale * diff[node]\n",
    "\n",
    "    pos = np.zeros((len(G.nodes),2))\n",
    "    for i, node in enumerate(G.nodes):\n",
    "        pos[i] = G.nodes[node]['pos']\n",
    "\n",
    "plt.scatter(pos[:, 0], pos[:, 1])\n"
   ]
  },
  {
   "cell_type": "code",
   "execution_count": 393,
   "metadata": {
    "collapsed": false
   },
   "outputs": [
    {
     "data": {
      "image/png": "[encoded data removed]",
      "text/plain": [
       "<Figure size 432x288 with 1 Axes>"
      ]
     },
     "metadata": {},
     "output_type": "display_data"
    }
   ],
   "source": [
    "nx.draw(G, pos=nx.spring_layout(G),node_size=50)"
   ]
  },
  {
   "cell_type": "code",
   "execution_count": 388,
   "metadata": {
    "collapsed": false
   },
   "outputs": [
    {
     "data": {
      "text/plain": [
       "<Figure size 432x288 with 0 Axes>"
      ]
     },
     "metadata": {},
     "output_type": "display_data"
    }
   ],
   "source": [
    "plt.show(block=False)\n",
    "plt.savefig('plotgraph.png', dpi=300, bbox_inches='tight')\n",
    "plt.show()"
   ]
  },
  {
   "cell_type": "code",
   "execution_count": 107,
   "metadata": {
    "collapsed": false
   },
   "outputs": [],
   "source": [
    "import matplotlib.pyplot as plt"
   ]
  },
  {
   "cell_type": "code",
   "execution_count": 8,
   "metadata": {
    "collapsed": false
   },
   "outputs": [],
   "source": [
    "import plotly.graph_objects as go"
   ]
  },
  {
   "cell_type": "code",
   "execution_count": 282,
   "metadata": {
    "collapsed": false
   },
   "outputs": [],
   "source": [
    "G = nx.Graph()\n",
    "\n",
    "G.add_node('A', pos=np.array([2,2], dtype=float))\n",
    "G.add_node('B', pos=np.array([-2,-2], dtype=float))\n",
    "G.add_edge('A', 'B')\n",
    "G.add_edge('B', 'A')"
   ]
  },
  {
   "cell_type": "code",
   "execution_count": 343,
   "metadata": {
    "collapsed": false
   },
   "outputs": [
    {
     "data": {
      "application/vnd.plotly.v1+json": {
       "config": {
        "plotlyServerURL": "https://plot.ly"
       },
       "data": [
        {
         "hoverinfo": "none",
         "line": {
          "color": "#888",
          "width": 0.5
         },
         "mode": "lines",
         "type": "scatter",
         "x": [
          -0.6124584362572921,
          0.31994424334030175,
          null,
          -0.6124584362572921,
          -0.5783999083150038,
          null,
          -0.22990940779523347,
          -1.0166420030861656,
          null,
          -0.22990940779523347,
          0.7695800571220708,
          null,
          -0.8665306350369545,
          -0.11508854589802325,
          null,
          -0.8665306350369545,
          -0.008367261667789576,
          null,
          -0.8855656174720697,
          -0.8160805580161551,
          null,
          -0.8855656174720697,
          -0.5346882369289561,
          null,
          1.0847432767955865,
          0.2763063913505259,
          null,
          1.0847432767955865,
          0.41260860180141595,
          null,
          -0.02110958792097262,
          -0.8028722143645277,
          null,
          -0.02110958792097262,
          -0.008367261667789576,
          null,
          0.8845420560517155,
          -0.11508854589802325,
          null,
          0.8845420560517155,
          0.10725604263103508,
          null,
          -0.003091990921274564,
          -0.4345091901293078,
          null,
          -0.003091990921274564,
          0.9757343591527758,
          null,
          -0.17382111482020765,
          -0.3325157633246017,
          null,
          -0.17382111482020765,
          -0.3851589476247564,
          null,
          -1.0166420030861656,
          -0.29181509898151237,
          null,
          -1.0166420030861656,
          -0.3190191519929631,
          null,
          -1.0166420030861656,
          -0.05382912649174995,
          null,
          -1.0166420030861656,
          -0.2241306076935134,
          null,
          0.6675964243257922,
          -0.29181509898151237,
          null,
          0.6675964243257922,
          -0.009653506902294013,
          null,
          -0.8330381150156949,
          -0.17273771986022887,
          null,
          -0.8330381150156949,
          -0.4258244519723335,
          null,
          -0.8330381150156949,
          -0.7537141225812733,
          null,
          0.08366882705056698,
          0.9101682209400699,
          null,
          0.08366882705056698,
          0.14344468080084272,
          null,
          -0.10773538810253364,
          -0.7799782737794894,
          null,
          -0.10773538810253364,
          -0.009653506902294013,
          null,
          -0.8160805580161551,
          0.1533018586487981,
          null,
          -0.8160805580161551,
          0.10725604263103508,
          null,
          -0.8160805580161551,
          -0.014691129094328457,
          null,
          -0.8160805580161551,
          -0.05382912649174995,
          null,
          -0.7537141225812733,
          -1.1498312125626977,
          null,
          0.34113685163246665,
          -0.2241306076935134,
          null,
          0.34113685163246665,
          0.41260860180141595,
          null,
          0.3312312643847731,
          -0.29402697852205506,
          null,
          0.3312312643847731,
          -0.11508854589802325,
          null,
          -0.3190191519929631,
          -0.8028722143645277,
          null,
          0.2071342656524172,
          -0.7677567820665906,
          null,
          0.2071342656524172,
          -0.5346882369289561,
          null,
          0.2071342656524172,
          -0.7799782737794894,
          null,
          0.2071342656524172,
          0.9101682209400699,
          null,
          0.2071342656524172,
          0.7695800571220708,
          null,
          0.6181289644290601,
          -0.008367261667789576,
          null,
          0.6181289644290601,
          -0.2682894877360031,
          null,
          -0.29402697852205506,
          -1.1498312125626977,
          null,
          -1.1498312125626977,
          -0.2682894877360031,
          null,
          -1.1498312125626977,
          -0.2881396797660672,
          null,
          -1.1498312125626977,
          -0.2529841459854036,
          null,
          0.14344468080084272,
          0.9724598553557653,
          null,
          -0.6729427882016263,
          -0.008367261667789576,
          null,
          -0.6729427882016263,
          -0.4258244519723335,
          null,
          -0.026747846715814736,
          -0.3851589476247564,
          null,
          -0.026747846715814736,
          -1.0204941157473961,
          null,
          -0.5783999083150038,
          0.41260860180141595,
          null,
          -1.0204941157473961,
          -0.160391801284085,
          null,
          0.9724598553557653,
          -0.009653506902294013,
          null,
          -0.2881396797660672,
          -0.014691129094328457,
          null,
          0.8643813466550421,
          0.15266179858977205,
          null,
          0.8643813466550421,
          -0.11508854589802325,
          null,
          0.15266179858977205,
          -0.8028722143645277,
          null,
          0.060834190018407716,
          -0.160391801284085,
          null,
          0.060834190018407716,
          -0.7677567820665906,
          null,
          -0.17273771986022887,
          0.31994424334030175,
          null,
          -0.009653506902294013,
          0.2763063913505259,
          null,
          -0.4345091901293078,
          -0.008367261667789576,
          null,
          -0.8028722143645277,
          0.1533018586487981,
          null,
          -0.8028722143645277,
          -0.2529841459854036,
          null
         ],
         "y": [
          -0.49173968576129645,
          -0.1310630026549093,
          null,
          -0.49173968576129645,
          0.50741099890738,
          null,
          0.21047775935609317,
          -0.406354976410479,
          null,
          0.21047775935609317,
          0.18884824977650477,
          null,
          -0.4286325598603363,
          0.23074581932474095,
          null,
          -0.4286325598603363,
          -0.9414926158224562,
          null,
          0.9686600679659613,
          -0.02865479940234418,
          null,
          0.9686600679659613,
          0.03252764566774831,
          null,
          -0.36442817737299654,
          0.22369774994003966,
          null,
          -0.36442817737299654,
          0.3756374464948333,
          null,
          0.058156787644488055,
          -0.5649905120439394,
          null,
          0.058156787644488055,
          -0.9414926158224562,
          null,
          0.2167744561862804,
          0.23074581932474095,
          null,
          0.2167744561862804,
          -0.411947513514024,
          null,
          -0.9439945889133086,
          -1.8458499732236768,
          null,
          -0.9439945889133086,
          -0.7406188218837013,
          null,
          1.479017597678731,
          0.49196230553107917,
          null,
          1.479017597678731,
          0.5018797115502687,
          null,
          -0.406354976410479,
          0.2821689783608395,
          null,
          -0.406354976410479,
          0.3097967759779277,
          null,
          -0.406354976410479,
          -0.6755224549174462,
          null,
          -0.406354976410479,
          0.2030466108474251,
          null,
          0.0011265419955421743,
          0.2821689783608395,
          null,
          0.0011265419955421743,
          -0.7342626371912645,
          null,
          -0.2503176292189048,
          -1.0009629797461677,
          null,
          -0.2503176292189048,
          -1.1633505152556038,
          null,
          -0.2503176292189048,
          0.746258147146352,
          null,
          0.6355711812235774,
          0.07311128867370192,
          null,
          0.6355711812235774,
          -0.3623712429351056,
          null,
          0.26064518400180375,
          -0.479321971061467,
          null,
          0.26064518400180375,
          -0.7342626371912645,
          null,
          -0.02865479940234418,
          -0.2731027947031777,
          null,
          -0.02865479940234418,
          -0.411947513514024,
          null,
          -0.02865479940234418,
          -0.6263495203523356,
          null,
          -0.02865479940234418,
          -0.6755224549174462,
          null,
          0.746258147146352,
          -0.1716518167930351,
          null,
          -0.6215353843335141,
          0.2030466108474251,
          null,
          -0.6215353843335141,
          0.3756374464948333,
          null,
          1.125296727240943,
          0.3451895262932653,
          null,
          1.125296727240943,
          0.23074581932474095,
          null,
          0.3097967759779277,
          -0.5649905120439394,
          null,
          -0.6376647600047949,
          -0.4161893518288717,
          null,
          -0.6376647600047949,
          0.03252764566774831,
          null,
          -0.6376647600047949,
          -0.479321971061467,
          null,
          -0.6376647600047949,
          0.07311128867370192,
          null,
          -0.6376647600047949,
          0.18884824977650477,
          null,
          -0.1624133324597418,
          -0.9414926158224562,
          null,
          -0.1624133324597418,
          0.2998927293978915,
          null,
          0.3451895262932653,
          -0.1716518167930351,
          null,
          -0.1716518167930351,
          0.2998927293978915,
          null,
          -0.1716518167930351,
          0.3352566207213219,
          null,
          -0.1716518167930351,
          0.26998153424450977,
          null,
          -0.3623712429351056,
          -0.9211167300987557,
          null,
          -0.1946376444000022,
          -0.9414926158224562,
          null,
          -0.1946376444000022,
          -1.1633505152556038,
          null,
          -0.43139602796013604,
          0.5018797115502687,
          null,
          -0.43139602796013604,
          -0.3221690715737528,
          null,
          0.50741099890738,
          0.3756374464948333,
          null,
          -0.3221690715737528,
          -0.8317630997018013,
          null,
          -0.9211167300987557,
          -0.7342626371912645,
          null,
          0.3352566207213219,
          -0.6263495203523356,
          null,
          0.43103048774989683,
          -0.2710422752086785,
          null,
          0.43103048774989683,
          0.23074581932474095,
          null,
          -0.2710422752086785,
          -0.5649905120439394,
          null,
          0.14318383032724444,
          -0.8317630997018013,
          null,
          0.14318383032724444,
          -0.4161893518288717,
          null,
          -1.0009629797461677,
          -0.1310630026549093,
          null,
          -0.7342626371912645,
          0.22369774994003966,
          null,
          -1.8458499732236768,
          -0.9414926158224562,
          null,
          -0.5649905120439394,
          -0.2731027947031777,
          null,
          -0.5649905120439394,
          0.26998153424450977,
          null
         ]
        },
        {
         "hoverinfo": [
          "x",
          "y"
         ],
         "line": {
          "width": 2
         },
         "marker": {
          "showscale": true
         },
         "mode": "markers",
         "type": "scatter",
         "x": [
          -0.6124584362572921,
          -0.22990940779523347,
          -0.8665306350369545,
          -0.8855656174720697,
          1.0847432767955865,
          -0.02110958792097262,
          0.8845420560517155,
          -0.003091990921274564,
          -0.17382111482020765,
          -1.0166420030861656,
          0.6675964243257922,
          -0.8330381150156949,
          0.08366882705056698,
          -0.10773538810253364,
          -0.8160805580161551,
          -0.7537141225812733,
          0.34113685163246665,
          0.3312312643847731,
          -0.3190191519929631,
          -0.2241306076935134,
          0.2071342656524172,
          0.6181289644290601,
          -0.29402697852205506,
          -1.1498312125626977,
          0.14344468080084272,
          -0.6729427882016263,
          0.9757343591527758,
          -0.026747846715814736,
          -0.05382912649174995,
          -0.5783999083150038,
          -1.0204941157473961,
          0.9724598553557653,
          0.7695800571220708,
          0.10725604263103508,
          -0.5346882369289561,
          -0.2881396797660672,
          0.8643813466550421,
          -0.11508854589802325,
          0.41260860180141595,
          -0.3325157633246017,
          0.15266179858977205,
          0.060834190018407716,
          -0.17273771986022887,
          -0.7799782737794894,
          -0.014691129094328457,
          -0.009653506902294013,
          -0.3851589476247564,
          0.9101682209400699,
          -0.2682894877360031,
          -0.4258244519723335,
          -0.29181509898151237,
          -0.4345091901293078,
          -0.160391801284085,
          0.31994424334030175,
          -0.8028722143645277,
          -0.7677567820665906,
          0.2763063913505259,
          0.1533018586487981,
          -0.2529841459854036,
          -0.008367261667789576
         ],
         "y": [
          -0.49173968576129645,
          0.21047775935609317,
          -0.4286325598603363,
          0.9686600679659613,
          -0.36442817737299654,
          0.058156787644488055,
          0.2167744561862804,
          -0.9439945889133086,
          1.479017597678731,
          -0.406354976410479,
          0.0011265419955421743,
          -0.2503176292189048,
          0.6355711812235774,
          0.26064518400180375,
          -0.02865479940234418,
          0.746258147146352,
          -0.6215353843335141,
          1.125296727240943,
          0.3097967759779277,
          0.2030466108474251,
          -0.6376647600047949,
          -0.1624133324597418,
          0.3451895262932653,
          -0.1716518167930351,
          -0.3623712429351056,
          -0.1946376444000022,
          -0.7406188218837013,
          -0.43139602796013604,
          -0.6755224549174462,
          0.50741099890738,
          -0.3221690715737528,
          -0.9211167300987557,
          0.18884824977650477,
          -0.411947513514024,
          0.03252764566774831,
          0.3352566207213219,
          0.43103048774989683,
          0.23074581932474095,
          0.3756374464948333,
          0.49196230553107917,
          -0.2710422752086785,
          0.14318383032724444,
          -1.0009629797461677,
          -0.479321971061467,
          -0.6263495203523356,
          -0.7342626371912645,
          0.5018797115502687,
          0.07311128867370192,
          0.2998927293978915,
          -1.1633505152556038,
          0.2821689783608395,
          -1.8458499732236768,
          -0.8317630997018013,
          -0.1310630026549093,
          -0.5649905120439394,
          -0.4161893518288717,
          0.22369774994003966,
          -0.2731027947031777,
          0.26998153424450977,
          -0.9414926158224562
         ]
        }
       ],
       "layout": {
        "annotations": [
         {
          "showarrow": false,
          "text": "Python code:",
          "x": 0.005,
          "xref": "paper",
          "y": -0.002,
          "yref": "paper"
         }
        ],
        "hovermode": "closest",
        "margin": {
         "b": 20,
         "l": 5,
         "r": 5,
         "t": 40
        },
        "showlegend": false,
        "template": {
         "data": {
          "bar": [
           {
            "error_x": {
             "color": "#2a3f5f"
            },
            "error_y": {
             "color": "#2a3f5f"
            },
            "marker": {
             "line": {
              "color": "#E5ECF6",
              "width": 0.5
             },
             "pattern": {
              "fillmode": "overlay",
              "size": 10,
              "solidity": 0.2
             }
            },
            "type": "bar"
           }
          ],
          "barpolar": [
           {
            "marker": {
             "line": {
              "color": "#E5ECF6",
              "width": 0.5
             },
             "pattern": {
              "fillmode": "overlay",
              "size": 10,
              "solidity": 0.2
             }
            },
            "type": "barpolar"
           }
          ],
          "carpet": [
           {
            "aaxis": {
             "endlinecolor": "#2a3f5f",
             "gridcolor": "white",
             "linecolor": "white",
             "minorgridcolor": "white",
             "startlinecolor": "#2a3f5f"
            },
            "baxis": {
             "endlinecolor": "#2a3f5f",
             "gridcolor": "white",
             "linecolor": "white",
             "minorgridcolor": "white",
             "startlinecolor": "#2a3f5f"
            },
            "type": "carpet"
           }
          ],
          "choropleth": [
           {
            "colorbar": {
             "outlinewidth": 0,
             "ticks": ""
            },
            "type": "choropleth"
           }
          ],
          "contour": [
           {
            "colorbar": {
             "outlinewidth": 0,
             "ticks": ""
            },
            "colorscale": [
             [
              0,
              "#0d0887"
             ],
             [
              0.1111111111111111,
              "#46039f"
             ],
             [
              0.2222222222222222,
              "#7201a8"
             ],
             [
              0.3333333333333333,
              "#9c179e"
             ],
             [
              0.4444444444444444,
              "#bd3786"
             ],
             [
              0.5555555555555556,
              "#d8576b"
             ],
             [
              0.6666666666666666,
              "#ed7953"
             ],
             [
              0.7777777777777778,
              "#fb9f3a"
             ],
             [
              0.8888888888888888,
              "#fdca26"
             ],
             [
              1,
              "#f0f921"
             ]
            ],
            "type": "contour"
           }
          ],
          "contourcarpet": [
           {
            "colorbar": {
             "outlinewidth": 0,
             "ticks": ""
            },
            "type": "contourcarpet"
           }
          ],
          "heatmap": [
           {
            "colorbar": {
             "outlinewidth": 0,
             "ticks": ""
            },
            "colorscale": [
             [
              0,
              "#0d0887"
             ],
             [
              0.1111111111111111,
              "#46039f"
             ],
             [
              0.2222222222222222,
              "#7201a8"
             ],
             [
              0.3333333333333333,
              "#9c179e"
             ],
             [
              0.4444444444444444,
              "#bd3786"
             ],
             [
              0.5555555555555556,
              "#d8576b"
             ],
             [
              0.6666666666666666,
              "#ed7953"
             ],
             [
              0.7777777777777778,
              "#fb9f3a"
             ],
             [
              0.8888888888888888,
              "#fdca26"
             ],
             [
              1,
              "#f0f921"
             ]
            ],
            "type": "heatmap"
           }
          ],
          "heatmapgl": [
           {
            "colorbar": {
             "outlinewidth": 0,
             "ticks": ""
            },
            "colorscale": [
             [
              0,
              "#0d0887"
             ],
             [
              0.1111111111111111,
              "#46039f"
             ],
             [
              0.2222222222222222,
              "#7201a8"
             ],
             [
              0.3333333333333333,
              "#9c179e"
             ],
             [
              0.4444444444444444,
              "#bd3786"
             ],
             [
              0.5555555555555556,
              "#d8576b"
             ],
             [
              0.6666666666666666,
              "#ed7953"
             ],
             [
              0.7777777777777778,
              "#fb9f3a"
             ],
             [
              0.8888888888888888,
              "#fdca26"
             ],
             [
              1,
              "#f0f921"
             ]
            ],
            "type": "heatmapgl"
           }
          ],
          "histogram": [
           {
            "marker": {
             "pattern": {
              "fillmode": "overlay",
              "size": 10,
              "solidity": 0.2
             }
            },
            "type": "histogram"
           }
          ],
          "histogram2d": [
           {
            "colorbar": {
             "outlinewidth": 0,
             "ticks": ""
            },
            "colorscale": [
             [
              0,
              "#0d0887"
             ],
             [
              0.1111111111111111,
              "#46039f"
             ],
             [
              0.2222222222222222,
              "#7201a8"
             ],
             [
              0.3333333333333333,
              "#9c179e"
             ],
             [
              0.4444444444444444,
              "#bd3786"
             ],
             [
              0.5555555555555556,
              "#d8576b"
             ],
             [
              0.6666666666666666,
              "#ed7953"
             ],
             [
              0.7777777777777778,
              "#fb9f3a"
             ],
             [
              0.8888888888888888,
              "#fdca26"
             ],
             [
              1,
              "#f0f921"
             ]
            ],
            "type": "histogram2d"
           }
          ],
          "histogram2dcontour": [
           {
            "colorbar": {
             "outlinewidth": 0,
             "ticks": ""
            },
            "colorscale": [
             [
              0,
              "#0d0887"
             ],
             [
              0.1111111111111111,
              "#46039f"
             ],
             [
              0.2222222222222222,
              "#7201a8"
             ],
             [
              0.3333333333333333,
              "#9c179e"
             ],
             [
              0.4444444444444444,
              "#bd3786"
             ],
             [
              0.5555555555555556,
              "#d8576b"
             ],
             [
              0.6666666666666666,
              "#ed7953"
             ],
             [
              0.7777777777777778,
              "#fb9f3a"
             ],
             [
              0.8888888888888888,
              "#fdca26"
             ],
             [
              1,
              "#f0f921"
             ]
            ],
            "type": "histogram2dcontour"
           }
          ],
          "mesh3d": [
           {
            "colorbar": {
             "outlinewidth": 0,
             "ticks": ""
            },
            "type": "mesh3d"
           }
          ],
          "parcoords": [
           {
            "line": {
             "colorbar": {
              "outlinewidth": 0,
              "ticks": ""
             }
            },
            "type": "parcoords"
           }
          ],
          "pie": [
           {
            "automargin": true,
            "type": "pie"
           }
          ],
          "scatter": [
           {
            "fillpattern": {
             "fillmode": "overlay",
             "size": 10,
             "solidity": 0.2
            },
            "type": "scatter"
           }
          ],
          "scatter3d": [
           {
            "line": {
             "colorbar": {
              "outlinewidth": 0,
              "ticks": ""
             }
            },
            "marker": {
             "colorbar": {
              "outlinewidth": 0,
              "ticks": ""
             }
            },
            "type": "scatter3d"
           }
          ],
          "scattercarpet": [
           {
            "marker": {
             "colorbar": {
              "outlinewidth": 0,
              "ticks": ""
             }
            },
            "type": "scattercarpet"
           }
          ],
          "scattergeo": [
           {
            "marker": {
             "colorbar": {
              "outlinewidth": 0,
              "ticks": ""
             }
            },
            "type": "scattergeo"
           }
          ],
          "scattergl": [
           {
            "marker": {
             "colorbar": {
              "outlinewidth": 0,
              "ticks": ""
             }
            },
            "type": "scattergl"
           }
          ],
          "scattermapbox": [
           {
            "marker": {
             "colorbar": {
              "outlinewidth": 0,
              "ticks": ""
             }
            },
            "type": "scattermapbox"
           }
          ],
          "scatterpolar": [
           {
            "marker": {
             "colorbar": {
              "outlinewidth": 0,
              "ticks": ""
             }
            },
            "type": "scatterpolar"
           }
          ],
          "scatterpolargl": [
           {
            "marker": {
             "colorbar": {
              "outlinewidth": 0,
              "ticks": ""
             }
            },
            "type": "scatterpolargl"
           }
          ],
          "scatterternary": [
           {
            "marker": {
             "colorbar": {
              "outlinewidth": 0,
              "ticks": ""
             }
            },
            "type": "scatterternary"
           }
          ],
          "surface": [
           {
            "colorbar": {
             "outlinewidth": 0,
             "ticks": ""
            },
            "colorscale": [
             [
              0,
              "#0d0887"
             ],
             [
              0.1111111111111111,
              "#46039f"
             ],
             [
              0.2222222222222222,
              "#7201a8"
             ],
             [
              0.3333333333333333,
              "#9c179e"
             ],
             [
              0.4444444444444444,
              "#bd3786"
             ],
             [
              0.5555555555555556,
              "#d8576b"
             ],
             [
              0.6666666666666666,
              "#ed7953"
             ],
             [
              0.7777777777777778,
              "#fb9f3a"
             ],
             [
              0.8888888888888888,
              "#fdca26"
             ],
             [
              1,
              "#f0f921"
             ]
            ],
            "type": "surface"
           }
          ],
          "table": [
           {
            "cells": {
             "fill": {
              "color": "#EBF0F8"
             },
             "line": {
              "color": "white"
             }
            },
            "header": {
             "fill": {
              "color": "#C8D4E3"
             },
             "line": {
              "color": "white"
             }
            },
            "type": "table"
           }
          ]
         },
         "layout": {
          "annotationdefaults": {
           "arrowcolor": "#2a3f5f",
           "arrowhead": 0,
           "arrowwidth": 1
          },
          "autotypenumbers": "strict",
          "coloraxis": {
           "colorbar": {
            "outlinewidth": 0,
            "ticks": ""
           }
          },
          "colorscale": {
           "diverging": [
            [
             0,
             "#8e0152"
            ],
            [
             0.1,
             "#c51b7d"
            ],
            [
             0.2,
             "#de77ae"
            ],
            [
             0.3,
             "#f1b6da"
            ],
            [
             0.4,
             "#fde0ef"
            ],
            [
             0.5,
             "#f7f7f7"
            ],
            [
             0.6,
             "#e6f5d0"
            ],
            [
             0.7,
             "#b8e186"
            ],
            [
             0.8,
             "#7fbc41"
            ],
            [
             0.9,
             "#4d9221"
            ],
            [
             1,
             "#276419"
            ]
           ],
           "sequential": [
            [
             0,
             "#0d0887"
            ],
            [
             0.1111111111111111,
             "#46039f"
            ],
            [
             0.2222222222222222,
             "#7201a8"
            ],
            [
             0.3333333333333333,
             "#9c179e"
            ],
            [
             0.4444444444444444,
             "#bd3786"
            ],
            [
             0.5555555555555556,
             "#d8576b"
            ],
            [
             0.6666666666666666,
             "#ed7953"
            ],
            [
             0.7777777777777778,
             "#fb9f3a"
            ],
            [
             0.8888888888888888,
             "#fdca26"
            ],
            [
             1,
             "#f0f921"
            ]
           ],
           "sequentialminus": [
            [
             0,
             "#0d0887"
            ],
            [
             0.1111111111111111,
             "#46039f"
            ],
            [
             0.2222222222222222,
             "#7201a8"
            ],
            [
             0.3333333333333333,
             "#9c179e"
            ],
            [
             0.4444444444444444,
             "#bd3786"
            ],
            [
             0.5555555555555556,
             "#d8576b"
            ],
            [
             0.6666666666666666,
             "#ed7953"
            ],
            [
             0.7777777777777778,
             "#fb9f3a"
            ],
            [
             0.8888888888888888,
             "#fdca26"
            ],
            [
             1,
             "#f0f921"
            ]
           ]
          },
          "colorway": [
           "#636efa",
           "#EF553B",
           "#00cc96",
           "#ab63fa",
           "#FFA15A",
           "#19d3f3",
           "#FF6692",
           "#B6E880",
           "#FF97FF",
           "#FECB52"
          ],
          "font": {
           "color": "#2a3f5f"
          },
          "geo": {
           "bgcolor": "white",
           "lakecolor": "white",
           "landcolor": "#E5ECF6",
           "showlakes": true,
           "showland": true,
           "subunitcolor": "white"
          },
          "hoverlabel": {
           "align": "left"
          },
          "hovermode": "closest",
          "mapbox": {
           "style": "light"
          },
          "paper_bgcolor": "white",
          "plot_bgcolor": "#E5ECF6",
          "polar": {
           "angularaxis": {
            "gridcolor": "white",
            "linecolor": "white",
            "ticks": ""
           },
           "bgcolor": "#E5ECF6",
           "radialaxis": {
            "gridcolor": "white",
            "linecolor": "white",
            "ticks": ""
           }
          },
          "scene": {
           "xaxis": {
            "backgroundcolor": "#E5ECF6",
            "gridcolor": "white",
            "gridwidth": 2,
            "linecolor": "white",
            "showbackground": true,
            "ticks": "",
            "zerolinecolor": "white"
           },
           "yaxis": {
            "backgroundcolor": "#E5ECF6",
            "gridcolor": "white",
            "gridwidth": 2,
            "linecolor": "white",
            "showbackground": true,
            "ticks": "",
            "zerolinecolor": "white"
           },
           "zaxis": {
            "backgroundcolor": "#E5ECF6",
            "gridcolor": "white",
            "gridwidth": 2,
            "linecolor": "white",
            "showbackground": true,
            "ticks": "",
            "zerolinecolor": "white"
           }
          },
          "shapedefaults": {
           "line": {
            "color": "#2a3f5f"
           }
          },
          "ternary": {
           "aaxis": {
            "gridcolor": "white",
            "linecolor": "white",
            "ticks": ""
           },
           "baxis": {
            "gridcolor": "white",
            "linecolor": "white",
            "ticks": ""
           },
           "bgcolor": "#E5ECF6",
           "caxis": {
            "gridcolor": "white",
            "linecolor": "white",
            "ticks": ""
           }
          },
          "title": {
           "x": 0.05
          },
          "xaxis": {
           "automargin": true,
           "gridcolor": "white",
           "linecolor": "white",
           "ticks": "",
           "title": {
            "standoff": 15
           },
           "zerolinecolor": "white",
           "zerolinewidth": 2
          },
          "yaxis": {
           "automargin": true,
           "gridcolor": "white",
           "linecolor": "white",
           "ticks": "",
           "title": {
            "standoff": 15
           },
           "zerolinecolor": "white",
           "zerolinewidth": 2
          }
         }
        },
        "title": {
         "font": {
          "size": 16
         },
         "text": "<br>Network graph made with Python<br>"
        },
        "xaxis": {
         "showgrid": false,
         "showticklabels": false,
         "zeroline": false
        },
        "yaxis": {
         "showgrid": false,
         "showticklabels": false,
         "zeroline": false
        }
       }
      },
      "text/html": [
       "<div>                            <div id=\"043a6800-a29b-4fda-9679-6f24c8040f6a\" class=\"plotly-graph-div\" style=\"height:525px; width:100%;\"></div>            <script type=\"text/javascript\">                require([\"plotly\"], function(Plotly) {                    window.PLOTLYENV=window.PLOTLYENV || {};                                    if (document.getElementById(\"043a6800-a29b-4fda-9679-6f24c8040f6a\")) {                    Plotly.newPlot(                        \"043a6800-a29b-4fda-9679-6f24c8040f6a\",                        [{\"hoverinfo\":\"none\",\"line\":{\"color\":\"#888\",\"width\":0.5},\"mode\":\"lines\",\"x\":[-0.6124584362572921,0.31994424334030175,null,-0.6124584362572921,-0.5783999083150038,null,-0.22990940779523347,-1.0166420030861656,null,-0.22990940779523347,0.7695800571220708,null,-0.8665306350369545,-0.11508854589802325,null,-0.8665306350369545,-0.008367261667789576,null,-0.8855656174720697,-0.8160805580161551,null,-0.8855656174720697,-0.5346882369289561,null,1.0847432767955865,0.2763063913505259,null,1.0847432767955865,0.41260860180141595,null,-0.02110958792097262,-0.8028722143645277,null,-0.02110958792097262,-0.008367261667789576,null,0.8845420560517155,-0.11508854589802325,null,0.8845420560517155,0.10725604263103508,null,-0.003091990921274564,-0.4345091901293078,null,-0.003091990921274564,0.9757343591527758,null,-0.17382111482020765,-0.3325157633246017,null,-0.17382111482020765,-0.3851589476247564,null,-1.0166420030861656,-0.29181509898151237,null,-1.0166420030861656,-0.3190191519929631,null,-1.0166420030861656,-0.05382912649174995,null,-1.0166420030861656,-0.2241306076935134,null,0.6675964243257922,-0.29181509898151237,null,0.6675964243257922,-0.009653506902294013,null,-0.8330381150156949,-0.17273771986022887,null,-0.8330381150156949,-0.4258244519723335,null,-0.8330381150156949,-0.7537141225812733,null,0.08366882705056698,0.9101682209400699,null,0.08366882705056698,0.14344468080084272,null,-0.10773538810253364,-0.7799782737794894,null,-0.10773538810253364,-0.009653506902294013,null,-0.8160805580161551,0.1533018586487981,null,-0.8160805580161551,0.10725604263103508,null,-0.8160805580161551,-0.014691129094328457,null,-0.8160805580161551,-0.05382912649174995,null,-0.7537141225812733,-1.1498312125626977,null,0.34113685163246665,-0.2241306076935134,null,0.34113685163246665,0.41260860180141595,null,0.3312312643847731,-0.29402697852205506,null,0.3312312643847731,-0.11508854589802325,null,-0.3190191519929631,-0.8028722143645277,null,0.2071342656524172,-0.7677567820665906,null,0.2071342656524172,-0.5346882369289561,null,0.2071342656524172,-0.7799782737794894,null,0.2071342656524172,0.9101682209400699,null,0.2071342656524172,0.7695800571220708,null,0.6181289644290601,-0.008367261667789576,null,0.6181289644290601,-0.2682894877360031,null,-0.29402697852205506,-1.1498312125626977,null,-1.1498312125626977,-0.2682894877360031,null,-1.1498312125626977,-0.2881396797660672,null,-1.1498312125626977,-0.2529841459854036,null,0.14344468080084272,0.9724598553557653,null,-0.6729427882016263,-0.008367261667789576,null,-0.6729427882016263,-0.4258244519723335,null,-0.026747846715814736,-0.3851589476247564,null,-0.026747846715814736,-1.0204941157473961,null,-0.5783999083150038,0.41260860180141595,null,-1.0204941157473961,-0.160391801284085,null,0.9724598553557653,-0.009653506902294013,null,-0.2881396797660672,-0.014691129094328457,null,0.8643813466550421,0.15266179858977205,null,0.8643813466550421,-0.11508854589802325,null,0.15266179858977205,-0.8028722143645277,null,0.060834190018407716,-0.160391801284085,null,0.060834190018407716,-0.7677567820665906,null,-0.17273771986022887,0.31994424334030175,null,-0.009653506902294013,0.2763063913505259,null,-0.4345091901293078,-0.008367261667789576,null,-0.8028722143645277,0.1533018586487981,null,-0.8028722143645277,-0.2529841459854036,null],\"y\":[-0.49173968576129645,-0.1310630026549093,null,-0.49173968576129645,0.50741099890738,null,0.21047775935609317,-0.406354976410479,null,0.21047775935609317,0.18884824977650477,null,-0.4286325598603363,0.23074581932474095,null,-0.4286325598603363,-0.9414926158224562,null,0.9686600679659613,-0.02865479940234418,null,0.9686600679659613,0.03252764566774831,null,-0.36442817737299654,0.22369774994003966,null,-0.36442817737299654,0.3756374464948333,null,0.058156787644488055,-0.5649905120439394,null,0.058156787644488055,-0.9414926158224562,null,0.2167744561862804,0.23074581932474095,null,0.2167744561862804,-0.411947513514024,null,-0.9439945889133086,-1.8458499732236768,null,-0.9439945889133086,-0.7406188218837013,null,1.479017597678731,0.49196230553107917,null,1.479017597678731,0.5018797115502687,null,-0.406354976410479,0.2821689783608395,null,-0.406354976410479,0.3097967759779277,null,-0.406354976410479,-0.6755224549174462,null,-0.406354976410479,0.2030466108474251,null,0.0011265419955421743,0.2821689783608395,null,0.0011265419955421743,-0.7342626371912645,null,-0.2503176292189048,-1.0009629797461677,null,-0.2503176292189048,-1.1633505152556038,null,-0.2503176292189048,0.746258147146352,null,0.6355711812235774,0.07311128867370192,null,0.6355711812235774,-0.3623712429351056,null,0.26064518400180375,-0.479321971061467,null,0.26064518400180375,-0.7342626371912645,null,-0.02865479940234418,-0.2731027947031777,null,-0.02865479940234418,-0.411947513514024,null,-0.02865479940234418,-0.6263495203523356,null,-0.02865479940234418,-0.6755224549174462,null,0.746258147146352,-0.1716518167930351,null,-0.6215353843335141,0.2030466108474251,null,-0.6215353843335141,0.3756374464948333,null,1.125296727240943,0.3451895262932653,null,1.125296727240943,0.23074581932474095,null,0.3097967759779277,-0.5649905120439394,null,-0.6376647600047949,-0.4161893518288717,null,-0.6376647600047949,0.03252764566774831,null,-0.6376647600047949,-0.479321971061467,null,-0.6376647600047949,0.07311128867370192,null,-0.6376647600047949,0.18884824977650477,null,-0.1624133324597418,-0.9414926158224562,null,-0.1624133324597418,0.2998927293978915,null,0.3451895262932653,-0.1716518167930351,null,-0.1716518167930351,0.2998927293978915,null,-0.1716518167930351,0.3352566207213219,null,-0.1716518167930351,0.26998153424450977,null,-0.3623712429351056,-0.9211167300987557,null,-0.1946376444000022,-0.9414926158224562,null,-0.1946376444000022,-1.1633505152556038,null,-0.43139602796013604,0.5018797115502687,null,-0.43139602796013604,-0.3221690715737528,null,0.50741099890738,0.3756374464948333,null,-0.3221690715737528,-0.8317630997018013,null,-0.9211167300987557,-0.7342626371912645,null,0.3352566207213219,-0.6263495203523356,null,0.43103048774989683,-0.2710422752086785,null,0.43103048774989683,0.23074581932474095,null,-0.2710422752086785,-0.5649905120439394,null,0.14318383032724444,-0.8317630997018013,null,0.14318383032724444,-0.4161893518288717,null,-1.0009629797461677,-0.1310630026549093,null,-0.7342626371912645,0.22369774994003966,null,-1.8458499732236768,-0.9414926158224562,null,-0.5649905120439394,-0.2731027947031777,null,-0.5649905120439394,0.26998153424450977,null],\"type\":\"scatter\"},{\"hoverinfo\":[\"x\",\"y\"],\"line\":{\"width\":2},\"marker\":{\"showscale\":true},\"mode\":\"markers\",\"x\":[-0.6124584362572921,-0.22990940779523347,-0.8665306350369545,-0.8855656174720697,1.0847432767955865,-0.02110958792097262,0.8845420560517155,-0.003091990921274564,-0.17382111482020765,-1.0166420030861656,0.6675964243257922,-0.8330381150156949,0.08366882705056698,-0.10773538810253364,-0.8160805580161551,-0.7537141225812733,0.34113685163246665,0.3312312643847731,-0.3190191519929631,-0.2241306076935134,0.2071342656524172,0.6181289644290601,-0.29402697852205506,-1.1498312125626977,0.14344468080084272,-0.6729427882016263,0.9757343591527758,-0.026747846715814736,-0.05382912649174995,-0.5783999083150038,-1.0204941157473961,0.9724598553557653,0.7695800571220708,0.10725604263103508,-0.5346882369289561,-0.2881396797660672,0.8643813466550421,-0.11508854589802325,0.41260860180141595,-0.3325157633246017,0.15266179858977205,0.060834190018407716,-0.17273771986022887,-0.7799782737794894,-0.014691129094328457,-0.009653506902294013,-0.3851589476247564,0.9101682209400699,-0.2682894877360031,-0.4258244519723335,-0.29181509898151237,-0.4345091901293078,-0.160391801284085,0.31994424334030175,-0.8028722143645277,-0.7677567820665906,0.2763063913505259,0.1533018586487981,-0.2529841459854036,-0.008367261667789576],\"y\":[-0.49173968576129645,0.21047775935609317,-0.4286325598603363,0.9686600679659613,-0.36442817737299654,0.058156787644488055,0.2167744561862804,-0.9439945889133086,1.479017597678731,-0.406354976410479,0.0011265419955421743,-0.2503176292189048,0.6355711812235774,0.26064518400180375,-0.02865479940234418,0.746258147146352,-0.6215353843335141,1.125296727240943,0.3097967759779277,0.2030466108474251,-0.6376647600047949,-0.1624133324597418,0.3451895262932653,-0.1716518167930351,-0.3623712429351056,-0.1946376444000022,-0.7406188218837013,-0.43139602796013604,-0.6755224549174462,0.50741099890738,-0.3221690715737528,-0.9211167300987557,0.18884824977650477,-0.411947513514024,0.03252764566774831,0.3352566207213219,0.43103048774989683,0.23074581932474095,0.3756374464948333,0.49196230553107917,-0.2710422752086785,0.14318383032724444,-1.0009629797461677,-0.479321971061467,-0.6263495203523356,-0.7342626371912645,0.5018797115502687,0.07311128867370192,0.2998927293978915,-1.1633505152556038,0.2821689783608395,-1.8458499732236768,-0.8317630997018013,-0.1310630026549093,-0.5649905120439394,-0.4161893518288717,0.22369774994003966,-0.2731027947031777,0.26998153424450977,-0.9414926158224562],\"type\":\"scatter\"}],                        {\"annotations\":[{\"showarrow\":false,\"text\":\"Python code:\",\"x\":0.005,\"xref\":\"paper\",\"y\":-0.002,\"yref\":\"paper\"}],\"hovermode\":\"closest\",\"margin\":{\"b\":20,\"l\":5,\"r\":5,\"t\":40},\"showlegend\":false,\"title\":{\"font\":{\"size\":16},\"text\":\"<br>Network graph made with Python<br>\"},\"xaxis\":{\"showgrid\":false,\"showticklabels\":false,\"zeroline\":false},\"yaxis\":{\"showgrid\":false,\"showticklabels\":false,\"zeroline\":false},\"template\":{\"data\":{\"histogram2dcontour\":[{\"type\":\"histogram2dcontour\",\"colorbar\":{\"outlinewidth\":0,\"ticks\":\"\"},\"colorscale\":[[0.0,\"#0d0887\"],[0.1111111111111111,\"#46039f\"],[0.2222222222222222,\"#7201a8\"],[0.3333333333333333,\"#9c179e\"],[0.4444444444444444,\"#bd3786\"],[0.5555555555555556,\"#d8576b\"],[0.6666666666666666,\"#ed7953\"],[0.7777777777777778,\"#fb9f3a\"],[0.8888888888888888,\"#fdca26\"],[1.0,\"#f0f921\"]]}],\"choropleth\":[{\"type\":\"choropleth\",\"colorbar\":{\"outlinewidth\":0,\"ticks\":\"\"}}],\"histogram2d\":[{\"type\":\"histogram2d\",\"colorbar\":{\"outlinewidth\":0,\"ticks\":\"\"},\"colorscale\":[[0.0,\"#0d0887\"],[0.1111111111111111,\"#46039f\"],[0.2222222222222222,\"#7201a8\"],[0.3333333333333333,\"#9c179e\"],[0.4444444444444444,\"#bd3786\"],[0.5555555555555556,\"#d8576b\"],[0.6666666666666666,\"#ed7953\"],[0.7777777777777778,\"#fb9f3a\"],[0.8888888888888888,\"#fdca26\"],[1.0,\"#f0f921\"]]}],\"heatmap\":[{\"type\":\"heatmap\",\"colorbar\":{\"outlinewidth\":0,\"ticks\":\"\"},\"colorscale\":[[0.0,\"#0d0887\"],[0.1111111111111111,\"#46039f\"],[0.2222222222222222,\"#7201a8\"],[0.3333333333333333,\"#9c179e\"],[0.4444444444444444,\"#bd3786\"],[0.5555555555555556,\"#d8576b\"],[0.6666666666666666,\"#ed7953\"],[0.7777777777777778,\"#fb9f3a\"],[0.8888888888888888,\"#fdca26\"],[1.0,\"#f0f921\"]]}],\"heatmapgl\":[{\"type\":\"heatmapgl\",\"colorbar\":{\"outlinewidth\":0,\"ticks\":\"\"},\"colorscale\":[[0.0,\"#0d0887\"],[0.1111111111111111,\"#46039f\"],[0.2222222222222222,\"#7201a8\"],[0.3333333333333333,\"#9c179e\"],[0.4444444444444444,\"#bd3786\"],[0.5555555555555556,\"#d8576b\"],[0.6666666666666666,\"#ed7953\"],[0.7777777777777778,\"#fb9f3a\"],[0.8888888888888888,\"#fdca26\"],[1.0,\"#f0f921\"]]}],\"contourcarpet\":[{\"type\":\"contourcarpet\",\"colorbar\":{\"outlinewidth\":0,\"ticks\":\"\"}}],\"contour\":[{\"type\":\"contour\",\"colorbar\":{\"outlinewidth\":0,\"ticks\":\"\"},\"colorscale\":[[0.0,\"#0d0887\"],[0.1111111111111111,\"#46039f\"],[0.2222222222222222,\"#7201a8\"],[0.3333333333333333,\"#9c179e\"],[0.4444444444444444,\"#bd3786\"],[0.5555555555555556,\"#d8576b\"],[0.6666666666666666,\"#ed7953\"],[0.7777777777777778,\"#fb9f3a\"],[0.8888888888888888,\"#fdca26\"],[1.0,\"#f0f921\"]]}],\"surface\":[{\"type\":\"surface\",\"colorbar\":{\"outlinewidth\":0,\"ticks\":\"\"},\"colorscale\":[[0.0,\"#0d0887\"],[0.1111111111111111,\"#46039f\"],[0.2222222222222222,\"#7201a8\"],[0.3333333333333333,\"#9c179e\"],[0.4444444444444444,\"#bd3786\"],[0.5555555555555556,\"#d8576b\"],[0.6666666666666666,\"#ed7953\"],[0.7777777777777778,\"#fb9f3a\"],[0.8888888888888888,\"#fdca26\"],[1.0,\"#f0f921\"]]}],\"mesh3d\":[{\"type\":\"mesh3d\",\"colorbar\":{\"outlinewidth\":0,\"ticks\":\"\"}}],\"scatter\":[{\"fillpattern\":{\"fillmode\":\"overlay\",\"size\":10,\"solidity\":0.2},\"type\":\"scatter\"}],\"parcoords\":[{\"type\":\"parcoords\",\"line\":{\"colorbar\":{\"outlinewidth\":0,\"ticks\":\"\"}}}],\"scatterpolargl\":[{\"type\":\"scatterpolargl\",\"marker\":{\"colorbar\":{\"outlinewidth\":0,\"ticks\":\"\"}}}],\"bar\":[{\"error_x\":{\"color\":\"#2a3f5f\"},\"error_y\":{\"color\":\"#2a3f5f\"},\"marker\":{\"line\":{\"color\":\"#E5ECF6\",\"width\":0.5},\"pattern\":{\"fillmode\":\"overlay\",\"size\":10,\"solidity\":0.2}},\"type\":\"bar\"}],\"scattergeo\":[{\"type\":\"scattergeo\",\"marker\":{\"colorbar\":{\"outlinewidth\":0,\"ticks\":\"\"}}}],\"scatterpolar\":[{\"type\":\"scatterpolar\",\"marker\":{\"colorbar\":{\"outlinewidth\":0,\"ticks\":\"\"}}}],\"histogram\":[{\"marker\":{\"pattern\":{\"fillmode\":\"overlay\",\"size\":10,\"solidity\":0.2}},\"type\":\"histogram\"}],\"scattergl\":[{\"type\":\"scattergl\",\"marker\":{\"colorbar\":{\"outlinewidth\":0,\"ticks\":\"\"}}}],\"scatter3d\":[{\"type\":\"scatter3d\",\"line\":{\"colorbar\":{\"outlinewidth\":0,\"ticks\":\"\"}},\"marker\":{\"colorbar\":{\"outlinewidth\":0,\"ticks\":\"\"}}}],\"scattermapbox\":[{\"type\":\"scattermapbox\",\"marker\":{\"colorbar\":{\"outlinewidth\":0,\"ticks\":\"\"}}}],\"scatterternary\":[{\"type\":\"scatterternary\",\"marker\":{\"colorbar\":{\"outlinewidth\":0,\"ticks\":\"\"}}}],\"scattercarpet\":[{\"type\":\"scattercarpet\",\"marker\":{\"colorbar\":{\"outlinewidth\":0,\"ticks\":\"\"}}}],\"carpet\":[{\"aaxis\":{\"endlinecolor\":\"#2a3f5f\",\"gridcolor\":\"white\",\"linecolor\":\"white\",\"minorgridcolor\":\"white\",\"startlinecolor\":\"#2a3f5f\"},\"baxis\":{\"endlinecolor\":\"#2a3f5f\",\"gridcolor\":\"white\",\"linecolor\":\"white\",\"minorgridcolor\":\"white\",\"startlinecolor\":\"#2a3f5f\"},\"type\":\"carpet\"}],\"table\":[{\"cells\":{\"fill\":{\"color\":\"#EBF0F8\"},\"line\":{\"color\":\"white\"}},\"header\":{\"fill\":{\"color\":\"#C8D4E3\"},\"line\":{\"color\":\"white\"}},\"type\":\"table\"}],\"barpolar\":[{\"marker\":{\"line\":{\"color\":\"#E5ECF6\",\"width\":0.5},\"pattern\":{\"fillmode\":\"overlay\",\"size\":10,\"solidity\":0.2}},\"type\":\"barpolar\"}],\"pie\":[{\"automargin\":true,\"type\":\"pie\"}]},\"layout\":{\"autotypenumbers\":\"strict\",\"colorway\":[\"#636efa\",\"#EF553B\",\"#00cc96\",\"#ab63fa\",\"#FFA15A\",\"#19d3f3\",\"#FF6692\",\"#B6E880\",\"#FF97FF\",\"#FECB52\"],\"font\":{\"color\":\"#2a3f5f\"},\"hovermode\":\"closest\",\"hoverlabel\":{\"align\":\"left\"},\"paper_bgcolor\":\"white\",\"plot_bgcolor\":\"#E5ECF6\",\"polar\":{\"bgcolor\":\"#E5ECF6\",\"angularaxis\":{\"gridcolor\":\"white\",\"linecolor\":\"white\",\"ticks\":\"\"},\"radialaxis\":{\"gridcolor\":\"white\",\"linecolor\":\"white\",\"ticks\":\"\"}},\"ternary\":{\"bgcolor\":\"#E5ECF6\",\"aaxis\":{\"gridcolor\":\"white\",\"linecolor\":\"white\",\"ticks\":\"\"},\"baxis\":{\"gridcolor\":\"white\",\"linecolor\":\"white\",\"ticks\":\"\"},\"caxis\":{\"gridcolor\":\"white\",\"linecolor\":\"white\",\"ticks\":\"\"}},\"coloraxis\":{\"colorbar\":{\"outlinewidth\":0,\"ticks\":\"\"}},\"colorscale\":{\"sequential\":[[0.0,\"#0d0887\"],[0.1111111111111111,\"#46039f\"],[0.2222222222222222,\"#7201a8\"],[0.3333333333333333,\"#9c179e\"],[0.4444444444444444,\"#bd3786\"],[0.5555555555555556,\"#d8576b\"],[0.6666666666666666,\"#ed7953\"],[0.7777777777777778,\"#fb9f3a\"],[0.8888888888888888,\"#fdca26\"],[1.0,\"#f0f921\"]],\"sequentialminus\":[[0.0,\"#0d0887\"],[0.1111111111111111,\"#46039f\"],[0.2222222222222222,\"#7201a8\"],[0.3333333333333333,\"#9c179e\"],[0.4444444444444444,\"#bd3786\"],[0.5555555555555556,\"#d8576b\"],[0.6666666666666666,\"#ed7953\"],[0.7777777777777778,\"#fb9f3a\"],[0.8888888888888888,\"#fdca26\"],[1.0,\"#f0f921\"]],\"diverging\":[[0,\"#8e0152\"],[0.1,\"#c51b7d\"],[0.2,\"#de77ae\"],[0.3,\"#f1b6da\"],[0.4,\"#fde0ef\"],[0.5,\"#f7f7f7\"],[0.6,\"#e6f5d0\"],[0.7,\"#b8e186\"],[0.8,\"#7fbc41\"],[0.9,\"#4d9221\"],[1,\"#276419\"]]},\"xaxis\":{\"gridcolor\":\"white\",\"linecolor\":\"white\",\"ticks\":\"\",\"title\":{\"standoff\":15},\"zerolinecolor\":\"white\",\"automargin\":true,\"zerolinewidth\":2},\"yaxis\":{\"gridcolor\":\"white\",\"linecolor\":\"white\",\"ticks\":\"\",\"title\":{\"standoff\":15},\"zerolinecolor\":\"white\",\"automargin\":true,\"zerolinewidth\":2},\"scene\":{\"xaxis\":{\"backgroundcolor\":\"#E5ECF6\",\"gridcolor\":\"white\",\"linecolor\":\"white\",\"showbackground\":true,\"ticks\":\"\",\"zerolinecolor\":\"white\",\"gridwidth\":2},\"yaxis\":{\"backgroundcolor\":\"#E5ECF6\",\"gridcolor\":\"white\",\"linecolor\":\"white\",\"showbackground\":true,\"ticks\":\"\",\"zerolinecolor\":\"white\",\"gridwidth\":2},\"zaxis\":{\"backgroundcolor\":\"#E5ECF6\",\"gridcolor\":\"white\",\"linecolor\":\"white\",\"showbackground\":true,\"ticks\":\"\",\"zerolinecolor\":\"white\",\"gridwidth\":2}},\"shapedefaults\":{\"line\":{\"color\":\"#2a3f5f\"}},\"annotationdefaults\":{\"arrowcolor\":\"#2a3f5f\",\"arrowhead\":0,\"arrowwidth\":1},\"geo\":{\"bgcolor\":\"white\",\"landcolor\":\"#E5ECF6\",\"subunitcolor\":\"white\",\"showland\":true,\"showlakes\":true,\"lakecolor\":\"white\"},\"title\":{\"x\":0.05},\"mapbox\":{\"style\":\"light\"}}}},                        {\"responsive\": true}                    ).then(function(){\n",
       "                            \n",
       "var gd = document.getElementById('043a6800-a29b-4fda-9679-6f24c8040f6a');\n",
       "var x = new MutationObserver(function (mutations, observer) {{\n",
       "        var display = window.getComputedStyle(gd).display;\n",
       "        if (!display || display === 'none') {{\n",
       "            console.log([gd, 'removed!']);\n",
       "            Plotly.purge(gd);\n",
       "            observer.disconnect();\n",
       "        }}\n",
       "}});\n",
       "\n",
       "// Listen for the removal of the full notebook cells\n",
       "var notebookContainer = gd.closest('#notebook-container');\n",
       "if (notebookContainer) {{\n",
       "    x.observe(notebookContainer, {childList: true});\n",
       "}}\n",
       "\n",
       "// Listen for the clearing of the current output cell\n",
       "var outputEl = gd.closest('.output');\n",
       "if (outputEl) {{\n",
       "    x.observe(outputEl, {childList: true});\n",
       "}}\n",
       "\n",
       "                        })                };                });            </script>        </div>"
      ]
     },
     "metadata": {},
     "output_type": "display_data"
    }
   ],
   "source": [
    "show_graph(G)"
   ]
  },
  {
   "cell_type": "code",
   "execution_count": 342,
   "metadata": {
    "collapsed": false
   },
   "outputs": [],
   "source": [
    "def show_graph(G):\n",
    "    edge_x = []\n",
    "    edge_y = []\n",
    "    for edge in G.edges():\n",
    "        x0, y0 = G.nodes[edge[0]]['pos']\n",
    "        x1, y1 = G.nodes[edge[1]]['pos']\n",
    "        edge_x.append(x0)\n",
    "        edge_x.append(x1)\n",
    "        edge_x.append(None)\n",
    "        edge_y.append(y0)\n",
    "        edge_y.append(y1)\n",
    "        edge_y.append(None)\n",
    "    edge_trace = go.Scatter(\n",
    "        x=edge_x, y=edge_y,\n",
    "        line=dict(width=0.5, color='#888'),\n",
    "        hoverinfo='none',\n",
    "        mode='lines')\n",
    "    node_x = []\n",
    "    node_y = []\n",
    "    for node in G.nodes():\n",
    "        x, y = G.nodes[node]['pos']\n",
    "        node_x.append(x)\n",
    "        node_y.append(y)\n",
    "    node_trace = go.Scatter(\n",
    "        x=node_x, y=node_y,\n",
    "        mode='markers',\n",
    "        hoverinfo=['x', 'y'],\n",
    "        marker=dict(\n",
    "            showscale=True,\n",
    "            # colorscale options\n",
    "            #'Greys' | 'YlGnBu' | 'Greens' | 'YlOrRd' | 'Bluered' | 'RdBu' |\n",
    "            #'Reds' | 'Blues' | 'Picnic' | 'Rainbow' | 'Portland' | 'Jet' |\n",
    "            #'Hot' | 'Blackbody' | 'Earth' | 'Electric' | 'Viridis' |\n",
    "        ),\n",
    "        line_width=2)\n",
    "    fig = go.Figure(data=[edge_trace, node_trace],\n",
    "                    layout=go.Layout(\n",
    "                        title='<br>Network graph made with Python<br>',\n",
    "                        titlefont_size=16,\n",
    "                        showlegend=False,\n",
    "                        hovermode='closest',\n",
    "                        margin=dict(b=20,l=5,r=5,t=40),\n",
    "                        annotations=[ dict(\n",
    "                            text=\"Python code:\",\n",
    "                            showarrow=False,\n",
    "                            xref=\"paper\", yref=\"paper\",\n",
    "                            x=0.005, y=-0.002 ) ],\n",
    "                        xaxis=dict(showgrid=False, zeroline=False, showticklabels=False),\n",
    "                        yaxis=dict(showgrid=False, zeroline=False, showticklabels=False))\n",
    "                    )\n",
    "    fig.show()"
   ]
  },
  {
   "cell_type": "markdown",
   "metadata": {
    "collapsed": false
   },
   "source": []
  },
  {
   "cell_type": "code",
   "execution_count": 333,
   "metadata": {
    "collapsed": false
   },
   "outputs": [],
   "source": [
    "edge_x = []\n",
    "edge_y = []\n",
    "for edge in G.edges():\n",
    "    x0, y0 = G.nodes[edge[0]]['pos']\n",
    "    x1, y1 = G.nodes[edge[1]]['pos']\n",
    "    edge_x.append(x0)\n",
    "    edge_x.append(x1)\n",
    "    edge_x.append(None)\n",
    "    edge_y.append(y0)\n",
    "    edge_y.append(y1)\n",
    "    edge_y.append(None)"
   ]
  },
  {
   "cell_type": "code",
   "execution_count": 334,
   "metadata": {
    "collapsed": false
   },
   "outputs": [],
   "source": [
    "edge_trace = go.Scatter(\n",
    "    x=edge_x, y=edge_y,\n",
    "    line=dict(width=0.5, color='#888'),\n",
    "    hoverinfo='none',\n",
    "    mode='lines')"
   ]
  },
  {
   "cell_type": "code",
   "execution_count": 335,
   "metadata": {
    "collapsed": false
   },
   "outputs": [],
   "source": [
    "node_x = []\n",
    "node_y = []\n",
    "for node in G.nodes():\n",
    "    x, y = G.nodes[node]['pos']\n",
    "    node_x.append(x)\n",
    "    node_y.append(y)"
   ]
  },
  {
   "cell_type": "code",
   "execution_count": 336,
   "metadata": {
    "collapsed": false
   },
   "outputs": [],
   "source": [
    "node_trace = go.Scatter(\n",
    "    x=node_x, y=node_y,\n",
    "    mode='markers',\n",
    "    hoverinfo=['x'],\n",
    "    marker=dict(\n",
    "        showscale=True,\n",
    "        # colorscale options\n",
    "        #'Greys' | 'YlGnBu' | 'Greens' | 'YlOrRd' | 'Bluered' | 'RdBu' |\n",
    "        #'Reds' | 'Blues' | 'Picnic' | 'Rainbow' | 'Portland' | 'Jet' |\n",
    "        #'Hot' | 'Blackbody' | 'Earth' | 'Electric' | 'Viridis' |\n",
    "    ),\n",
    "        line_width=2)"
   ]
  },
  {
   "cell_type": "code",
   "execution_count": 337,
   "metadata": {
    "collapsed": false
   },
   "outputs": [
    {
     "data": {
      "application/vnd.plotly.v1+json": {
       "config": {
        "plotlyServerURL": "https://plot.ly"
       },
       "data": [
        {
         "hoverinfo": "none",
         "line": {
          "color": "#888",
          "width": 0.5
         },
         "mode": "lines",
         "type": "scatter",
         "x": [
          -0.6300467165584327,
          0.34113398339877343,
          null,
          -0.6300467165584327,
          -0.6290336129591064,
          null,
          -0.3660211060009104,
          -1.0366276944728665,
          null,
          -0.3660211060009104,
          0.6541650203203455,
          null,
          -1.0251566154568432,
          -0.10296613415518972,
          null,
          -1.0251566154568432,
          -0.111577609342547,
          null,
          -0.9270610732474872,
          -0.758186928278795,
          null,
          -0.9270610732474872,
          -0.6361413736071324,
          null,
          1.1168233490289952,
          0.1979384072729424,
          null,
          1.1168233490289952,
          0.5018127444092477,
          null,
          -0.44389056500892754,
          -0.7939877094519217,
          null,
          -0.44389056500892754,
          -0.111577609342547,
          null,
          1.0719746723206354,
          -0.10296613415518972,
          null,
          1.0719746723206354,
          0.25718620664075453,
          null,
          -0.05019000791496315,
          -0.44126694677362355,
          null,
          -0.05019000791496315,
          1.0440330432220293,
          null,
          -0.16745449902469445,
          -0.3361802584581234,
          null,
          -0.16745449902469445,
          -0.39339722449043685,
          null,
          -1.0366276944728665,
          -0.3375191622264385,
          null,
          -1.0366276944728665,
          -0.27996728952999944,
          null,
          -1.0366276944728665,
          -0.1081512694751486,
          null,
          -1.0366276944728665,
          -0.2887577370149319,
          null,
          0.7067105922697108,
          -0.3375191622264385,
          null,
          0.7067105922697108,
          0.018182138979749105,
          null,
          -0.6391861224559108,
          -0.16794789241641503,
          null,
          -0.6391861224559108,
          -0.5200939387969148,
          null,
          -0.6391861224559108,
          -0.4982100873208997,
          null,
          0.15449173529107801,
          0.9862066267413565,
          null,
          0.15449173529107801,
          0.053981725335467856,
          null,
          0.07467895544247631,
          -0.7407155014340618,
          null,
          0.07467895544247631,
          0.018182138979749105,
          null,
          -0.758186928278795,
          0.09700968138102622,
          null,
          -0.758186928278795,
          0.25718620664075453,
          null,
          -0.758186928278795,
          -0.042791823086446884,
          null,
          -0.758186928278795,
          -0.1081512694751486,
          null,
          -0.4982100873208997,
          -0.9639640647892703,
          null,
          0.33359413479872907,
          -0.2887577370149319,
          null,
          0.33359413479872907,
          0.5018127444092477,
          null,
          0.22955980356034497,
          -0.33455144061781367,
          null,
          0.22955980356034497,
          -0.10296613415518972,
          null,
          -0.27996728952999944,
          -0.7939877094519217,
          null,
          0.17751891353258895,
          -0.803733748719912,
          null,
          0.17751891353258895,
          -0.6361413736071324,
          null,
          0.17751891353258895,
          -0.7407155014340618,
          null,
          0.17751891353258895,
          0.9862066267413565,
          null,
          0.17751891353258895,
          0.6541650203203455,
          null,
          0.4237771249703116,
          -0.111577609342547,
          null,
          0.4237771249703116,
          0.29219869754378525,
          null,
          -0.33455144061781367,
          -0.9639640647892703,
          null,
          -0.9639640647892703,
          0.29219869754378525,
          null,
          -0.9639640647892703,
          -0.2706458515235452,
          null,
          -0.9639640647892703,
          -0.6247449291644972,
          null,
          0.053981725335467856,
          0.9240419915943758,
          null,
          -0.49989476931245375,
          -0.111577609342547,
          null,
          -0.49989476931245375,
          -0.5200939387969148,
          null,
          -0.01306908327492092,
          -0.39339722449043685,
          null,
          -0.01306908327492092,
          -1.0244667328192543,
          null,
          -0.6290336129591064,
          0.5018127444092477,
          null,
          -1.0244667328192543,
          -0.16290277017240984,
          null,
          0.9240419915943758,
          0.018182138979749105,
          null,
          -0.2706458515235452,
          -0.042791823086446884,
          null,
          0.8485279879050263,
          0.23257114336491932,
          null,
          0.8485279879050263,
          -0.10296613415518972,
          null,
          0.23257114336491932,
          -0.7939877094519217,
          null,
          0.06466423612283759,
          -0.16290277017240984,
          null,
          0.06466423612283759,
          -0.803733748719912,
          null,
          -0.16794789241641503,
          0.34113398339877343,
          null,
          0.018182138979749105,
          0.1979384072729424,
          null,
          -0.44126694677362355,
          -0.111577609342547,
          null,
          -0.7939877094519217,
          0.09700968138102622,
          null,
          -0.7939877094519217,
          -0.6247449291644972,
          null
         ],
         "y": [
          -0.4873322080979492,
          -0.11833507974795382,
          null,
          -0.4873322080979492,
          0.5017838416874751,
          null,
          0.12871138394987622,
          -0.5843441130562114,
          null,
          0.12871138394987622,
          -0.03464777179076784,
          null,
          -0.6637041779255656,
          0.15954665948249483,
          null,
          -0.6637041779255656,
          -0.9321237282992006,
          null,
          1.0489688788873326,
          0.07501254107355547,
          null,
          1.0489688788873326,
          0.009165151840220265,
          null,
          -0.3719603575949976,
          0.21120749768585592,
          null,
          -0.3719603575949976,
          0.38401293856776675,
          null,
          0.09259911178416509,
          -0.7082229416000788,
          null,
          0.09259911178416509,
          -0.9321237282992006,
          null,
          0.1654531859033024,
          0.15954665948249483,
          null,
          0.1654531859033024,
          -0.3832674165000383,
          null,
          -0.9096553120603093,
          -1.85095292319652,
          null,
          -0.9096553120603093,
          -0.7284742141667798,
          null,
          1.5139406940221807,
          0.4692297529105078,
          null,
          1.5139406940221807,
          0.5038282232395608,
          null,
          -0.5843441130562114,
          0.15147474966923247,
          null,
          -0.5843441130562114,
          0.09389935313279638,
          null,
          -0.5843441130562114,
          -0.7228796374160281,
          null,
          -0.5843441130562114,
          0.1484525241690388,
          null,
          0.15392614869434323,
          0.15147474966923247,
          null,
          0.15392614869434323,
          -0.6655163638673108,
          null,
          -0.09950958309872979,
          -1.0101570913825428,
          null,
          -0.09950958309872979,
          -1.1276465105302333,
          null,
          -0.09950958309872979,
          0.9057511502462012,
          null,
          0.6815528575491008,
          0.27914165508918054,
          null,
          0.6815528575491008,
          -0.39024062096110457,
          null,
          0.28279562983936307,
          -0.7034637704239378,
          null,
          0.28279562983936307,
          -0.6655163638673108,
          null,
          0.07501254107355547,
          -0.17360217077260565,
          null,
          0.07501254107355547,
          -0.3832674165000383,
          null,
          0.07501254107355547,
          -0.6100981565979562,
          null,
          0.07501254107355547,
          -0.7228796374160281,
          null,
          0.9057511502462012,
          -0.1955505832808527,
          null,
          -0.6712331569721302,
          0.1484525241690388,
          null,
          -0.6712331569721302,
          0.38401293856776675,
          null,
          1.137170348478486,
          0.3768179341725575,
          null,
          1.137170348478486,
          0.15954665948249483,
          null,
          0.09389935313279638,
          -0.7082229416000788,
          null,
          -0.7042278651604669,
          -0.41147897362469277,
          null,
          -0.7042278651604669,
          0.009165151840220265,
          null,
          -0.7042278651604669,
          -0.7034637704239378,
          null,
          -0.7042278651604669,
          0.27914165508918054,
          null,
          -0.7042278651604669,
          -0.03464777179076784,
          null,
          -0.21528979007012253,
          -0.9321237282992006,
          null,
          -0.21528979007012253,
          0.5755785078119048,
          null,
          0.3768179341725575,
          -0.1955505832808527,
          null,
          -0.1955505832808527,
          0.5755785078119048,
          null,
          -0.1955505832808527,
          0.34909314003290937,
          null,
          -0.1955505832808527,
          0.4571571664428254,
          null,
          -0.39024062096110457,
          -0.9486866598849079,
          null,
          -0.06208850718297069,
          -0.9321237282992006,
          null,
          -0.06208850718297069,
          -1.1276465105302333,
          null,
          -0.4464917485442589,
          0.5038282232395608,
          null,
          -0.4464917485442589,
          -0.3236612300820328,
          null,
          0.5017838416874751,
          0.38401293856776675,
          null,
          -0.3236612300820328,
          -0.8221228160708881,
          null,
          -0.9486866598849079,
          -0.6655163638673108,
          null,
          0.34909314003290937,
          -0.6100981565979562,
          null,
          0.5498933612012097,
          -0.3681404695217204,
          null,
          0.5498933612012097,
          0.15954665948249483,
          null,
          -0.3681404695217204,
          -0.7082229416000788,
          null,
          0.13938585553678917,
          -0.8221228160708881,
          null,
          0.13938585553678917,
          -0.41147897362469277,
          null,
          -1.0101570913825428,
          -0.11833507974795382,
          null,
          -0.6655163638673108,
          0.21120749768585592,
          null,
          -1.85095292319652,
          -0.9321237282992006,
          null,
          -0.7082229416000788,
          -0.17360217077260565,
          null,
          -0.7082229416000788,
          0.4571571664428254,
          null
         ]
        },
        {
         "hoverinfo": [
          "x"
         ],
         "line": {
          "width": 2
         },
         "marker": {
          "showscale": true
         },
         "mode": "markers",
         "type": "scatter",
         "x": [
          -0.6300467165584327,
          -0.3660211060009104,
          -1.0251566154568432,
          -0.9270610732474872,
          1.1168233490289952,
          -0.44389056500892754,
          1.0719746723206354,
          -0.05019000791496315,
          -0.16745449902469445,
          -1.0366276944728665,
          0.7067105922697108,
          -0.6391861224559108,
          0.15449173529107801,
          0.07467895544247631,
          -0.758186928278795,
          -0.4982100873208997,
          0.33359413479872907,
          0.22955980356034497,
          -0.27996728952999944,
          -0.2887577370149319,
          0.17751891353258895,
          0.4237771249703116,
          -0.33455144061781367,
          -0.9639640647892703,
          0.053981725335467856,
          -0.49989476931245375,
          1.0440330432220293,
          -0.01306908327492092,
          -0.1081512694751486,
          -0.6290336129591064,
          -1.0244667328192543,
          0.9240419915943758,
          0.6541650203203455,
          0.25718620664075453,
          -0.6361413736071324,
          -0.2706458515235452,
          0.8485279879050263,
          -0.10296613415518972,
          0.5018127444092477,
          -0.3361802584581234,
          0.23257114336491932,
          0.06466423612283759,
          -0.16794789241641503,
          -0.7407155014340618,
          -0.042791823086446884,
          0.018182138979749105,
          -0.39339722449043685,
          0.9862066267413565,
          0.29219869754378525,
          -0.5200939387969148,
          -0.3375191622264385,
          -0.44126694677362355,
          -0.16290277017240984,
          0.34113398339877343,
          -0.7939877094519217,
          -0.803733748719912,
          0.1979384072729424,
          0.09700968138102622,
          -0.6247449291644972,
          -0.111577609342547
         ],
         "y": [
          -0.4873322080979492,
          0.12871138394987622,
          -0.6637041779255656,
          1.0489688788873326,
          -0.3719603575949976,
          0.09259911178416509,
          0.1654531859033024,
          -0.9096553120603093,
          1.5139406940221807,
          -0.5843441130562114,
          0.15392614869434323,
          -0.09950958309872979,
          0.6815528575491008,
          0.28279562983936307,
          0.07501254107355547,
          0.9057511502462012,
          -0.6712331569721302,
          1.137170348478486,
          0.09389935313279638,
          0.1484525241690388,
          -0.7042278651604669,
          -0.21528979007012253,
          0.3768179341725575,
          -0.1955505832808527,
          -0.39024062096110457,
          -0.06208850718297069,
          -0.7284742141667798,
          -0.4464917485442589,
          -0.7228796374160281,
          0.5017838416874751,
          -0.3236612300820328,
          -0.9486866598849079,
          -0.03464777179076784,
          -0.3832674165000383,
          0.009165151840220265,
          0.34909314003290937,
          0.5498933612012097,
          0.15954665948249483,
          0.38401293856776675,
          0.4692297529105078,
          -0.3681404695217204,
          0.13938585553678917,
          -1.0101570913825428,
          -0.7034637704239378,
          -0.6100981565979562,
          -0.6655163638673108,
          0.5038282232395608,
          0.27914165508918054,
          0.5755785078119048,
          -1.1276465105302333,
          0.15147474966923247,
          -1.85095292319652,
          -0.8221228160708881,
          -0.11833507974795382,
          -0.7082229416000788,
          -0.41147897362469277,
          0.21120749768585592,
          -0.17360217077260565,
          0.4571571664428254,
          -0.9321237282992006
         ]
        }
       ],
       "layout": {
        "annotations": [
         {
          "showarrow": false,
          "text": "Python code:",
          "x": 0.005,
          "xref": "paper",
          "y": -0.002,
          "yref": "paper"
         }
        ],
        "hovermode": "closest",
        "margin": {
         "b": 20,
         "l": 5,
         "r": 5,
         "t": 40
        },
        "showlegend": false,
        "template": {
         "data": {
          "bar": [
           {
            "error_x": {
             "color": "#2a3f5f"
            },
            "error_y": {
             "color": "#2a3f5f"
            },
            "marker": {
             "line": {
              "color": "#E5ECF6",
              "width": 0.5
             },
             "pattern": {
              "fillmode": "overlay",
              "size": 10,
              "solidity": 0.2
             }
            },
            "type": "bar"
           }
          ],
          "barpolar": [
           {
            "marker": {
             "line": {
              "color": "#E5ECF6",
              "width": 0.5
             },
             "pattern": {
              "fillmode": "overlay",
              "size": 10,
              "solidity": 0.2
             }
            },
            "type": "barpolar"
           }
          ],
          "carpet": [
           {
            "aaxis": {
             "endlinecolor": "#2a3f5f",
             "gridcolor": "white",
             "linecolor": "white",
             "minorgridcolor": "white",
             "startlinecolor": "#2a3f5f"
            },
            "baxis": {
             "endlinecolor": "#2a3f5f",
             "gridcolor": "white",
             "linecolor": "white",
             "minorgridcolor": "white",
             "startlinecolor": "#2a3f5f"
            },
            "type": "carpet"
           }
          ],
          "choropleth": [
           {
            "colorbar": {
             "outlinewidth": 0,
             "ticks": ""
            },
            "type": "choropleth"
           }
          ],
          "contour": [
           {
            "colorbar": {
             "outlinewidth": 0,
             "ticks": ""
            },
            "colorscale": [
             [
              0,
              "#0d0887"
             ],
             [
              0.1111111111111111,
              "#46039f"
             ],
             [
              0.2222222222222222,
              "#7201a8"
             ],
             [
              0.3333333333333333,
              "#9c179e"
             ],
             [
              0.4444444444444444,
              "#bd3786"
             ],
             [
              0.5555555555555556,
              "#d8576b"
             ],
             [
              0.6666666666666666,
              "#ed7953"
             ],
             [
              0.7777777777777778,
              "#fb9f3a"
             ],
             [
              0.8888888888888888,
              "#fdca26"
             ],
             [
              1,
              "#f0f921"
             ]
            ],
            "type": "contour"
           }
          ],
          "contourcarpet": [
           {
            "colorbar": {
             "outlinewidth": 0,
             "ticks": ""
            },
            "type": "contourcarpet"
           }
          ],
          "heatmap": [
           {
            "colorbar": {
             "outlinewidth": 0,
             "ticks": ""
            },
            "colorscale": [
             [
              0,
              "#0d0887"
             ],
             [
              0.1111111111111111,
              "#46039f"
             ],
             [
              0.2222222222222222,
              "#7201a8"
             ],
             [
              0.3333333333333333,
              "#9c179e"
             ],
             [
              0.4444444444444444,
              "#bd3786"
             ],
             [
              0.5555555555555556,
              "#d8576b"
             ],
             [
              0.6666666666666666,
              "#ed7953"
             ],
             [
              0.7777777777777778,
              "#fb9f3a"
             ],
             [
              0.8888888888888888,
              "#fdca26"
             ],
             [
              1,
              "#f0f921"
             ]
            ],
            "type": "heatmap"
           }
          ],
          "heatmapgl": [
           {
            "colorbar": {
             "outlinewidth": 0,
             "ticks": ""
            },
            "colorscale": [
             [
              0,
              "#0d0887"
             ],
             [
              0.1111111111111111,
              "#46039f"
             ],
             [
              0.2222222222222222,
              "#7201a8"
             ],
             [
              0.3333333333333333,
              "#9c179e"
             ],
             [
              0.4444444444444444,
              "#bd3786"
             ],
             [
              0.5555555555555556,
              "#d8576b"
             ],
             [
              0.6666666666666666,
              "#ed7953"
             ],
             [
              0.7777777777777778,
              "#fb9f3a"
             ],
             [
              0.8888888888888888,
              "#fdca26"
             ],
             [
              1,
              "#f0f921"
             ]
            ],
            "type": "heatmapgl"
           }
          ],
          "histogram": [
           {
            "marker": {
             "pattern": {
              "fillmode": "overlay",
              "size": 10,
              "solidity": 0.2
             }
            },
            "type": "histogram"
           }
          ],
          "histogram2d": [
           {
            "colorbar": {
             "outlinewidth": 0,
             "ticks": ""
            },
            "colorscale": [
             [
              0,
              "#0d0887"
             ],
             [
              0.1111111111111111,
              "#46039f"
             ],
             [
              0.2222222222222222,
              "#7201a8"
             ],
             [
              0.3333333333333333,
              "#9c179e"
             ],
             [
              0.4444444444444444,
              "#bd3786"
             ],
             [
              0.5555555555555556,
              "#d8576b"
             ],
             [
              0.6666666666666666,
              "#ed7953"
             ],
             [
              0.7777777777777778,
              "#fb9f3a"
             ],
             [
              0.8888888888888888,
              "#fdca26"
             ],
             [
              1,
              "#f0f921"
             ]
            ],
            "type": "histogram2d"
           }
          ],
          "histogram2dcontour": [
           {
            "colorbar": {
             "outlinewidth": 0,
             "ticks": ""
            },
            "colorscale": [
             [
              0,
              "#0d0887"
             ],
             [
              0.1111111111111111,
              "#46039f"
             ],
             [
              0.2222222222222222,
              "#7201a8"
             ],
             [
              0.3333333333333333,
              "#9c179e"
             ],
             [
              0.4444444444444444,
              "#bd3786"
             ],
             [
              0.5555555555555556,
              "#d8576b"
             ],
             [
              0.6666666666666666,
              "#ed7953"
             ],
             [
              0.7777777777777778,
              "#fb9f3a"
             ],
             [
              0.8888888888888888,
              "#fdca26"
             ],
             [
              1,
              "#f0f921"
             ]
            ],
            "type": "histogram2dcontour"
           }
          ],
          "mesh3d": [
           {
            "colorbar": {
             "outlinewidth": 0,
             "ticks": ""
            },
            "type": "mesh3d"
           }
          ],
          "parcoords": [
           {
            "line": {
             "colorbar": {
              "outlinewidth": 0,
              "ticks": ""
             }
            },
            "type": "parcoords"
           }
          ],
          "pie": [
           {
            "automargin": true,
            "type": "pie"
           }
          ],
          "scatter": [
           {
            "fillpattern": {
             "fillmode": "overlay",
             "size": 10,
             "solidity": 0.2
            },
            "type": "scatter"
           }
          ],
          "scatter3d": [
           {
            "line": {
             "colorbar": {
              "outlinewidth": 0,
              "ticks": ""
             }
            },
            "marker": {
             "colorbar": {
              "outlinewidth": 0,
              "ticks": ""
             }
            },
            "type": "scatter3d"
           }
          ],
          "scattercarpet": [
           {
            "marker": {
             "colorbar": {
              "outlinewidth": 0,
              "ticks": ""
             }
            },
            "type": "scattercarpet"
           }
          ],
          "scattergeo": [
           {
            "marker": {
             "colorbar": {
              "outlinewidth": 0,
              "ticks": ""
             }
            },
            "type": "scattergeo"
           }
          ],
          "scattergl": [
           {
            "marker": {
             "colorbar": {
              "outlinewidth": 0,
              "ticks": ""
             }
            },
            "type": "scattergl"
           }
          ],
          "scattermapbox": [
           {
            "marker": {
             "colorbar": {
              "outlinewidth": 0,
              "ticks": ""
             }
            },
            "type": "scattermapbox"
           }
          ],
          "scatterpolar": [
           {
            "marker": {
             "colorbar": {
              "outlinewidth": 0,
              "ticks": ""
             }
            },
            "type": "scatterpolar"
           }
          ],
          "scatterpolargl": [
           {
            "marker": {
             "colorbar": {
              "outlinewidth": 0,
              "ticks": ""
             }
            },
            "type": "scatterpolargl"
           }
          ],
          "scatterternary": [
           {
            "marker": {
             "colorbar": {
              "outlinewidth": 0,
              "ticks": ""
             }
            },
            "type": "scatterternary"
           }
          ],
          "surface": [
           {
            "colorbar": {
             "outlinewidth": 0,
             "ticks": ""
            },
            "colorscale": [
             [
              0,
              "#0d0887"
             ],
             [
              0.1111111111111111,
              "#46039f"
             ],
             [
              0.2222222222222222,
              "#7201a8"
             ],
             [
              0.3333333333333333,
              "#9c179e"
             ],
             [
              0.4444444444444444,
              "#bd3786"
             ],
             [
              0.5555555555555556,
              "#d8576b"
             ],
             [
              0.6666666666666666,
              "#ed7953"
             ],
             [
              0.7777777777777778,
              "#fb9f3a"
             ],
             [
              0.8888888888888888,
              "#fdca26"
             ],
             [
              1,
              "#f0f921"
             ]
            ],
            "type": "surface"
           }
          ],
          "table": [
           {
            "cells": {
             "fill": {
              "color": "#EBF0F8"
             },
             "line": {
              "color": "white"
             }
            },
            "header": {
             "fill": {
              "color": "#C8D4E3"
             },
             "line": {
              "color": "white"
             }
            },
            "type": "table"
           }
          ]
         },
         "layout": {
          "annotationdefaults": {
           "arrowcolor": "#2a3f5f",
           "arrowhead": 0,
           "arrowwidth": 1
          },
          "autotypenumbers": "strict",
          "coloraxis": {
           "colorbar": {
            "outlinewidth": 0,
            "ticks": ""
           }
          },
          "colorscale": {
           "diverging": [
            [
             0,
             "#8e0152"
            ],
            [
             0.1,
             "#c51b7d"
            ],
            [
             0.2,
             "#de77ae"
            ],
            [
             0.3,
             "#f1b6da"
            ],
            [
             0.4,
             "#fde0ef"
            ],
            [
             0.5,
             "#f7f7f7"
            ],
            [
             0.6,
             "#e6f5d0"
            ],
            [
             0.7,
             "#b8e186"
            ],
            [
             0.8,
             "#7fbc41"
            ],
            [
             0.9,
             "#4d9221"
            ],
            [
             1,
             "#276419"
            ]
           ],
           "sequential": [
            [
             0,
             "#0d0887"
            ],
            [
             0.1111111111111111,
             "#46039f"
            ],
            [
             0.2222222222222222,
             "#7201a8"
            ],
            [
             0.3333333333333333,
             "#9c179e"
            ],
            [
             0.4444444444444444,
             "#bd3786"
            ],
            [
             0.5555555555555556,
             "#d8576b"
            ],
            [
             0.6666666666666666,
             "#ed7953"
            ],
            [
             0.7777777777777778,
             "#fb9f3a"
            ],
            [
             0.8888888888888888,
             "#fdca26"
            ],
            [
             1,
             "#f0f921"
            ]
           ],
           "sequentialminus": [
            [
             0,
             "#0d0887"
            ],
            [
             0.1111111111111111,
             "#46039f"
            ],
            [
             0.2222222222222222,
             "#7201a8"
            ],
            [
             0.3333333333333333,
             "#9c179e"
            ],
            [
             0.4444444444444444,
             "#bd3786"
            ],
            [
             0.5555555555555556,
             "#d8576b"
            ],
            [
             0.6666666666666666,
             "#ed7953"
            ],
            [
             0.7777777777777778,
             "#fb9f3a"
            ],
            [
             0.8888888888888888,
             "#fdca26"
            ],
            [
             1,
             "#f0f921"
            ]
           ]
          },
          "colorway": [
           "#636efa",
           "#EF553B",
           "#00cc96",
           "#ab63fa",
           "#FFA15A",
           "#19d3f3",
           "#FF6692",
           "#B6E880",
           "#FF97FF",
           "#FECB52"
          ],
          "font": {
           "color": "#2a3f5f"
          },
          "geo": {
           "bgcolor": "white",
           "lakecolor": "white",
           "landcolor": "#E5ECF6",
           "showlakes": true,
           "showland": true,
           "subunitcolor": "white"
          },
          "hoverlabel": {
           "align": "left"
          },
          "hovermode": "closest",
          "mapbox": {
           "style": "light"
          },
          "paper_bgcolor": "white",
          "plot_bgcolor": "#E5ECF6",
          "polar": {
           "angularaxis": {
            "gridcolor": "white",
            "linecolor": "white",
            "ticks": ""
           },
           "bgcolor": "#E5ECF6",
           "radialaxis": {
            "gridcolor": "white",
            "linecolor": "white",
            "ticks": ""
           }
          },
          "scene": {
           "xaxis": {
            "backgroundcolor": "#E5ECF6",
            "gridcolor": "white",
            "gridwidth": 2,
            "linecolor": "white",
            "showbackground": true,
            "ticks": "",
            "zerolinecolor": "white"
           },
           "yaxis": {
            "backgroundcolor": "#E5ECF6",
            "gridcolor": "white",
            "gridwidth": 2,
            "linecolor": "white",
            "showbackground": true,
            "ticks": "",
            "zerolinecolor": "white"
           },
           "zaxis": {
            "backgroundcolor": "#E5ECF6",
            "gridcolor": "white",
            "gridwidth": 2,
            "linecolor": "white",
            "showbackground": true,
            "ticks": "",
            "zerolinecolor": "white"
           }
          },
          "shapedefaults": {
           "line": {
            "color": "#2a3f5f"
           }
          },
          "ternary": {
           "aaxis": {
            "gridcolor": "white",
            "linecolor": "white",
            "ticks": ""
           },
           "baxis": {
            "gridcolor": "white",
            "linecolor": "white",
            "ticks": ""
           },
           "bgcolor": "#E5ECF6",
           "caxis": {
            "gridcolor": "white",
            "linecolor": "white",
            "ticks": ""
           }
          },
          "title": {
           "x": 0.05
          },
          "xaxis": {
           "automargin": true,
           "gridcolor": "white",
           "linecolor": "white",
           "ticks": "",
           "title": {
            "standoff": 15
           },
           "zerolinecolor": "white",
           "zerolinewidth": 2
          },
          "yaxis": {
           "automargin": true,
           "gridcolor": "white",
           "linecolor": "white",
           "ticks": "",
           "title": {
            "standoff": 15
           },
           "zerolinecolor": "white",
           "zerolinewidth": 2
          }
         }
        },
        "title": {
         "font": {
          "size": 16
         },
         "text": "<br>Network graph made with Python<br>"
        },
        "xaxis": {
         "showgrid": false,
         "showticklabels": false,
         "zeroline": false
        },
        "yaxis": {
         "showgrid": false,
         "showticklabels": false,
         "zeroline": false
        }
       }
      },
      "text/html": [
       "<div>                            <div id=\"d3472093-4641-4e14-95a3-64aca2d84a40\" class=\"plotly-graph-div\" style=\"height:525px; width:100%;\"></div>            <script type=\"text/javascript\">                require([\"plotly\"], function(Plotly) {                    window.PLOTLYENV=window.PLOTLYENV || {};                                    if (document.getElementById(\"d3472093-4641-4e14-95a3-64aca2d84a40\")) {                    Plotly.newPlot(                        \"d3472093-4641-4e14-95a3-64aca2d84a40\",                        [{\"hoverinfo\":\"none\",\"line\":{\"color\":\"#888\",\"width\":0.5},\"mode\":\"lines\",\"x\":[-0.6300467165584327,0.34113398339877343,null,-0.6300467165584327,-0.6290336129591064,null,-0.3660211060009104,-1.0366276944728665,null,-0.3660211060009104,0.6541650203203455,null,-1.0251566154568432,-0.10296613415518972,null,-1.0251566154568432,-0.111577609342547,null,-0.9270610732474872,-0.758186928278795,null,-0.9270610732474872,-0.6361413736071324,null,1.1168233490289952,0.1979384072729424,null,1.1168233490289952,0.5018127444092477,null,-0.44389056500892754,-0.7939877094519217,null,-0.44389056500892754,-0.111577609342547,null,1.0719746723206354,-0.10296613415518972,null,1.0719746723206354,0.25718620664075453,null,-0.05019000791496315,-0.44126694677362355,null,-0.05019000791496315,1.0440330432220293,null,-0.16745449902469445,-0.3361802584581234,null,-0.16745449902469445,-0.39339722449043685,null,-1.0366276944728665,-0.3375191622264385,null,-1.0366276944728665,-0.27996728952999944,null,-1.0366276944728665,-0.1081512694751486,null,-1.0366276944728665,-0.2887577370149319,null,0.7067105922697108,-0.3375191622264385,null,0.7067105922697108,0.018182138979749105,null,-0.6391861224559108,-0.16794789241641503,null,-0.6391861224559108,-0.5200939387969148,null,-0.6391861224559108,-0.4982100873208997,null,0.15449173529107801,0.9862066267413565,null,0.15449173529107801,0.053981725335467856,null,0.07467895544247631,-0.7407155014340618,null,0.07467895544247631,0.018182138979749105,null,-0.758186928278795,0.09700968138102622,null,-0.758186928278795,0.25718620664075453,null,-0.758186928278795,-0.042791823086446884,null,-0.758186928278795,-0.1081512694751486,null,-0.4982100873208997,-0.9639640647892703,null,0.33359413479872907,-0.2887577370149319,null,0.33359413479872907,0.5018127444092477,null,0.22955980356034497,-0.33455144061781367,null,0.22955980356034497,-0.10296613415518972,null,-0.27996728952999944,-0.7939877094519217,null,0.17751891353258895,-0.803733748719912,null,0.17751891353258895,-0.6361413736071324,null,0.17751891353258895,-0.7407155014340618,null,0.17751891353258895,0.9862066267413565,null,0.17751891353258895,0.6541650203203455,null,0.4237771249703116,-0.111577609342547,null,0.4237771249703116,0.29219869754378525,null,-0.33455144061781367,-0.9639640647892703,null,-0.9639640647892703,0.29219869754378525,null,-0.9639640647892703,-0.2706458515235452,null,-0.9639640647892703,-0.6247449291644972,null,0.053981725335467856,0.9240419915943758,null,-0.49989476931245375,-0.111577609342547,null,-0.49989476931245375,-0.5200939387969148,null,-0.01306908327492092,-0.39339722449043685,null,-0.01306908327492092,-1.0244667328192543,null,-0.6290336129591064,0.5018127444092477,null,-1.0244667328192543,-0.16290277017240984,null,0.9240419915943758,0.018182138979749105,null,-0.2706458515235452,-0.042791823086446884,null,0.8485279879050263,0.23257114336491932,null,0.8485279879050263,-0.10296613415518972,null,0.23257114336491932,-0.7939877094519217,null,0.06466423612283759,-0.16290277017240984,null,0.06466423612283759,-0.803733748719912,null,-0.16794789241641503,0.34113398339877343,null,0.018182138979749105,0.1979384072729424,null,-0.44126694677362355,-0.111577609342547,null,-0.7939877094519217,0.09700968138102622,null,-0.7939877094519217,-0.6247449291644972,null],\"y\":[-0.4873322080979492,-0.11833507974795382,null,-0.4873322080979492,0.5017838416874751,null,0.12871138394987622,-0.5843441130562114,null,0.12871138394987622,-0.03464777179076784,null,-0.6637041779255656,0.15954665948249483,null,-0.6637041779255656,-0.9321237282992006,null,1.0489688788873326,0.07501254107355547,null,1.0489688788873326,0.009165151840220265,null,-0.3719603575949976,0.21120749768585592,null,-0.3719603575949976,0.38401293856776675,null,0.09259911178416509,-0.7082229416000788,null,0.09259911178416509,-0.9321237282992006,null,0.1654531859033024,0.15954665948249483,null,0.1654531859033024,-0.3832674165000383,null,-0.9096553120603093,-1.85095292319652,null,-0.9096553120603093,-0.7284742141667798,null,1.5139406940221807,0.4692297529105078,null,1.5139406940221807,0.5038282232395608,null,-0.5843441130562114,0.15147474966923247,null,-0.5843441130562114,0.09389935313279638,null,-0.5843441130562114,-0.7228796374160281,null,-0.5843441130562114,0.1484525241690388,null,0.15392614869434323,0.15147474966923247,null,0.15392614869434323,-0.6655163638673108,null,-0.09950958309872979,-1.0101570913825428,null,-0.09950958309872979,-1.1276465105302333,null,-0.09950958309872979,0.9057511502462012,null,0.6815528575491008,0.27914165508918054,null,0.6815528575491008,-0.39024062096110457,null,0.28279562983936307,-0.7034637704239378,null,0.28279562983936307,-0.6655163638673108,null,0.07501254107355547,-0.17360217077260565,null,0.07501254107355547,-0.3832674165000383,null,0.07501254107355547,-0.6100981565979562,null,0.07501254107355547,-0.7228796374160281,null,0.9057511502462012,-0.1955505832808527,null,-0.6712331569721302,0.1484525241690388,null,-0.6712331569721302,0.38401293856776675,null,1.137170348478486,0.3768179341725575,null,1.137170348478486,0.15954665948249483,null,0.09389935313279638,-0.7082229416000788,null,-0.7042278651604669,-0.41147897362469277,null,-0.7042278651604669,0.009165151840220265,null,-0.7042278651604669,-0.7034637704239378,null,-0.7042278651604669,0.27914165508918054,null,-0.7042278651604669,-0.03464777179076784,null,-0.21528979007012253,-0.9321237282992006,null,-0.21528979007012253,0.5755785078119048,null,0.3768179341725575,-0.1955505832808527,null,-0.1955505832808527,0.5755785078119048,null,-0.1955505832808527,0.34909314003290937,null,-0.1955505832808527,0.4571571664428254,null,-0.39024062096110457,-0.9486866598849079,null,-0.06208850718297069,-0.9321237282992006,null,-0.06208850718297069,-1.1276465105302333,null,-0.4464917485442589,0.5038282232395608,null,-0.4464917485442589,-0.3236612300820328,null,0.5017838416874751,0.38401293856776675,null,-0.3236612300820328,-0.8221228160708881,null,-0.9486866598849079,-0.6655163638673108,null,0.34909314003290937,-0.6100981565979562,null,0.5498933612012097,-0.3681404695217204,null,0.5498933612012097,0.15954665948249483,null,-0.3681404695217204,-0.7082229416000788,null,0.13938585553678917,-0.8221228160708881,null,0.13938585553678917,-0.41147897362469277,null,-1.0101570913825428,-0.11833507974795382,null,-0.6655163638673108,0.21120749768585592,null,-1.85095292319652,-0.9321237282992006,null,-0.7082229416000788,-0.17360217077260565,null,-0.7082229416000788,0.4571571664428254,null],\"type\":\"scatter\"},{\"hoverinfo\":[\"x\"],\"line\":{\"width\":2},\"marker\":{\"showscale\":true},\"mode\":\"markers\",\"x\":[-0.6300467165584327,-0.3660211060009104,-1.0251566154568432,-0.9270610732474872,1.1168233490289952,-0.44389056500892754,1.0719746723206354,-0.05019000791496315,-0.16745449902469445,-1.0366276944728665,0.7067105922697108,-0.6391861224559108,0.15449173529107801,0.07467895544247631,-0.758186928278795,-0.4982100873208997,0.33359413479872907,0.22955980356034497,-0.27996728952999944,-0.2887577370149319,0.17751891353258895,0.4237771249703116,-0.33455144061781367,-0.9639640647892703,0.053981725335467856,-0.49989476931245375,1.0440330432220293,-0.01306908327492092,-0.1081512694751486,-0.6290336129591064,-1.0244667328192543,0.9240419915943758,0.6541650203203455,0.25718620664075453,-0.6361413736071324,-0.2706458515235452,0.8485279879050263,-0.10296613415518972,0.5018127444092477,-0.3361802584581234,0.23257114336491932,0.06466423612283759,-0.16794789241641503,-0.7407155014340618,-0.042791823086446884,0.018182138979749105,-0.39339722449043685,0.9862066267413565,0.29219869754378525,-0.5200939387969148,-0.3375191622264385,-0.44126694677362355,-0.16290277017240984,0.34113398339877343,-0.7939877094519217,-0.803733748719912,0.1979384072729424,0.09700968138102622,-0.6247449291644972,-0.111577609342547],\"y\":[-0.4873322080979492,0.12871138394987622,-0.6637041779255656,1.0489688788873326,-0.3719603575949976,0.09259911178416509,0.1654531859033024,-0.9096553120603093,1.5139406940221807,-0.5843441130562114,0.15392614869434323,-0.09950958309872979,0.6815528575491008,0.28279562983936307,0.07501254107355547,0.9057511502462012,-0.6712331569721302,1.137170348478486,0.09389935313279638,0.1484525241690388,-0.7042278651604669,-0.21528979007012253,0.3768179341725575,-0.1955505832808527,-0.39024062096110457,-0.06208850718297069,-0.7284742141667798,-0.4464917485442589,-0.7228796374160281,0.5017838416874751,-0.3236612300820328,-0.9486866598849079,-0.03464777179076784,-0.3832674165000383,0.009165151840220265,0.34909314003290937,0.5498933612012097,0.15954665948249483,0.38401293856776675,0.4692297529105078,-0.3681404695217204,0.13938585553678917,-1.0101570913825428,-0.7034637704239378,-0.6100981565979562,-0.6655163638673108,0.5038282232395608,0.27914165508918054,0.5755785078119048,-1.1276465105302333,0.15147474966923247,-1.85095292319652,-0.8221228160708881,-0.11833507974795382,-0.7082229416000788,-0.41147897362469277,0.21120749768585592,-0.17360217077260565,0.4571571664428254,-0.9321237282992006],\"type\":\"scatter\"}],                        {\"annotations\":[{\"showarrow\":false,\"text\":\"Python code:\",\"x\":0.005,\"xref\":\"paper\",\"y\":-0.002,\"yref\":\"paper\"}],\"hovermode\":\"closest\",\"margin\":{\"b\":20,\"l\":5,\"r\":5,\"t\":40},\"showlegend\":false,\"title\":{\"font\":{\"size\":16},\"text\":\"<br>Network graph made with Python<br>\"},\"xaxis\":{\"showgrid\":false,\"showticklabels\":false,\"zeroline\":false},\"yaxis\":{\"showgrid\":false,\"showticklabels\":false,\"zeroline\":false},\"template\":{\"data\":{\"histogram2dcontour\":[{\"type\":\"histogram2dcontour\",\"colorbar\":{\"outlinewidth\":0,\"ticks\":\"\"},\"colorscale\":[[0.0,\"#0d0887\"],[0.1111111111111111,\"#46039f\"],[0.2222222222222222,\"#7201a8\"],[0.3333333333333333,\"#9c179e\"],[0.4444444444444444,\"#bd3786\"],[0.5555555555555556,\"#d8576b\"],[0.6666666666666666,\"#ed7953\"],[0.7777777777777778,\"#fb9f3a\"],[0.8888888888888888,\"#fdca26\"],[1.0,\"#f0f921\"]]}],\"choropleth\":[{\"type\":\"choropleth\",\"colorbar\":{\"outlinewidth\":0,\"ticks\":\"\"}}],\"histogram2d\":[{\"type\":\"histogram2d\",\"colorbar\":{\"outlinewidth\":0,\"ticks\":\"\"},\"colorscale\":[[0.0,\"#0d0887\"],[0.1111111111111111,\"#46039f\"],[0.2222222222222222,\"#7201a8\"],[0.3333333333333333,\"#9c179e\"],[0.4444444444444444,\"#bd3786\"],[0.5555555555555556,\"#d8576b\"],[0.6666666666666666,\"#ed7953\"],[0.7777777777777778,\"#fb9f3a\"],[0.8888888888888888,\"#fdca26\"],[1.0,\"#f0f921\"]]}],\"heatmap\":[{\"type\":\"heatmap\",\"colorbar\":{\"outlinewidth\":0,\"ticks\":\"\"},\"colorscale\":[[0.0,\"#0d0887\"],[0.1111111111111111,\"#46039f\"],[0.2222222222222222,\"#7201a8\"],[0.3333333333333333,\"#9c179e\"],[0.4444444444444444,\"#bd3786\"],[0.5555555555555556,\"#d8576b\"],[0.6666666666666666,\"#ed7953\"],[0.7777777777777778,\"#fb9f3a\"],[0.8888888888888888,\"#fdca26\"],[1.0,\"#f0f921\"]]}],\"heatmapgl\":[{\"type\":\"heatmapgl\",\"colorbar\":{\"outlinewidth\":0,\"ticks\":\"\"},\"colorscale\":[[0.0,\"#0d0887\"],[0.1111111111111111,\"#46039f\"],[0.2222222222222222,\"#7201a8\"],[0.3333333333333333,\"#9c179e\"],[0.4444444444444444,\"#bd3786\"],[0.5555555555555556,\"#d8576b\"],[0.6666666666666666,\"#ed7953\"],[0.7777777777777778,\"#fb9f3a\"],[0.8888888888888888,\"#fdca26\"],[1.0,\"#f0f921\"]]}],\"contourcarpet\":[{\"type\":\"contourcarpet\",\"colorbar\":{\"outlinewidth\":0,\"ticks\":\"\"}}],\"contour\":[{\"type\":\"contour\",\"colorbar\":{\"outlinewidth\":0,\"ticks\":\"\"},\"colorscale\":[[0.0,\"#0d0887\"],[0.1111111111111111,\"#46039f\"],[0.2222222222222222,\"#7201a8\"],[0.3333333333333333,\"#9c179e\"],[0.4444444444444444,\"#bd3786\"],[0.5555555555555556,\"#d8576b\"],[0.6666666666666666,\"#ed7953\"],[0.7777777777777778,\"#fb9f3a\"],[0.8888888888888888,\"#fdca26\"],[1.0,\"#f0f921\"]]}],\"surface\":[{\"type\":\"surface\",\"colorbar\":{\"outlinewidth\":0,\"ticks\":\"\"},\"colorscale\":[[0.0,\"#0d0887\"],[0.1111111111111111,\"#46039f\"],[0.2222222222222222,\"#7201a8\"],[0.3333333333333333,\"#9c179e\"],[0.4444444444444444,\"#bd3786\"],[0.5555555555555556,\"#d8576b\"],[0.6666666666666666,\"#ed7953\"],[0.7777777777777778,\"#fb9f3a\"],[0.8888888888888888,\"#fdca26\"],[1.0,\"#f0f921\"]]}],\"mesh3d\":[{\"type\":\"mesh3d\",\"colorbar\":{\"outlinewidth\":0,\"ticks\":\"\"}}],\"scatter\":[{\"fillpattern\":{\"fillmode\":\"overlay\",\"size\":10,\"solidity\":0.2},\"type\":\"scatter\"}],\"parcoords\":[{\"type\":\"parcoords\",\"line\":{\"colorbar\":{\"outlinewidth\":0,\"ticks\":\"\"}}}],\"scatterpolargl\":[{\"type\":\"scatterpolargl\",\"marker\":{\"colorbar\":{\"outlinewidth\":0,\"ticks\":\"\"}}}],\"bar\":[{\"error_x\":{\"color\":\"#2a3f5f\"},\"error_y\":{\"color\":\"#2a3f5f\"},\"marker\":{\"line\":{\"color\":\"#E5ECF6\",\"width\":0.5},\"pattern\":{\"fillmode\":\"overlay\",\"size\":10,\"solidity\":0.2}},\"type\":\"bar\"}],\"scattergeo\":[{\"type\":\"scattergeo\",\"marker\":{\"colorbar\":{\"outlinewidth\":0,\"ticks\":\"\"}}}],\"scatterpolar\":[{\"type\":\"scatterpolar\",\"marker\":{\"colorbar\":{\"outlinewidth\":0,\"ticks\":\"\"}}}],\"histogram\":[{\"marker\":{\"pattern\":{\"fillmode\":\"overlay\",\"size\":10,\"solidity\":0.2}},\"type\":\"histogram\"}],\"scattergl\":[{\"type\":\"scattergl\",\"marker\":{\"colorbar\":{\"outlinewidth\":0,\"ticks\":\"\"}}}],\"scatter3d\":[{\"type\":\"scatter3d\",\"line\":{\"colorbar\":{\"outlinewidth\":0,\"ticks\":\"\"}},\"marker\":{\"colorbar\":{\"outlinewidth\":0,\"ticks\":\"\"}}}],\"scattermapbox\":[{\"type\":\"scattermapbox\",\"marker\":{\"colorbar\":{\"outlinewidth\":0,\"ticks\":\"\"}}}],\"scatterternary\":[{\"type\":\"scatterternary\",\"marker\":{\"colorbar\":{\"outlinewidth\":0,\"ticks\":\"\"}}}],\"scattercarpet\":[{\"type\":\"scattercarpet\",\"marker\":{\"colorbar\":{\"outlinewidth\":0,\"ticks\":\"\"}}}],\"carpet\":[{\"aaxis\":{\"endlinecolor\":\"#2a3f5f\",\"gridcolor\":\"white\",\"linecolor\":\"white\",\"minorgridcolor\":\"white\",\"startlinecolor\":\"#2a3f5f\"},\"baxis\":{\"endlinecolor\":\"#2a3f5f\",\"gridcolor\":\"white\",\"linecolor\":\"white\",\"minorgridcolor\":\"white\",\"startlinecolor\":\"#2a3f5f\"},\"type\":\"carpet\"}],\"table\":[{\"cells\":{\"fill\":{\"color\":\"#EBF0F8\"},\"line\":{\"color\":\"white\"}},\"header\":{\"fill\":{\"color\":\"#C8D4E3\"},\"line\":{\"color\":\"white\"}},\"type\":\"table\"}],\"barpolar\":[{\"marker\":{\"line\":{\"color\":\"#E5ECF6\",\"width\":0.5},\"pattern\":{\"fillmode\":\"overlay\",\"size\":10,\"solidity\":0.2}},\"type\":\"barpolar\"}],\"pie\":[{\"automargin\":true,\"type\":\"pie\"}]},\"layout\":{\"autotypenumbers\":\"strict\",\"colorway\":[\"#636efa\",\"#EF553B\",\"#00cc96\",\"#ab63fa\",\"#FFA15A\",\"#19d3f3\",\"#FF6692\",\"#B6E880\",\"#FF97FF\",\"#FECB52\"],\"font\":{\"color\":\"#2a3f5f\"},\"hovermode\":\"closest\",\"hoverlabel\":{\"align\":\"left\"},\"paper_bgcolor\":\"white\",\"plot_bgcolor\":\"#E5ECF6\",\"polar\":{\"bgcolor\":\"#E5ECF6\",\"angularaxis\":{\"gridcolor\":\"white\",\"linecolor\":\"white\",\"ticks\":\"\"},\"radialaxis\":{\"gridcolor\":\"white\",\"linecolor\":\"white\",\"ticks\":\"\"}},\"ternary\":{\"bgcolor\":\"#E5ECF6\",\"aaxis\":{\"gridcolor\":\"white\",\"linecolor\":\"white\",\"ticks\":\"\"},\"baxis\":{\"gridcolor\":\"white\",\"linecolor\":\"white\",\"ticks\":\"\"},\"caxis\":{\"gridcolor\":\"white\",\"linecolor\":\"white\",\"ticks\":\"\"}},\"coloraxis\":{\"colorbar\":{\"outlinewidth\":0,\"ticks\":\"\"}},\"colorscale\":{\"sequential\":[[0.0,\"#0d0887\"],[0.1111111111111111,\"#46039f\"],[0.2222222222222222,\"#7201a8\"],[0.3333333333333333,\"#9c179e\"],[0.4444444444444444,\"#bd3786\"],[0.5555555555555556,\"#d8576b\"],[0.6666666666666666,\"#ed7953\"],[0.7777777777777778,\"#fb9f3a\"],[0.8888888888888888,\"#fdca26\"],[1.0,\"#f0f921\"]],\"sequentialminus\":[[0.0,\"#0d0887\"],[0.1111111111111111,\"#46039f\"],[0.2222222222222222,\"#7201a8\"],[0.3333333333333333,\"#9c179e\"],[0.4444444444444444,\"#bd3786\"],[0.5555555555555556,\"#d8576b\"],[0.6666666666666666,\"#ed7953\"],[0.7777777777777778,\"#fb9f3a\"],[0.8888888888888888,\"#fdca26\"],[1.0,\"#f0f921\"]],\"diverging\":[[0,\"#8e0152\"],[0.1,\"#c51b7d\"],[0.2,\"#de77ae\"],[0.3,\"#f1b6da\"],[0.4,\"#fde0ef\"],[0.5,\"#f7f7f7\"],[0.6,\"#e6f5d0\"],[0.7,\"#b8e186\"],[0.8,\"#7fbc41\"],[0.9,\"#4d9221\"],[1,\"#276419\"]]},\"xaxis\":{\"gridcolor\":\"white\",\"linecolor\":\"white\",\"ticks\":\"\",\"title\":{\"standoff\":15},\"zerolinecolor\":\"white\",\"automargin\":true,\"zerolinewidth\":2},\"yaxis\":{\"gridcolor\":\"white\",\"linecolor\":\"white\",\"ticks\":\"\",\"title\":{\"standoff\":15},\"zerolinecolor\":\"white\",\"automargin\":true,\"zerolinewidth\":2},\"scene\":{\"xaxis\":{\"backgroundcolor\":\"#E5ECF6\",\"gridcolor\":\"white\",\"linecolor\":\"white\",\"showbackground\":true,\"ticks\":\"\",\"zerolinecolor\":\"white\",\"gridwidth\":2},\"yaxis\":{\"backgroundcolor\":\"#E5ECF6\",\"gridcolor\":\"white\",\"linecolor\":\"white\",\"showbackground\":true,\"ticks\":\"\",\"zerolinecolor\":\"white\",\"gridwidth\":2},\"zaxis\":{\"backgroundcolor\":\"#E5ECF6\",\"gridcolor\":\"white\",\"linecolor\":\"white\",\"showbackground\":true,\"ticks\":\"\",\"zerolinecolor\":\"white\",\"gridwidth\":2}},\"shapedefaults\":{\"line\":{\"color\":\"#2a3f5f\"}},\"annotationdefaults\":{\"arrowcolor\":\"#2a3f5f\",\"arrowhead\":0,\"arrowwidth\":1},\"geo\":{\"bgcolor\":\"white\",\"landcolor\":\"#E5ECF6\",\"subunitcolor\":\"white\",\"showland\":true,\"showlakes\":true,\"lakecolor\":\"white\"},\"title\":{\"x\":0.05},\"mapbox\":{\"style\":\"light\"}}}},                        {\"responsive\": true}                    ).then(function(){\n",
       "                            \n",
       "var gd = document.getElementById('d3472093-4641-4e14-95a3-64aca2d84a40');\n",
       "var x = new MutationObserver(function (mutations, observer) {{\n",
       "        var display = window.getComputedStyle(gd).display;\n",
       "        if (!display || display === 'none') {{\n",
       "            console.log([gd, 'removed!']);\n",
       "            Plotly.purge(gd);\n",
       "            observer.disconnect();\n",
       "        }}\n",
       "}});\n",
       "\n",
       "// Listen for the removal of the full notebook cells\n",
       "var notebookContainer = gd.closest('#notebook-container');\n",
       "if (notebookContainer) {{\n",
       "    x.observe(notebookContainer, {childList: true});\n",
       "}}\n",
       "\n",
       "// Listen for the clearing of the current output cell\n",
       "var outputEl = gd.closest('.output');\n",
       "if (outputEl) {{\n",
       "    x.observe(outputEl, {childList: true});\n",
       "}}\n",
       "\n",
       "                        })                };                });            </script>        </div>"
      ]
     },
     "metadata": {},
     "output_type": "display_data"
    }
   ],
   "source": [
    "fig = go.Figure(data=[edge_trace, node_trace],\n",
    "                layout=go.Layout(\n",
    "                    title='<br>Network graph made with Python<br>',\n",
    "                    titlefont_size=16,\n",
    "                    showlegend=False,\n",
    "                    hovermode='closest',\n",
    "                    margin=dict(b=20,l=5,r=5,t=40),\n",
    "                    annotations=[ dict(\n",
    "                        text=\"Python code:\",\n",
    "                        showarrow=False,\n",
    "                        xref=\"paper\", yref=\"paper\",\n",
    "                        x=0.005, y=-0.002 ) ],\n",
    "                    xaxis=dict(showgrid=False, zeroline=False, showticklabels=False),\n",
    "                    yaxis=dict(showgrid=False, zeroline=False, showticklabels=False))\n",
    "                )\n",
    "fig.show()"
   ]
  },
  {
   "cell_type": "code",
   "execution_count": null,
   "metadata": {
    "collapsed": false
   },
   "outputs": [],
   "source": [
    "\n",
    "\n",
    "def explore():\n",
    "    if time <=0:\n",
    "        return\n",
    "    for n in neighbours:\n",
    "        if n visited: continue\n",
    "        if time-cost(n) < 0: continue\n",
    "        explore(n, time-cost(t))\n",
    "\n",
    "def get_neighbors(n):\n",
    "    neighbours = []\n",
    "    for n2 in all_nodes:\n",
    "        shortest = find_shortest(n, n2)\n",
    "        for p in shortest:\n",
    "            if flow_rate_of(p) < max_flow:\n",
    "\n",
    "                scontinue\n",
    "            else:\n",
    "                max_flow = flow_rate_of(p)\n"
   ]
  }
 ],
 "metadata": {
  "kernelspec": {
   "display_name": "jenv",
   "language": "python",
   "name": "python3"
  },
  "language_info": {
   "codemirror_mode": {
    "name": "ipython",
    "version": 3
   },
   "file_extension": ".py",
   "mimetype": "text/x-python",
   "name": "python",
   "nbconvert_exporter": "python",
   "pygments_lexer": "ipython3",
   "version": "3.9.7"
  },
  "vscode": {
   "interpreter": {
    "hash": "a6df720517243887f81f829574e18eed6582ce87175ffd531d5fa99bc43729cc"
   }
  }
 },
 "nbformat": 4,
 "nbformat_minor": 0
}
